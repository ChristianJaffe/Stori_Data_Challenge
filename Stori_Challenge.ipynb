{
 "cells": [
  {
   "cell_type": "markdown",
   "id": "fbdb0316",
   "metadata": {},
   "source": [
    "# Stori Data Science Challenge\n",
    "Christian Jaffé Alarcón Acosta"
   ]
  },
  {
   "cell_type": "markdown",
   "id": "6873ae23",
   "metadata": {},
   "source": [
    "## About the dataset"
   ]
  },
  {
   "cell_type": "markdown",
   "id": "4ddfbc6b",
   "metadata": {},
   "source": [
    "We'll be working on a fake credit card dataset at a customer level with 22 behavioral variables"
   ]
  },
  {
   "cell_type": "markdown",
   "id": "89c91708",
   "metadata": {},
   "source": [
    "| Variable                         | Description                                                                                                       |\n",
    "| :------------------------------- | :---------------------------------------------------------------------------------------------------------------- |\n",
    "| CUST_ID                          | Identification of Credit Card holder (Categorical)                                                                |\n",
    "| BALANCE                          | Balance amount left in their account to make purchases                                                            |\n",
    "| BALANCE_FREQUENCY                | How frequently the Balance is updated, score between 0 and 1 (1 = frequently updated, 0 = not frequently updated)   |\n",
    "| PURCHASES                        | Amount of purchases made from account                                                                             |\n",
    "| ONEOFF_PURCHASES                 | Maximum purchase amount done in one-go                                                                            |\n",
    "| INSTALLMENTS_PURCHASES           | Amount of purchase done in installment                                                                            |\n",
    "| CASH_ADVANCE                     | Cash in advance given by the user                                                                                 |\n",
    "| PURCHASES_FREQUENCY              | How frequently the Purchases are being made, score between 0 and 1 (1 = frequently purchased, 0 = not frequently purchased) |\n",
    "| ONEOFFPURCHASESFREQUENCY         | How frequently Purchases are happening in one-go (1 = frequently purchased, 0 = not frequently purchased)         |\n",
    "| PURCHASESINSTALLMENTSFREQUENCY | How frequently purchases in installments are being done (1 = frequently done, 0 = not frequently done)              |\n",
    "| CASHADVANCEFREQUENCY             | How frequently the cash in advance being paid                                                                     |\n",
    "| CASHADVANCETRX                   | Number of Transactions made with \"Cash in Advanced\"                                                               |\n",
    "| PURCHASES_TRX                    | Number of purchase transactions made                                                                              |\n",
    "| CREDIT_LIMIT                     | Limit of Credit Card for user                                                                                     |\n",
    "| PAYMENTS                         | Amount of Payment done by user                                                                                    |\n",
    "| MINIMUM_PAYMENTS                 | Minimum amount of payments made by user                                                                           |\n",
    "| PRCFULLPAYMENT                   | Percent of full payment paid by user                                                                              |\n",
    "| TENURE                           | Tenure of credit card service for user                                                                            |\n",
    "| ACTIVATED_DATE                | Date of activation                                                |\n",
    "| LAST_PAYMENT_DATE                     | Date of the last payment                                                                                      |\n",
    "| FRAUD                           | Binary variable that indicates fraud or not                                                       |"
   ]
  },
  {
   "cell_type": "code",
   "execution_count": 1,
   "id": "f607640e",
   "metadata": {},
   "outputs": [],
   "source": [
    "#Import necessary libraries\n",
    "\n",
    "import pandas as pd\n",
    "import numpy as np\n",
    "import matplotlib.pyplot as plt\n",
    "import seaborn as sns\n",
    "from sklearn.model_selection import train_test_split\n",
    "from sklearn.linear_model import LogisticRegression\n",
    "# Import XGBoost\n",
    "try:\n",
    "    from xgboost import XGBClassifier\n",
    "except ImportError:\n",
    "    XGBClassifier = None\n",
    "\n",
    "# Import classes from model_utils.py\n",
    "from model_utils import FraudModelTrainer, create_preprocessor\n",
    "\n",
    "import warnings    \n",
    "warnings.filterwarnings(\"ignore\")    "
   ]
  },
  {
   "cell_type": "code",
   "execution_count": 2,
   "id": "e1700316",
   "metadata": {},
   "outputs": [
    {
     "name": "stdout",
     "output_type": "stream",
     "text": [
      "Dataset loaded successfully from 'data_stori.csv' with shape: (8950, 21)\n"
     ]
    }
   ],
   "source": [
    "from  model_utils import read_dataset\n",
    "df = read_dataset('data_stori.csv', file_type='csv', index_col=0)"
   ]
  },
  {
   "cell_type": "code",
   "execution_count": 3,
   "id": "ffe474ba",
   "metadata": {},
   "outputs": [],
   "source": [
    "# Load the CSV file into a DataFrame\n",
    "#file_path = 'data_stori.csv'  #  CSV file path\n",
    "#df = pd.read_csv(file_path, index_col=0, parse_dates=True)"
   ]
  },
  {
   "cell_type": "markdown",
   "id": "9fbe6ba1",
   "metadata": {},
   "source": [
    "## Overview of the Dataset"
   ]
  },
  {
   "cell_type": "code",
   "execution_count": 4,
   "id": "7eb4063b",
   "metadata": {},
   "outputs": [
    {
     "data": {
      "text/plain": [
       "fraud\n",
       "0    8880\n",
       "1      70\n",
       "Name: count, dtype: int64"
      ]
     },
     "execution_count": 4,
     "metadata": {},
     "output_type": "execute_result"
    }
   ],
   "source": [
    "df['fraud'].value_counts()"
   ]
  },
  {
   "cell_type": "code",
   "execution_count": 5,
   "id": "10b2747f",
   "metadata": {},
   "outputs": [
    {
     "data": {
      "text/plain": [
       "(8950, 21)"
      ]
     },
     "execution_count": 5,
     "metadata": {},
     "output_type": "execute_result"
    }
   ],
   "source": [
    "df.shape"
   ]
  },
  {
   "cell_type": "code",
   "execution_count": 6,
   "id": "77260664",
   "metadata": {},
   "outputs": [
    {
     "data": {
      "application/vnd.microsoft.datawrangler.viewer.v0+json": {
       "columns": [
        {
         "name": "index",
         "rawType": "int64",
         "type": "integer"
        },
        {
         "name": "cust_id",
         "rawType": "object",
         "type": "string"
        },
        {
         "name": "activated_date",
         "rawType": "object",
         "type": "string"
        },
        {
         "name": "last_payment_date",
         "rawType": "object",
         "type": "string"
        },
        {
         "name": "balance",
         "rawType": "float64",
         "type": "float"
        },
        {
         "name": "balance_frequency",
         "rawType": "float64",
         "type": "float"
        },
        {
         "name": "purchases",
         "rawType": "float64",
         "type": "float"
        },
        {
         "name": "oneoff_purchases",
         "rawType": "float64",
         "type": "float"
        },
        {
         "name": "installments_purchases",
         "rawType": "float64",
         "type": "float"
        },
        {
         "name": "cash_advance",
         "rawType": "float64",
         "type": "float"
        },
        {
         "name": "purchases_frequency",
         "rawType": "float64",
         "type": "float"
        },
        {
         "name": "oneoff_purchases_frequency",
         "rawType": "float64",
         "type": "float"
        },
        {
         "name": "purchases_installments_frequency",
         "rawType": "float64",
         "type": "float"
        },
        {
         "name": "cash_advance_frequency",
         "rawType": "float64",
         "type": "float"
        },
        {
         "name": "cash_advance_trx",
         "rawType": "int64",
         "type": "integer"
        },
        {
         "name": "purchases_trx",
         "rawType": "int64",
         "type": "integer"
        },
        {
         "name": "credit_limit",
         "rawType": "float64",
         "type": "float"
        },
        {
         "name": "payments",
         "rawType": "float64",
         "type": "float"
        },
        {
         "name": "minimum_payments",
         "rawType": "float64",
         "type": "float"
        },
        {
         "name": "prc_full_payment",
         "rawType": "float64",
         "type": "float"
        },
        {
         "name": "tenure",
         "rawType": "int64",
         "type": "integer"
        },
        {
         "name": "fraud",
         "rawType": "int64",
         "type": "integer"
        }
       ],
       "conversionMethod": "pd.DataFrame",
       "ref": "627e690c-20b5-452b-b0c3-c5504cee4c16",
       "rows": [
        [
         "1",
         "C10001",
         "2019-10-06",
         "2020-09-09",
         "40.900749",
         "0.818182",
         "95.4",
         "0.0",
         "95.4",
         "0.0",
         "0.166667",
         "0.0",
         "0.083333",
         "0.0",
         "0",
         "2",
         "1000.0",
         "201.802084",
         "139.509787",
         "0.0",
         "12",
         "0"
        ],
        [
         "2",
         "C10002",
         "2019-10-06",
         "2020-07-04",
         "3202.467416",
         "0.909091",
         "0.0",
         "0.0",
         "0.0",
         "6442.945483",
         "0.0",
         "0.0",
         "0.0",
         "0.25",
         "4",
         "0",
         "7000.0",
         "4103.032597",
         "1072.340217",
         "0.222222",
         "12",
         "0"
        ],
        [
         "3",
         "C10003",
         "2019-10-06",
         "2020-09-17",
         "2495.148862",
         "1.0",
         "773.17",
         "773.17",
         "0.0",
         "0.0",
         "1.0",
         "1.0",
         "0.0",
         "0.0",
         "0",
         "12",
         "7500.0",
         "622.066742",
         "627.284787",
         "0.0",
         "12",
         "0"
        ],
        [
         "4",
         "C10004",
         "2019-10-06",
         "2020-08-24",
         "1666.670542",
         "0.636364",
         "1499.0",
         "1499.0",
         "0.0",
         "205.788017",
         "0.083333",
         "0.083333",
         "0.0",
         "0.083333",
         "1",
         "1",
         "7500.0",
         "0.0",
         null,
         "0.0",
         "12",
         "0"
        ],
        [
         "5",
         "C10005",
         "2019-10-06",
         "2020-10-20",
         "817.714335",
         "1.0",
         "16.0",
         "16.0",
         "0.0",
         "0.0",
         "0.083333",
         "0.083333",
         "0.0",
         "0.0",
         "0",
         "1",
         "1200.0",
         "678.334763",
         "244.791237",
         "0.0",
         "12",
         "0"
        ]
       ],
       "shape": {
        "columns": 21,
        "rows": 5
       }
      },
      "text/html": [
       "<div>\n",
       "<style scoped>\n",
       "    .dataframe tbody tr th:only-of-type {\n",
       "        vertical-align: middle;\n",
       "    }\n",
       "\n",
       "    .dataframe tbody tr th {\n",
       "        vertical-align: top;\n",
       "    }\n",
       "\n",
       "    .dataframe thead th {\n",
       "        text-align: right;\n",
       "    }\n",
       "</style>\n",
       "<table border=\"1\" class=\"dataframe\">\n",
       "  <thead>\n",
       "    <tr style=\"text-align: right;\">\n",
       "      <th></th>\n",
       "      <th>cust_id</th>\n",
       "      <th>activated_date</th>\n",
       "      <th>last_payment_date</th>\n",
       "      <th>balance</th>\n",
       "      <th>balance_frequency</th>\n",
       "      <th>purchases</th>\n",
       "      <th>oneoff_purchases</th>\n",
       "      <th>installments_purchases</th>\n",
       "      <th>cash_advance</th>\n",
       "      <th>purchases_frequency</th>\n",
       "      <th>...</th>\n",
       "      <th>purchases_installments_frequency</th>\n",
       "      <th>cash_advance_frequency</th>\n",
       "      <th>cash_advance_trx</th>\n",
       "      <th>purchases_trx</th>\n",
       "      <th>credit_limit</th>\n",
       "      <th>payments</th>\n",
       "      <th>minimum_payments</th>\n",
       "      <th>prc_full_payment</th>\n",
       "      <th>tenure</th>\n",
       "      <th>fraud</th>\n",
       "    </tr>\n",
       "  </thead>\n",
       "  <tbody>\n",
       "    <tr>\n",
       "      <th>1</th>\n",
       "      <td>C10001</td>\n",
       "      <td>2019-10-06</td>\n",
       "      <td>2020-09-09</td>\n",
       "      <td>40.900749</td>\n",
       "      <td>0.818182</td>\n",
       "      <td>95.40</td>\n",
       "      <td>0.00</td>\n",
       "      <td>95.4</td>\n",
       "      <td>0.000000</td>\n",
       "      <td>0.166667</td>\n",
       "      <td>...</td>\n",
       "      <td>0.083333</td>\n",
       "      <td>0.000000</td>\n",
       "      <td>0</td>\n",
       "      <td>2</td>\n",
       "      <td>1000.0</td>\n",
       "      <td>201.802084</td>\n",
       "      <td>139.509787</td>\n",
       "      <td>0.000000</td>\n",
       "      <td>12</td>\n",
       "      <td>0</td>\n",
       "    </tr>\n",
       "    <tr>\n",
       "      <th>2</th>\n",
       "      <td>C10002</td>\n",
       "      <td>2019-10-06</td>\n",
       "      <td>2020-07-04</td>\n",
       "      <td>3202.467416</td>\n",
       "      <td>0.909091</td>\n",
       "      <td>0.00</td>\n",
       "      <td>0.00</td>\n",
       "      <td>0.0</td>\n",
       "      <td>6442.945483</td>\n",
       "      <td>0.000000</td>\n",
       "      <td>...</td>\n",
       "      <td>0.000000</td>\n",
       "      <td>0.250000</td>\n",
       "      <td>4</td>\n",
       "      <td>0</td>\n",
       "      <td>7000.0</td>\n",
       "      <td>4103.032597</td>\n",
       "      <td>1072.340217</td>\n",
       "      <td>0.222222</td>\n",
       "      <td>12</td>\n",
       "      <td>0</td>\n",
       "    </tr>\n",
       "    <tr>\n",
       "      <th>3</th>\n",
       "      <td>C10003</td>\n",
       "      <td>2019-10-06</td>\n",
       "      <td>2020-09-17</td>\n",
       "      <td>2495.148862</td>\n",
       "      <td>1.000000</td>\n",
       "      <td>773.17</td>\n",
       "      <td>773.17</td>\n",
       "      <td>0.0</td>\n",
       "      <td>0.000000</td>\n",
       "      <td>1.000000</td>\n",
       "      <td>...</td>\n",
       "      <td>0.000000</td>\n",
       "      <td>0.000000</td>\n",
       "      <td>0</td>\n",
       "      <td>12</td>\n",
       "      <td>7500.0</td>\n",
       "      <td>622.066742</td>\n",
       "      <td>627.284787</td>\n",
       "      <td>0.000000</td>\n",
       "      <td>12</td>\n",
       "      <td>0</td>\n",
       "    </tr>\n",
       "    <tr>\n",
       "      <th>4</th>\n",
       "      <td>C10004</td>\n",
       "      <td>2019-10-06</td>\n",
       "      <td>2020-08-24</td>\n",
       "      <td>1666.670542</td>\n",
       "      <td>0.636364</td>\n",
       "      <td>1499.00</td>\n",
       "      <td>1499.00</td>\n",
       "      <td>0.0</td>\n",
       "      <td>205.788017</td>\n",
       "      <td>0.083333</td>\n",
       "      <td>...</td>\n",
       "      <td>0.000000</td>\n",
       "      <td>0.083333</td>\n",
       "      <td>1</td>\n",
       "      <td>1</td>\n",
       "      <td>7500.0</td>\n",
       "      <td>0.000000</td>\n",
       "      <td>NaN</td>\n",
       "      <td>0.000000</td>\n",
       "      <td>12</td>\n",
       "      <td>0</td>\n",
       "    </tr>\n",
       "    <tr>\n",
       "      <th>5</th>\n",
       "      <td>C10005</td>\n",
       "      <td>2019-10-06</td>\n",
       "      <td>2020-10-20</td>\n",
       "      <td>817.714335</td>\n",
       "      <td>1.000000</td>\n",
       "      <td>16.00</td>\n",
       "      <td>16.00</td>\n",
       "      <td>0.0</td>\n",
       "      <td>0.000000</td>\n",
       "      <td>0.083333</td>\n",
       "      <td>...</td>\n",
       "      <td>0.000000</td>\n",
       "      <td>0.000000</td>\n",
       "      <td>0</td>\n",
       "      <td>1</td>\n",
       "      <td>1200.0</td>\n",
       "      <td>678.334763</td>\n",
       "      <td>244.791237</td>\n",
       "      <td>0.000000</td>\n",
       "      <td>12</td>\n",
       "      <td>0</td>\n",
       "    </tr>\n",
       "  </tbody>\n",
       "</table>\n",
       "<p>5 rows × 21 columns</p>\n",
       "</div>"
      ],
      "text/plain": [
       "  cust_id activated_date last_payment_date      balance  balance_frequency  \\\n",
       "1  C10001     2019-10-06        2020-09-09    40.900749           0.818182   \n",
       "2  C10002     2019-10-06        2020-07-04  3202.467416           0.909091   \n",
       "3  C10003     2019-10-06        2020-09-17  2495.148862           1.000000   \n",
       "4  C10004     2019-10-06        2020-08-24  1666.670542           0.636364   \n",
       "5  C10005     2019-10-06        2020-10-20   817.714335           1.000000   \n",
       "\n",
       "   purchases  oneoff_purchases  installments_purchases  cash_advance  \\\n",
       "1      95.40              0.00                    95.4      0.000000   \n",
       "2       0.00              0.00                     0.0   6442.945483   \n",
       "3     773.17            773.17                     0.0      0.000000   \n",
       "4    1499.00           1499.00                     0.0    205.788017   \n",
       "5      16.00             16.00                     0.0      0.000000   \n",
       "\n",
       "   purchases_frequency  ...  purchases_installments_frequency  \\\n",
       "1             0.166667  ...                          0.083333   \n",
       "2             0.000000  ...                          0.000000   \n",
       "3             1.000000  ...                          0.000000   \n",
       "4             0.083333  ...                          0.000000   \n",
       "5             0.083333  ...                          0.000000   \n",
       "\n",
       "   cash_advance_frequency  cash_advance_trx  purchases_trx  credit_limit  \\\n",
       "1                0.000000                 0              2        1000.0   \n",
       "2                0.250000                 4              0        7000.0   \n",
       "3                0.000000                 0             12        7500.0   \n",
       "4                0.083333                 1              1        7500.0   \n",
       "5                0.000000                 0              1        1200.0   \n",
       "\n",
       "      payments  minimum_payments  prc_full_payment  tenure  fraud  \n",
       "1   201.802084        139.509787          0.000000      12      0  \n",
       "2  4103.032597       1072.340217          0.222222      12      0  \n",
       "3   622.066742        627.284787          0.000000      12      0  \n",
       "4     0.000000               NaN          0.000000      12      0  \n",
       "5   678.334763        244.791237          0.000000      12      0  \n",
       "\n",
       "[5 rows x 21 columns]"
      ]
     },
     "execution_count": 6,
     "metadata": {},
     "output_type": "execute_result"
    }
   ],
   "source": [
    "df.head()"
   ]
  },
  {
   "cell_type": "code",
   "execution_count": 7,
   "id": "c40bf0eb",
   "metadata": {},
   "outputs": [
    {
     "name": "stdout",
     "output_type": "stream",
     "text": [
      "<class 'pandas.core.frame.DataFrame'>\n",
      "Index: 8950 entries, 1 to 8950\n",
      "Data columns (total 21 columns):\n",
      " #   Column                            Non-Null Count  Dtype  \n",
      "---  ------                            --------------  -----  \n",
      " 0   cust_id                           8950 non-null   object \n",
      " 1   activated_date                    8937 non-null   object \n",
      " 2   last_payment_date                 8941 non-null   object \n",
      " 3   balance                           8948 non-null   float64\n",
      " 4   balance_frequency                 8950 non-null   float64\n",
      " 5   purchases                         8950 non-null   float64\n",
      " 6   oneoff_purchases                  8950 non-null   float64\n",
      " 7   installments_purchases            8950 non-null   float64\n",
      " 8   cash_advance                      8838 non-null   float64\n",
      " 9   purchases_frequency               8950 non-null   float64\n",
      " 10  oneoff_purchases_frequency        8950 non-null   float64\n",
      " 11  purchases_installments_frequency  8950 non-null   float64\n",
      " 12  cash_advance_frequency            8950 non-null   float64\n",
      " 13  cash_advance_trx                  8950 non-null   int64  \n",
      " 14  purchases_trx                     8950 non-null   int64  \n",
      " 15  credit_limit                      8949 non-null   float64\n",
      " 16  payments                          8950 non-null   float64\n",
      " 17  minimum_payments                  8629 non-null   float64\n",
      " 18  prc_full_payment                  8950 non-null   float64\n",
      " 19  tenure                            8950 non-null   int64  \n",
      " 20  fraud                             8950 non-null   int64  \n",
      "dtypes: float64(14), int64(4), object(3)\n",
      "memory usage: 1.5+ MB\n"
     ]
    }
   ],
   "source": [
    "df.info()"
   ]
  },
  {
   "cell_type": "code",
   "execution_count": 8,
   "id": "2ce9aa1c",
   "metadata": {},
   "outputs": [
    {
     "data": {
      "application/vnd.microsoft.datawrangler.viewer.v0+json": {
       "columns": [
        {
         "name": "index",
         "rawType": "object",
         "type": "string"
        },
        {
         "name": "balance",
         "rawType": "float64",
         "type": "float"
        },
        {
         "name": "balance_frequency",
         "rawType": "float64",
         "type": "float"
        },
        {
         "name": "purchases",
         "rawType": "float64",
         "type": "float"
        },
        {
         "name": "oneoff_purchases",
         "rawType": "float64",
         "type": "float"
        },
        {
         "name": "installments_purchases",
         "rawType": "float64",
         "type": "float"
        },
        {
         "name": "cash_advance",
         "rawType": "float64",
         "type": "float"
        },
        {
         "name": "purchases_frequency",
         "rawType": "float64",
         "type": "float"
        },
        {
         "name": "oneoff_purchases_frequency",
         "rawType": "float64",
         "type": "float"
        },
        {
         "name": "purchases_installments_frequency",
         "rawType": "float64",
         "type": "float"
        },
        {
         "name": "cash_advance_frequency",
         "rawType": "float64",
         "type": "float"
        },
        {
         "name": "cash_advance_trx",
         "rawType": "float64",
         "type": "float"
        },
        {
         "name": "purchases_trx",
         "rawType": "float64",
         "type": "float"
        },
        {
         "name": "credit_limit",
         "rawType": "float64",
         "type": "float"
        },
        {
         "name": "payments",
         "rawType": "float64",
         "type": "float"
        },
        {
         "name": "minimum_payments",
         "rawType": "float64",
         "type": "float"
        },
        {
         "name": "prc_full_payment",
         "rawType": "float64",
         "type": "float"
        },
        {
         "name": "tenure",
         "rawType": "float64",
         "type": "float"
        },
        {
         "name": "fraud",
         "rawType": "float64",
         "type": "float"
        }
       ],
       "conversionMethod": "pd.DataFrame",
       "ref": "f28de10f-5a74-4483-a776-14c9161c9a09",
       "rows": [
        [
         "count",
         "8948.0",
         "8950.0",
         "8950.0",
         "8950.0",
         "8950.0",
         "8838.0",
         "8950.0",
         "8950.0",
         "8950.0",
         "8950.0",
         "8950.0",
         "8950.0",
         "8949.0",
         "8950.0",
         "8629.0",
         "8950.0",
         "8950.0",
         "8950.0"
        ],
        [
         "mean",
         "1564.612803686075",
         "0.8772707255865921",
         "1003.2048335195531",
         "592.4373709497207",
         "411.0676446927374",
         "978.980630486196",
         "0.49035054837988823",
         "0.202457683575419",
         "0.3644373415642458",
         "0.13514420033519556",
         "3.2488268156424582",
         "14.709832402234637",
         "4494.449450364621",
         "1733.1438520248046",
         "864.173245887936",
         "0.15371464849162012",
         "11.51731843575419",
         "0.00782122905027933"
        ],
        [
         "std",
         "2081.735634603655",
         "0.23690400268476855",
         "2136.6347818728887",
         "1659.887917437811",
         "904.3381151753817",
         "2099.762587819338",
         "0.40137074736904105",
         "0.2983360651847195",
         "0.39744777974541307",
         "0.2001213881474969",
         "6.824646744165832",
         "24.857649109884736",
         "3638.8157254984967",
         "2895.063756904574",
         "2373.455761180136",
         "0.29249919623387854",
         "1.3383307693673285",
         "0.08809610983938121"
        ],
        [
         "min",
         "0.0",
         "0.0",
         "0.0",
         "0.0",
         "0.0",
         "0.0",
         "0.0",
         "0.0",
         "0.0",
         "0.0",
         "0.0",
         "0.0",
         "50.0",
         "0.0",
         "0.019163",
         "0.0",
         "6.0",
         "0.0"
        ],
        [
         "25%",
         "128.23427175",
         "0.888889",
         "39.635",
         "0.0",
         "0.0",
         "0.0",
         "0.083333",
         "0.0",
         "0.0",
         "0.0",
         "0.0",
         "1.0",
         "1600.0",
         "383.276166",
         "169.07969",
         "0.0",
         "12.0",
         "0.0"
        ],
        [
         "50%",
         "873.385231",
         "1.0",
         "361.28",
         "38.0",
         "89.0",
         "0.0",
         "0.5",
         "0.083333",
         "0.166667",
         "0.0",
         "0.0",
         "7.0",
         "3000.0",
         "856.901546",
         "311.963409",
         "0.0",
         "12.0",
         "0.0"
        ],
        [
         "75%",
         "2054.52547625",
         "1.0",
         "1110.13",
         "577.405",
         "468.6375",
         "1115.3950025",
         "0.916667",
         "0.3",
         "0.75",
         "0.222222",
         "4.0",
         "17.0",
         "6500.0",
         "1901.1343167500002",
         "825.271126",
         "0.142857",
         "12.0",
         "0.0"
        ],
        [
         "max",
         "19043.13856",
         "1.0",
         "49039.57",
         "40761.25",
         "22500.0",
         "47137.21176",
         "1.0",
         "1.0",
         "1.0",
         "1.5",
         "123.0",
         "358.0",
         "30000.0",
         "50721.48336",
         "76406.20752",
         "1.0",
         "12.0",
         "1.0"
        ]
       ],
       "shape": {
        "columns": 18,
        "rows": 8
       }
      },
      "text/html": [
       "<div>\n",
       "<style scoped>\n",
       "    .dataframe tbody tr th:only-of-type {\n",
       "        vertical-align: middle;\n",
       "    }\n",
       "\n",
       "    .dataframe tbody tr th {\n",
       "        vertical-align: top;\n",
       "    }\n",
       "\n",
       "    .dataframe thead th {\n",
       "        text-align: right;\n",
       "    }\n",
       "</style>\n",
       "<table border=\"1\" class=\"dataframe\">\n",
       "  <thead>\n",
       "    <tr style=\"text-align: right;\">\n",
       "      <th></th>\n",
       "      <th>balance</th>\n",
       "      <th>balance_frequency</th>\n",
       "      <th>purchases</th>\n",
       "      <th>oneoff_purchases</th>\n",
       "      <th>installments_purchases</th>\n",
       "      <th>cash_advance</th>\n",
       "      <th>purchases_frequency</th>\n",
       "      <th>oneoff_purchases_frequency</th>\n",
       "      <th>purchases_installments_frequency</th>\n",
       "      <th>cash_advance_frequency</th>\n",
       "      <th>cash_advance_trx</th>\n",
       "      <th>purchases_trx</th>\n",
       "      <th>credit_limit</th>\n",
       "      <th>payments</th>\n",
       "      <th>minimum_payments</th>\n",
       "      <th>prc_full_payment</th>\n",
       "      <th>tenure</th>\n",
       "      <th>fraud</th>\n",
       "    </tr>\n",
       "  </thead>\n",
       "  <tbody>\n",
       "    <tr>\n",
       "      <th>count</th>\n",
       "      <td>8948.000000</td>\n",
       "      <td>8950.000000</td>\n",
       "      <td>8950.000000</td>\n",
       "      <td>8950.000000</td>\n",
       "      <td>8950.000000</td>\n",
       "      <td>8838.000000</td>\n",
       "      <td>8950.000000</td>\n",
       "      <td>8950.000000</td>\n",
       "      <td>8950.000000</td>\n",
       "      <td>8950.000000</td>\n",
       "      <td>8950.000000</td>\n",
       "      <td>8950.000000</td>\n",
       "      <td>8949.000000</td>\n",
       "      <td>8950.000000</td>\n",
       "      <td>8629.000000</td>\n",
       "      <td>8950.000000</td>\n",
       "      <td>8950.000000</td>\n",
       "      <td>8950.000000</td>\n",
       "    </tr>\n",
       "    <tr>\n",
       "      <th>mean</th>\n",
       "      <td>1564.612804</td>\n",
       "      <td>0.877271</td>\n",
       "      <td>1003.204834</td>\n",
       "      <td>592.437371</td>\n",
       "      <td>411.067645</td>\n",
       "      <td>978.980630</td>\n",
       "      <td>0.490351</td>\n",
       "      <td>0.202458</td>\n",
       "      <td>0.364437</td>\n",
       "      <td>0.135144</td>\n",
       "      <td>3.248827</td>\n",
       "      <td>14.709832</td>\n",
       "      <td>4494.449450</td>\n",
       "      <td>1733.143852</td>\n",
       "      <td>864.173246</td>\n",
       "      <td>0.153715</td>\n",
       "      <td>11.517318</td>\n",
       "      <td>0.007821</td>\n",
       "    </tr>\n",
       "    <tr>\n",
       "      <th>std</th>\n",
       "      <td>2081.735635</td>\n",
       "      <td>0.236904</td>\n",
       "      <td>2136.634782</td>\n",
       "      <td>1659.887917</td>\n",
       "      <td>904.338115</td>\n",
       "      <td>2099.762588</td>\n",
       "      <td>0.401371</td>\n",
       "      <td>0.298336</td>\n",
       "      <td>0.397448</td>\n",
       "      <td>0.200121</td>\n",
       "      <td>6.824647</td>\n",
       "      <td>24.857649</td>\n",
       "      <td>3638.815725</td>\n",
       "      <td>2895.063757</td>\n",
       "      <td>2373.455761</td>\n",
       "      <td>0.292499</td>\n",
       "      <td>1.338331</td>\n",
       "      <td>0.088096</td>\n",
       "    </tr>\n",
       "    <tr>\n",
       "      <th>min</th>\n",
       "      <td>0.000000</td>\n",
       "      <td>0.000000</td>\n",
       "      <td>0.000000</td>\n",
       "      <td>0.000000</td>\n",
       "      <td>0.000000</td>\n",
       "      <td>0.000000</td>\n",
       "      <td>0.000000</td>\n",
       "      <td>0.000000</td>\n",
       "      <td>0.000000</td>\n",
       "      <td>0.000000</td>\n",
       "      <td>0.000000</td>\n",
       "      <td>0.000000</td>\n",
       "      <td>50.000000</td>\n",
       "      <td>0.000000</td>\n",
       "      <td>0.019163</td>\n",
       "      <td>0.000000</td>\n",
       "      <td>6.000000</td>\n",
       "      <td>0.000000</td>\n",
       "    </tr>\n",
       "    <tr>\n",
       "      <th>25%</th>\n",
       "      <td>128.234272</td>\n",
       "      <td>0.888889</td>\n",
       "      <td>39.635000</td>\n",
       "      <td>0.000000</td>\n",
       "      <td>0.000000</td>\n",
       "      <td>0.000000</td>\n",
       "      <td>0.083333</td>\n",
       "      <td>0.000000</td>\n",
       "      <td>0.000000</td>\n",
       "      <td>0.000000</td>\n",
       "      <td>0.000000</td>\n",
       "      <td>1.000000</td>\n",
       "      <td>1600.000000</td>\n",
       "      <td>383.276166</td>\n",
       "      <td>169.079690</td>\n",
       "      <td>0.000000</td>\n",
       "      <td>12.000000</td>\n",
       "      <td>0.000000</td>\n",
       "    </tr>\n",
       "    <tr>\n",
       "      <th>50%</th>\n",
       "      <td>873.385231</td>\n",
       "      <td>1.000000</td>\n",
       "      <td>361.280000</td>\n",
       "      <td>38.000000</td>\n",
       "      <td>89.000000</td>\n",
       "      <td>0.000000</td>\n",
       "      <td>0.500000</td>\n",
       "      <td>0.083333</td>\n",
       "      <td>0.166667</td>\n",
       "      <td>0.000000</td>\n",
       "      <td>0.000000</td>\n",
       "      <td>7.000000</td>\n",
       "      <td>3000.000000</td>\n",
       "      <td>856.901546</td>\n",
       "      <td>311.963409</td>\n",
       "      <td>0.000000</td>\n",
       "      <td>12.000000</td>\n",
       "      <td>0.000000</td>\n",
       "    </tr>\n",
       "    <tr>\n",
       "      <th>75%</th>\n",
       "      <td>2054.525476</td>\n",
       "      <td>1.000000</td>\n",
       "      <td>1110.130000</td>\n",
       "      <td>577.405000</td>\n",
       "      <td>468.637500</td>\n",
       "      <td>1115.395002</td>\n",
       "      <td>0.916667</td>\n",
       "      <td>0.300000</td>\n",
       "      <td>0.750000</td>\n",
       "      <td>0.222222</td>\n",
       "      <td>4.000000</td>\n",
       "      <td>17.000000</td>\n",
       "      <td>6500.000000</td>\n",
       "      <td>1901.134317</td>\n",
       "      <td>825.271126</td>\n",
       "      <td>0.142857</td>\n",
       "      <td>12.000000</td>\n",
       "      <td>0.000000</td>\n",
       "    </tr>\n",
       "    <tr>\n",
       "      <th>max</th>\n",
       "      <td>19043.138560</td>\n",
       "      <td>1.000000</td>\n",
       "      <td>49039.570000</td>\n",
       "      <td>40761.250000</td>\n",
       "      <td>22500.000000</td>\n",
       "      <td>47137.211760</td>\n",
       "      <td>1.000000</td>\n",
       "      <td>1.000000</td>\n",
       "      <td>1.000000</td>\n",
       "      <td>1.500000</td>\n",
       "      <td>123.000000</td>\n",
       "      <td>358.000000</td>\n",
       "      <td>30000.000000</td>\n",
       "      <td>50721.483360</td>\n",
       "      <td>76406.207520</td>\n",
       "      <td>1.000000</td>\n",
       "      <td>12.000000</td>\n",
       "      <td>1.000000</td>\n",
       "    </tr>\n",
       "  </tbody>\n",
       "</table>\n",
       "</div>"
      ],
      "text/plain": [
       "            balance  balance_frequency     purchases  oneoff_purchases  \\\n",
       "count   8948.000000        8950.000000   8950.000000       8950.000000   \n",
       "mean    1564.612804           0.877271   1003.204834        592.437371   \n",
       "std     2081.735635           0.236904   2136.634782       1659.887917   \n",
       "min        0.000000           0.000000      0.000000          0.000000   \n",
       "25%      128.234272           0.888889     39.635000          0.000000   \n",
       "50%      873.385231           1.000000    361.280000         38.000000   \n",
       "75%     2054.525476           1.000000   1110.130000        577.405000   \n",
       "max    19043.138560           1.000000  49039.570000      40761.250000   \n",
       "\n",
       "       installments_purchases  cash_advance  purchases_frequency  \\\n",
       "count             8950.000000   8838.000000          8950.000000   \n",
       "mean               411.067645    978.980630             0.490351   \n",
       "std                904.338115   2099.762588             0.401371   \n",
       "min                  0.000000      0.000000             0.000000   \n",
       "25%                  0.000000      0.000000             0.083333   \n",
       "50%                 89.000000      0.000000             0.500000   \n",
       "75%                468.637500   1115.395002             0.916667   \n",
       "max              22500.000000  47137.211760             1.000000   \n",
       "\n",
       "       oneoff_purchases_frequency  purchases_installments_frequency  \\\n",
       "count                 8950.000000                       8950.000000   \n",
       "mean                     0.202458                          0.364437   \n",
       "std                      0.298336                          0.397448   \n",
       "min                      0.000000                          0.000000   \n",
       "25%                      0.000000                          0.000000   \n",
       "50%                      0.083333                          0.166667   \n",
       "75%                      0.300000                          0.750000   \n",
       "max                      1.000000                          1.000000   \n",
       "\n",
       "       cash_advance_frequency  cash_advance_trx  purchases_trx  credit_limit  \\\n",
       "count             8950.000000       8950.000000    8950.000000   8949.000000   \n",
       "mean                 0.135144          3.248827      14.709832   4494.449450   \n",
       "std                  0.200121          6.824647      24.857649   3638.815725   \n",
       "min                  0.000000          0.000000       0.000000     50.000000   \n",
       "25%                  0.000000          0.000000       1.000000   1600.000000   \n",
       "50%                  0.000000          0.000000       7.000000   3000.000000   \n",
       "75%                  0.222222          4.000000      17.000000   6500.000000   \n",
       "max                  1.500000        123.000000     358.000000  30000.000000   \n",
       "\n",
       "           payments  minimum_payments  prc_full_payment       tenure  \\\n",
       "count   8950.000000       8629.000000       8950.000000  8950.000000   \n",
       "mean    1733.143852        864.173246          0.153715    11.517318   \n",
       "std     2895.063757       2373.455761          0.292499     1.338331   \n",
       "min        0.000000          0.019163          0.000000     6.000000   \n",
       "25%      383.276166        169.079690          0.000000    12.000000   \n",
       "50%      856.901546        311.963409          0.000000    12.000000   \n",
       "75%     1901.134317        825.271126          0.142857    12.000000   \n",
       "max    50721.483360      76406.207520          1.000000    12.000000   \n",
       "\n",
       "             fraud  \n",
       "count  8950.000000  \n",
       "mean      0.007821  \n",
       "std       0.088096  \n",
       "min       0.000000  \n",
       "25%       0.000000  \n",
       "50%       0.000000  \n",
       "75%       0.000000  \n",
       "max       1.000000  "
      ]
     },
     "execution_count": 8,
     "metadata": {},
     "output_type": "execute_result"
    }
   ],
   "source": [
    "df.describe()"
   ]
  },
  {
   "cell_type": "code",
   "execution_count": 9,
   "id": "f948fc26",
   "metadata": {},
   "outputs": [
    {
     "data": {
      "text/html": [
       "<style type=\"text/css\">\n",
       "#T_e180f_row0_col1, #T_e180f_row0_col5, #T_e180f_row1_col1, #T_e180f_row1_col5, #T_e180f_row2_col2, #T_e180f_row2_col5, #T_e180f_row3_col5, #T_e180f_row4_col5, #T_e180f_row5_col5, #T_e180f_row6_col5, #T_e180f_row7_col5, #T_e180f_row8_col5, #T_e180f_row9_col5, #T_e180f_row10_col5, #T_e180f_row11_col5, #T_e180f_row12_col5, #T_e180f_row13_col5, #T_e180f_row14_col5, #T_e180f_row15_col5, #T_e180f_row16_col3, #T_e180f_row16_col4, #T_e180f_row16_col5, #T_e180f_row17_col5, #T_e180f_row18_col0, #T_e180f_row18_col5, #T_e180f_row19_col5 {\n",
       "  background-color: gray;\n",
       "}\n",
       "</style>\n",
       "<table id=\"T_e180f\">\n",
       "  <thead>\n",
       "    <tr>\n",
       "      <th class=\"blank level0\" >&nbsp;</th>\n",
       "      <th id=\"T_e180f_level0_col0\" class=\"col_heading level0 col0\" >variable</th>\n",
       "      <th id=\"T_e180f_level0_col1\" class=\"col_heading level0 col1\" >type</th>\n",
       "      <th id=\"T_e180f_level0_col2\" class=\"col_heading level0 col2\" >unique_data</th>\n",
       "      <th id=\"T_e180f_level0_col3\" class=\"col_heading level0 col3\" >missing value</th>\n",
       "      <th id=\"T_e180f_level0_col4\" class=\"col_heading level0 col4\" >missing percentage</th>\n",
       "      <th id=\"T_e180f_level0_col5\" class=\"col_heading level0 col5\" >duplicated</th>\n",
       "    </tr>\n",
       "  </thead>\n",
       "  <tbody>\n",
       "    <tr>\n",
       "      <th id=\"T_e180f_level0_row0\" class=\"row_heading level0 row0\" >0</th>\n",
       "      <td id=\"T_e180f_row0_col0\" class=\"data row0 col0\" >activated_date</td>\n",
       "      <td id=\"T_e180f_row0_col1\" class=\"data row0 col1\" >object</td>\n",
       "      <td id=\"T_e180f_row0_col2\" class=\"data row0 col2\" >300</td>\n",
       "      <td id=\"T_e180f_row0_col3\" class=\"data row0 col3\" >13</td>\n",
       "      <td id=\"T_e180f_row0_col4\" class=\"data row0 col4\" >0.150000</td>\n",
       "      <td id=\"T_e180f_row0_col5\" class=\"data row0 col5\" >0</td>\n",
       "    </tr>\n",
       "    <tr>\n",
       "      <th id=\"T_e180f_level0_row1\" class=\"row_heading level0 row1\" >1</th>\n",
       "      <td id=\"T_e180f_row1_col0\" class=\"data row1 col0\" >last_payment_date</td>\n",
       "      <td id=\"T_e180f_row1_col1\" class=\"data row1 col1\" >object</td>\n",
       "      <td id=\"T_e180f_row1_col2\" class=\"data row1 col2\" >200</td>\n",
       "      <td id=\"T_e180f_row1_col3\" class=\"data row1 col3\" >9</td>\n",
       "      <td id=\"T_e180f_row1_col4\" class=\"data row1 col4\" >0.100000</td>\n",
       "      <td id=\"T_e180f_row1_col5\" class=\"data row1 col5\" >0</td>\n",
       "    </tr>\n",
       "    <tr>\n",
       "      <th id=\"T_e180f_level0_row2\" class=\"row_heading level0 row2\" >2</th>\n",
       "      <td id=\"T_e180f_row2_col0\" class=\"data row2 col0\" >balance</td>\n",
       "      <td id=\"T_e180f_row2_col1\" class=\"data row2 col1\" >float64</td>\n",
       "      <td id=\"T_e180f_row2_col2\" class=\"data row2 col2\" >8869</td>\n",
       "      <td id=\"T_e180f_row2_col3\" class=\"data row2 col3\" >2</td>\n",
       "      <td id=\"T_e180f_row2_col4\" class=\"data row2 col4\" >0.020000</td>\n",
       "      <td id=\"T_e180f_row2_col5\" class=\"data row2 col5\" >0</td>\n",
       "    </tr>\n",
       "    <tr>\n",
       "      <th id=\"T_e180f_level0_row3\" class=\"row_heading level0 row3\" >3</th>\n",
       "      <td id=\"T_e180f_row3_col0\" class=\"data row3 col0\" >balance_frequency</td>\n",
       "      <td id=\"T_e180f_row3_col1\" class=\"data row3 col1\" >float64</td>\n",
       "      <td id=\"T_e180f_row3_col2\" class=\"data row3 col2\" >43</td>\n",
       "      <td id=\"T_e180f_row3_col3\" class=\"data row3 col3\" >0</td>\n",
       "      <td id=\"T_e180f_row3_col4\" class=\"data row3 col4\" >0.000000</td>\n",
       "      <td id=\"T_e180f_row3_col5\" class=\"data row3 col5\" >0</td>\n",
       "    </tr>\n",
       "    <tr>\n",
       "      <th id=\"T_e180f_level0_row4\" class=\"row_heading level0 row4\" >4</th>\n",
       "      <td id=\"T_e180f_row4_col0\" class=\"data row4 col0\" >purchases</td>\n",
       "      <td id=\"T_e180f_row4_col1\" class=\"data row4 col1\" >float64</td>\n",
       "      <td id=\"T_e180f_row4_col2\" class=\"data row4 col2\" >6203</td>\n",
       "      <td id=\"T_e180f_row4_col3\" class=\"data row4 col3\" >0</td>\n",
       "      <td id=\"T_e180f_row4_col4\" class=\"data row4 col4\" >0.000000</td>\n",
       "      <td id=\"T_e180f_row4_col5\" class=\"data row4 col5\" >0</td>\n",
       "    </tr>\n",
       "    <tr>\n",
       "      <th id=\"T_e180f_level0_row5\" class=\"row_heading level0 row5\" >5</th>\n",
       "      <td id=\"T_e180f_row5_col0\" class=\"data row5 col0\" >oneoff_purchases</td>\n",
       "      <td id=\"T_e180f_row5_col1\" class=\"data row5 col1\" >float64</td>\n",
       "      <td id=\"T_e180f_row5_col2\" class=\"data row5 col2\" >4014</td>\n",
       "      <td id=\"T_e180f_row5_col3\" class=\"data row5 col3\" >0</td>\n",
       "      <td id=\"T_e180f_row5_col4\" class=\"data row5 col4\" >0.000000</td>\n",
       "      <td id=\"T_e180f_row5_col5\" class=\"data row5 col5\" >0</td>\n",
       "    </tr>\n",
       "    <tr>\n",
       "      <th id=\"T_e180f_level0_row6\" class=\"row_heading level0 row6\" >6</th>\n",
       "      <td id=\"T_e180f_row6_col0\" class=\"data row6 col0\" >installments_purchases</td>\n",
       "      <td id=\"T_e180f_row6_col1\" class=\"data row6 col1\" >float64</td>\n",
       "      <td id=\"T_e180f_row6_col2\" class=\"data row6 col2\" >4452</td>\n",
       "      <td id=\"T_e180f_row6_col3\" class=\"data row6 col3\" >0</td>\n",
       "      <td id=\"T_e180f_row6_col4\" class=\"data row6 col4\" >0.000000</td>\n",
       "      <td id=\"T_e180f_row6_col5\" class=\"data row6 col5\" >0</td>\n",
       "    </tr>\n",
       "    <tr>\n",
       "      <th id=\"T_e180f_level0_row7\" class=\"row_heading level0 row7\" >7</th>\n",
       "      <td id=\"T_e180f_row7_col0\" class=\"data row7 col0\" >cash_advance</td>\n",
       "      <td id=\"T_e180f_row7_col1\" class=\"data row7 col1\" >float64</td>\n",
       "      <td id=\"T_e180f_row7_col2\" class=\"data row7 col2\" >4267</td>\n",
       "      <td id=\"T_e180f_row7_col3\" class=\"data row7 col3\" >112</td>\n",
       "      <td id=\"T_e180f_row7_col4\" class=\"data row7 col4\" >1.250000</td>\n",
       "      <td id=\"T_e180f_row7_col5\" class=\"data row7 col5\" >0</td>\n",
       "    </tr>\n",
       "    <tr>\n",
       "      <th id=\"T_e180f_level0_row8\" class=\"row_heading level0 row8\" >8</th>\n",
       "      <td id=\"T_e180f_row8_col0\" class=\"data row8 col0\" >purchases_frequency</td>\n",
       "      <td id=\"T_e180f_row8_col1\" class=\"data row8 col1\" >float64</td>\n",
       "      <td id=\"T_e180f_row8_col2\" class=\"data row8 col2\" >47</td>\n",
       "      <td id=\"T_e180f_row8_col3\" class=\"data row8 col3\" >0</td>\n",
       "      <td id=\"T_e180f_row8_col4\" class=\"data row8 col4\" >0.000000</td>\n",
       "      <td id=\"T_e180f_row8_col5\" class=\"data row8 col5\" >0</td>\n",
       "    </tr>\n",
       "    <tr>\n",
       "      <th id=\"T_e180f_level0_row9\" class=\"row_heading level0 row9\" >9</th>\n",
       "      <td id=\"T_e180f_row9_col0\" class=\"data row9 col0\" >oneoff_purchases_frequency</td>\n",
       "      <td id=\"T_e180f_row9_col1\" class=\"data row9 col1\" >float64</td>\n",
       "      <td id=\"T_e180f_row9_col2\" class=\"data row9 col2\" >47</td>\n",
       "      <td id=\"T_e180f_row9_col3\" class=\"data row9 col3\" >0</td>\n",
       "      <td id=\"T_e180f_row9_col4\" class=\"data row9 col4\" >0.000000</td>\n",
       "      <td id=\"T_e180f_row9_col5\" class=\"data row9 col5\" >0</td>\n",
       "    </tr>\n",
       "    <tr>\n",
       "      <th id=\"T_e180f_level0_row10\" class=\"row_heading level0 row10\" >10</th>\n",
       "      <td id=\"T_e180f_row10_col0\" class=\"data row10 col0\" >purchases_installments_frequency</td>\n",
       "      <td id=\"T_e180f_row10_col1\" class=\"data row10 col1\" >float64</td>\n",
       "      <td id=\"T_e180f_row10_col2\" class=\"data row10 col2\" >47</td>\n",
       "      <td id=\"T_e180f_row10_col3\" class=\"data row10 col3\" >0</td>\n",
       "      <td id=\"T_e180f_row10_col4\" class=\"data row10 col4\" >0.000000</td>\n",
       "      <td id=\"T_e180f_row10_col5\" class=\"data row10 col5\" >0</td>\n",
       "    </tr>\n",
       "    <tr>\n",
       "      <th id=\"T_e180f_level0_row11\" class=\"row_heading level0 row11\" >11</th>\n",
       "      <td id=\"T_e180f_row11_col0\" class=\"data row11 col0\" >cash_advance_frequency</td>\n",
       "      <td id=\"T_e180f_row11_col1\" class=\"data row11 col1\" >float64</td>\n",
       "      <td id=\"T_e180f_row11_col2\" class=\"data row11 col2\" >54</td>\n",
       "      <td id=\"T_e180f_row11_col3\" class=\"data row11 col3\" >0</td>\n",
       "      <td id=\"T_e180f_row11_col4\" class=\"data row11 col4\" >0.000000</td>\n",
       "      <td id=\"T_e180f_row11_col5\" class=\"data row11 col5\" >0</td>\n",
       "    </tr>\n",
       "    <tr>\n",
       "      <th id=\"T_e180f_level0_row12\" class=\"row_heading level0 row12\" >12</th>\n",
       "      <td id=\"T_e180f_row12_col0\" class=\"data row12 col0\" >cash_advance_trx</td>\n",
       "      <td id=\"T_e180f_row12_col1\" class=\"data row12 col1\" >int64</td>\n",
       "      <td id=\"T_e180f_row12_col2\" class=\"data row12 col2\" >65</td>\n",
       "      <td id=\"T_e180f_row12_col3\" class=\"data row12 col3\" >0</td>\n",
       "      <td id=\"T_e180f_row12_col4\" class=\"data row12 col4\" >0.000000</td>\n",
       "      <td id=\"T_e180f_row12_col5\" class=\"data row12 col5\" >0</td>\n",
       "    </tr>\n",
       "    <tr>\n",
       "      <th id=\"T_e180f_level0_row13\" class=\"row_heading level0 row13\" >13</th>\n",
       "      <td id=\"T_e180f_row13_col0\" class=\"data row13 col0\" >purchases_trx</td>\n",
       "      <td id=\"T_e180f_row13_col1\" class=\"data row13 col1\" >int64</td>\n",
       "      <td id=\"T_e180f_row13_col2\" class=\"data row13 col2\" >173</td>\n",
       "      <td id=\"T_e180f_row13_col3\" class=\"data row13 col3\" >0</td>\n",
       "      <td id=\"T_e180f_row13_col4\" class=\"data row13 col4\" >0.000000</td>\n",
       "      <td id=\"T_e180f_row13_col5\" class=\"data row13 col5\" >0</td>\n",
       "    </tr>\n",
       "    <tr>\n",
       "      <th id=\"T_e180f_level0_row14\" class=\"row_heading level0 row14\" >14</th>\n",
       "      <td id=\"T_e180f_row14_col0\" class=\"data row14 col0\" >credit_limit</td>\n",
       "      <td id=\"T_e180f_row14_col1\" class=\"data row14 col1\" >float64</td>\n",
       "      <td id=\"T_e180f_row14_col2\" class=\"data row14 col2\" >205</td>\n",
       "      <td id=\"T_e180f_row14_col3\" class=\"data row14 col3\" >1</td>\n",
       "      <td id=\"T_e180f_row14_col4\" class=\"data row14 col4\" >0.010000</td>\n",
       "      <td id=\"T_e180f_row14_col5\" class=\"data row14 col5\" >0</td>\n",
       "    </tr>\n",
       "    <tr>\n",
       "      <th id=\"T_e180f_level0_row15\" class=\"row_heading level0 row15\" >15</th>\n",
       "      <td id=\"T_e180f_row15_col0\" class=\"data row15 col0\" >payments</td>\n",
       "      <td id=\"T_e180f_row15_col1\" class=\"data row15 col1\" >float64</td>\n",
       "      <td id=\"T_e180f_row15_col2\" class=\"data row15 col2\" >8711</td>\n",
       "      <td id=\"T_e180f_row15_col3\" class=\"data row15 col3\" >0</td>\n",
       "      <td id=\"T_e180f_row15_col4\" class=\"data row15 col4\" >0.000000</td>\n",
       "      <td id=\"T_e180f_row15_col5\" class=\"data row15 col5\" >0</td>\n",
       "    </tr>\n",
       "    <tr>\n",
       "      <th id=\"T_e180f_level0_row16\" class=\"row_heading level0 row16\" >16</th>\n",
       "      <td id=\"T_e180f_row16_col0\" class=\"data row16 col0\" >minimum_payments</td>\n",
       "      <td id=\"T_e180f_row16_col1\" class=\"data row16 col1\" >float64</td>\n",
       "      <td id=\"T_e180f_row16_col2\" class=\"data row16 col2\" >8628</td>\n",
       "      <td id=\"T_e180f_row16_col3\" class=\"data row16 col3\" >321</td>\n",
       "      <td id=\"T_e180f_row16_col4\" class=\"data row16 col4\" >3.590000</td>\n",
       "      <td id=\"T_e180f_row16_col5\" class=\"data row16 col5\" >0</td>\n",
       "    </tr>\n",
       "    <tr>\n",
       "      <th id=\"T_e180f_level0_row17\" class=\"row_heading level0 row17\" >17</th>\n",
       "      <td id=\"T_e180f_row17_col0\" class=\"data row17 col0\" >prc_full_payment</td>\n",
       "      <td id=\"T_e180f_row17_col1\" class=\"data row17 col1\" >float64</td>\n",
       "      <td id=\"T_e180f_row17_col2\" class=\"data row17 col2\" >47</td>\n",
       "      <td id=\"T_e180f_row17_col3\" class=\"data row17 col3\" >0</td>\n",
       "      <td id=\"T_e180f_row17_col4\" class=\"data row17 col4\" >0.000000</td>\n",
       "      <td id=\"T_e180f_row17_col5\" class=\"data row17 col5\" >0</td>\n",
       "    </tr>\n",
       "    <tr>\n",
       "      <th id=\"T_e180f_level0_row18\" class=\"row_heading level0 row18\" >18</th>\n",
       "      <td id=\"T_e180f_row18_col0\" class=\"data row18 col0\" >tenure</td>\n",
       "      <td id=\"T_e180f_row18_col1\" class=\"data row18 col1\" >int64</td>\n",
       "      <td id=\"T_e180f_row18_col2\" class=\"data row18 col2\" >7</td>\n",
       "      <td id=\"T_e180f_row18_col3\" class=\"data row18 col3\" >0</td>\n",
       "      <td id=\"T_e180f_row18_col4\" class=\"data row18 col4\" >0.000000</td>\n",
       "      <td id=\"T_e180f_row18_col5\" class=\"data row18 col5\" >0</td>\n",
       "    </tr>\n",
       "    <tr>\n",
       "      <th id=\"T_e180f_level0_row19\" class=\"row_heading level0 row19\" >19</th>\n",
       "      <td id=\"T_e180f_row19_col0\" class=\"data row19 col0\" >fraud</td>\n",
       "      <td id=\"T_e180f_row19_col1\" class=\"data row19 col1\" >int64</td>\n",
       "      <td id=\"T_e180f_row19_col2\" class=\"data row19 col2\" >2</td>\n",
       "      <td id=\"T_e180f_row19_col3\" class=\"data row19 col3\" >0</td>\n",
       "      <td id=\"T_e180f_row19_col4\" class=\"data row19 col4\" >0.000000</td>\n",
       "      <td id=\"T_e180f_row19_col5\" class=\"data row19 col5\" >0</td>\n",
       "    </tr>\n",
       "  </tbody>\n",
       "</table>\n"
      ],
      "text/plain": [
       "<pandas.io.formats.style.Styler at 0x149afc200>"
      ]
     },
     "execution_count": 9,
     "metadata": {},
     "output_type": "execute_result"
    }
   ],
   "source": [
    "#Overview\n",
    "\n",
    "df_overview = []\n",
    "columns = df . columns . drop(\"cust_id\")\n",
    "for i in columns : \n",
    "    types = df[i] . dtypes\n",
    "    unique_data = df[i] . nunique()\n",
    "                   \n",
    "    missing_count=df[i].isnull().sum() \n",
    "    value_count= df[i].isnull().count() \n",
    "    missing_percentage= round(missing_count/value_count*100,2)\n",
    "        \n",
    "    duplicated= df.duplicated().sum()    \n",
    "    df_overview . append ([i , types , unique_data , missing_count, missing_percentage,duplicated])\n",
    "        \n",
    "df_info = pd . DataFrame (df_overview)\n",
    "df_info . columns =['variable' , 'type' ,'unique_data' , 'missing value', \"missing percentage\",\"duplicated\"]\n",
    "\n",
    "\n",
    "\n",
    "\n",
    "df_info.style.highlight_max(color = 'gray', axis = 0)"
   ]
  },
  {
   "cell_type": "markdown",
   "id": "6c0c03e5",
   "metadata": {},
   "source": [
    "From the overview of the dataset we can find useful that we have a dataset with a dimension of 8950 rows and 21 columns, with missing values in som variables."
   ]
  },
  {
   "cell_type": "markdown",
   "id": "51b64d08",
   "metadata": {},
   "source": [
    "## Question 1"
   ]
  },
  {
   "cell_type": "markdown",
   "id": "3c204631",
   "metadata": {},
   "source": [
    "### 1.1 Plot an histogram of the balance amount for all the customers."
   ]
  },
  {
   "cell_type": "markdown",
   "id": "1805f35a",
   "metadata": {},
   "source": [
    "For plotting the histogram of balance, we're going to use seaborn library"
   ]
  },
  {
   "cell_type": "code",
   "execution_count": 10,
   "id": "2d3b0c25",
   "metadata": {},
   "outputs": [
    {
     "name": "stdout",
     "output_type": "stream",
     "text": [
      "\n",
      "1.1 Histogram of 'balance' generated.\n"
     ]
    },
    {
     "data": {
      "image/png": "[encoded data removed]",
      "text/plain": [
       "<Figure size 1000x600 with 1 Axes>"
      ]
     },
     "metadata": {},
     "output_type": "display_data"
    }
   ],
   "source": [
    "# 1.1 Plot histogram of 'balance'\n",
    "plt.figure(figsize=(10, 6))\n",
    "sns.histplot(df['balance'], bins=50, kde=True, color=\"blue\", \n",
    "             line_kws={'linestyle': 'dashed', 'linewidth': 2})\n",
    "\n",
    "plt.title('Balance amount for all the customers') \n",
    "plt.xlabel('Balance') \n",
    "plt.ylabel('Frequency') \n",
    "plt.grid(axis='y', alpha=0.75)\n",
    "print(\"\\n1.1 Histogram of 'balance' generated.\") "
   ]
  },
  {
   "cell_type": "markdown",
   "id": "bb24d10f",
   "metadata": {},
   "source": [
    "### 1.2 Report any structure you find and any hypotheses you have about that structure."
   ]
  },
  {
   "cell_type": "markdown",
   "id": "ba81efe0",
   "metadata": {},
   "source": [
    "**Observing the histogram:**\n",
    "\n",
    "* The balance distribution is strongly skewed to the right (positively).\n",
    "* The vast majority of customers have low balances, concentrated near zero.\n",
    "* There are some customers with very high balances (outliers), which extend the right tail of the distribution.\n",
    "\n",
    "**Hypotheses about the structure:**\n",
    "\n",
    "1.  **Majority Low Balance Customers:** The structure could indicate that most customers use the card for small purchases or pay off their balance almost completely on a regular basis.\n",
    "2.  **High Indebtedness Segment:** The high balance outliers could represent a segment of customers with higher indebtedness, intensive credit use, or potential payment problems.\n",
    "3.  **Possible Zero or Near-Zero Balance:** There might be a concentration of balances exactly at zero (or very close) if many customers pay their total balance or do not actively use the card. (Note: The initial histogram might not clearly show a peak at zero if the bins are wide, but the concentration near zero is evident).\n",
    "\n",
    "**Logaritmic Transformation:**\n",
    "\n",
    "* We can apply a logarithmic transformation to the balance (adding 1 to avoid log(0)) and replot the histogram. This could help to better visualize the structure in the lower and middle ranges, which are compressed in the original scale."
   ]
  },
  {
   "cell_type": "code",
   "execution_count": 11,
   "id": "5608ad42",
   "metadata": {},
   "outputs": [
    {
     "name": "stdout",
     "output_type": "stream",
     "text": [
      "Column 'balance_log' created with the transformation log(1 + balance).\n"
     ]
    },
    {
     "data": {
      "image/png": "[encoded data removed]",
      "text/plain": [
       "<Figure size 1000x600 with 1 Axes>"
      ]
     },
     "metadata": {},
     "output_type": "display_data"
    }
   ],
   "source": [
    "# Apply Logarithmic Transformation\n",
    "# We use np.log1p which calculates log(1 + x), handling zeros correctly.\n",
    "df['balance_log'] = np.log1p(df['balance'])\n",
    "print(\"Column 'balance_log' created with the transformation log(1 + balance).\")\n",
    "\n",
    "# Plot the Log-Transformed Histogram\n",
    "plt.figure(figsize=(10, 6))\n",
    "sns.histplot(df['balance_log'], bins=50, kde=True)\n",
    "plt.title('Histogram of Log(Balance + 1)')\n",
    "plt.xlabel('Log(Balance + 1)')\n",
    "plt.ylabel('Frequency (Number of Customers)')\n",
    "plt.grid(axis='y', alpha=0.75)\n",
    "\n",
    "# Add mean and median lines for the transformed data\n",
    "log_median = df['balance_log'].median()\n",
    "log_mean = df['balance_log'].mean()\n",
    "plt.axvline(log_median, color='red', linestyle='dashed', linewidth=1)\n",
    "plt.axvline(log_mean, color='green', linestyle='dashed', linewidth=1)\n",
    "min_ylim_log, max_ylim_log = plt.ylim() # Get Y-axis limits to position text\n",
    "plt.text(log_median*1.1, max_ylim_log*0.9, f'Median (Log): {log_median:.2f}', color='red')\n",
    "\n",
    "# Adjust position of mean text if it's too close to the median\n",
    "mean_text_x = log_mean*0.9 if abs(log_mean - log_median) < (df['balance_log'].std() * 0.1) else log_mean*1.1\n",
    "plt.text(mean_text_x, max_ylim_log*0.8, f'Mean (Log): {log_mean:.2f}', color='green')\n",
    "\n",
    "plt.show()"
   ]
  },
  {
   "cell_type": "markdown",
   "id": "5aa6e789",
   "metadata": {},
   "source": [
    "**Interpretation of the Log-Transformed Histogram**\n",
    "\n",
    "- The logarithmic transformation has significantly reduced the right skewness.\n",
    "- The distribution now more closely resembles a normal distribution, although some asymmetry or multimodality might still be present.\n",
    "- The concentration of customers around certain balance values (on the log scale) can be seen more clearly. For example, the main peak is more defined.\n",
    "- A notable peak near 0 on the log scale corresponds to original balances close to 0 (log(1+0)=0).\n",
    "- This view reinforces the hypothesis of a large mass of customers with low balances, but allows for better analysis of the structure within that group and how intermediate balances are distributed."
   ]
  },
  {
   "cell_type": "code",
   "execution_count": 12,
   "id": "4caf2bc3",
   "metadata": {},
   "outputs": [
    {
     "name": "stdout",
     "output_type": "stream",
     "text": [
      "Dataset loaded successfully from 'data_stori.csv' with shape: (8950, 21)\n"
     ]
    }
   ],
   "source": [
    "df = read_dataset('data_stori.csv', file_type='csv', index_col=0)  #Re read the data to avoid possible confusions"
   ]
  },
  {
   "cell_type": "markdown",
   "id": "3771bd64",
   "metadata": {},
   "source": [
    "### 1.3 Report mean and median balance, grouped by year and month of ​activated_date.​"
   ]
  },
  {
   "cell_type": "code",
   "execution_count": 13,
   "id": "7c24132f",
   "metadata": {},
   "outputs": [
    {
     "data": {
      "text/html": [
       "<style type=\"text/css\">\n",
       "</style>\n",
       "<table id=\"T_ae5ce\">\n",
       "  <caption>Mean and Median Balance by Activation Date</caption>\n",
       "  <thead>\n",
       "    <tr>\n",
       "      <th class=\"blank\" >&nbsp;</th>\n",
       "      <th class=\"blank level0\" >&nbsp;</th>\n",
       "      <th id=\"T_ae5ce_level0_col0\" class=\"col_heading level0 col0\" >Mean Balance</th>\n",
       "      <th id=\"T_ae5ce_level0_col1\" class=\"col_heading level0 col1\" >Median Balance</th>\n",
       "    </tr>\n",
       "    <tr>\n",
       "      <th class=\"index_name level0\" >Activation Year</th>\n",
       "      <th class=\"index_name level1\" >Activation Month</th>\n",
       "      <th class=\"blank col0\" >&nbsp;</th>\n",
       "      <th class=\"blank col1\" >&nbsp;</th>\n",
       "    </tr>\n",
       "  </thead>\n",
       "  <tbody>\n",
       "    <tr>\n",
       "      <th id=\"T_ae5ce_level0_row0\" class=\"row_heading level0 row0\" rowspan=\"3\">2019</th>\n",
       "      <th id=\"T_ae5ce_level1_row0\" class=\"row_heading level1 row0\" >10</th>\n",
       "      <td id=\"T_ae5ce_row0_col0\" class=\"data row0 col0\" >2,482.23</td>\n",
       "      <td id=\"T_ae5ce_row0_col1\" class=\"data row0 col1\" >1,524.41</td>\n",
       "    </tr>\n",
       "    <tr>\n",
       "      <th id=\"T_ae5ce_level1_row1\" class=\"row_heading level1 row1\" >11</th>\n",
       "      <td id=\"T_ae5ce_row1_col0\" class=\"data row1 col0\" >1,848.70</td>\n",
       "      <td id=\"T_ae5ce_row1_col1\" class=\"data row1 col1\" >1,082.07</td>\n",
       "    </tr>\n",
       "    <tr>\n",
       "      <th id=\"T_ae5ce_level1_row2\" class=\"row_heading level1 row2\" >12</th>\n",
       "      <td id=\"T_ae5ce_row2_col0\" class=\"data row2 col0\" >2,018.79</td>\n",
       "      <td id=\"T_ae5ce_row2_col1\" class=\"data row2 col1\" >1,162.59</td>\n",
       "    </tr>\n",
       "    <tr>\n",
       "      <th id=\"T_ae5ce_level0_row3\" class=\"row_heading level0 row3\" rowspan=\"7\">2020</th>\n",
       "      <th id=\"T_ae5ce_level1_row3\" class=\"row_heading level1 row3\" >1</th>\n",
       "      <td id=\"T_ae5ce_row3_col0\" class=\"data row3 col0\" >1,854.54</td>\n",
       "      <td id=\"T_ae5ce_row3_col1\" class=\"data row3 col1\" >1,175.75</td>\n",
       "    </tr>\n",
       "    <tr>\n",
       "      <th id=\"T_ae5ce_level1_row4\" class=\"row_heading level1 row4\" >2</th>\n",
       "      <td id=\"T_ae5ce_row4_col0\" class=\"data row4 col0\" >1,747.35</td>\n",
       "      <td id=\"T_ae5ce_row4_col1\" class=\"data row4 col1\" >994.84</td>\n",
       "    </tr>\n",
       "    <tr>\n",
       "      <th id=\"T_ae5ce_level1_row5\" class=\"row_heading level1 row5\" >3</th>\n",
       "      <td id=\"T_ae5ce_row5_col0\" class=\"data row5 col0\" >1,554.97</td>\n",
       "      <td id=\"T_ae5ce_row5_col1\" class=\"data row5 col1\" >828.95</td>\n",
       "    </tr>\n",
       "    <tr>\n",
       "      <th id=\"T_ae5ce_level1_row6\" class=\"row_heading level1 row6\" >4</th>\n",
       "      <td id=\"T_ae5ce_row6_col0\" class=\"data row6 col0\" >1,483.18</td>\n",
       "      <td id=\"T_ae5ce_row6_col1\" class=\"data row6 col1\" >910.14</td>\n",
       "    </tr>\n",
       "    <tr>\n",
       "      <th id=\"T_ae5ce_level1_row7\" class=\"row_heading level1 row7\" >5</th>\n",
       "      <td id=\"T_ae5ce_row7_col0\" class=\"data row7 col0\" >1,214.33</td>\n",
       "      <td id=\"T_ae5ce_row7_col1\" class=\"data row7 col1\" >734.56</td>\n",
       "    </tr>\n",
       "    <tr>\n",
       "      <th id=\"T_ae5ce_level1_row8\" class=\"row_heading level1 row8\" >6</th>\n",
       "      <td id=\"T_ae5ce_row8_col0\" class=\"data row8 col0\" >940.00</td>\n",
       "      <td id=\"T_ae5ce_row8_col1\" class=\"data row8 col1\" >472.79</td>\n",
       "    </tr>\n",
       "    <tr>\n",
       "      <th id=\"T_ae5ce_level1_row9\" class=\"row_heading level1 row9\" >7</th>\n",
       "      <td id=\"T_ae5ce_row9_col0\" class=\"data row9 col0\" >649.72</td>\n",
       "      <td id=\"T_ae5ce_row9_col1\" class=\"data row9 col1\" >221.29</td>\n",
       "    </tr>\n",
       "  </tbody>\n",
       "</table>\n"
      ],
      "text/plain": [
       "<pandas.io.formats.style.Styler at 0x14a51d280>"
      ]
     },
     "execution_count": 13,
     "metadata": {},
     "output_type": "execute_result"
    }
   ],
   "source": [
    "# Make a copy to avoid modifying the original DataFrame used in other questions\n",
    "df_q1 = df.copy()\n",
    "\n",
    "# Convert 'activated_date' to datetime\n",
    "if not pd.api.types.is_datetime64_any_dtype(df_q1['activated_date']):\n",
    "    df_q1['activated_date'] = pd.to_datetime(df_q1['activated_date'], errors='coerce')\n",
    "    df_q1 = df_q1.dropna(subset=['activated_date']) # Re-apply dropna if conversion happens\n",
    "\n",
    "# Extract year and month\n",
    "if 'activation_year' not in df_q1.columns:\n",
    "    df_q1['activation_year'] = df_q1['activated_date'].dt.year\n",
    "if 'activation_month' not in df_q1.columns:\n",
    "     df_q1['activation_month'] = df_q1['activated_date'].dt.month\n",
    "\n",
    "# Group and calculate mean and median\n",
    "balance_grouped = df_q1.groupby(['activation_year', 'activation_month'])['balance'].agg(['mean', 'median'])\n",
    "\n",
    "# Format the output for clarity\n",
    "balance_grouped = balance_grouped.rename(columns={'mean': 'Mean Balance', 'median': 'Median Balance'})\n",
    "balance_grouped.index.names = ['Activation Year', 'Activation Month']\n",
    "\n",
    "\n",
    "# Apply styling using the new English column names\n",
    "styled_table = balance_grouped.style.format({\n",
    "     'Mean Balance': '{:,.2f}',\n",
    "     'Median Balance': '{:,.2f}'\n",
    " }).set_caption(\"Mean and Median Balance by Activation Date\")\n",
    "\n",
    "styled_table"
   ]
  },
  {
   "cell_type": "markdown",
   "id": "d35ad662",
   "metadata": {},
   "source": [
    "**Interpretation of Results**\n",
    "\n",
    "* **Downward Trend Observed:** There is a noticeable **downward trend** in both the **`Mean Balance`** and **`Median Balance`** for customer cohorts based on their activation month, progressing from late 2019 into mid-2020.\n",
    "    * Customers activating earlier (e.g., Oct-Dec 2019) generally show higher average and median balances compared to those activating later (e.g., May-Jul 2020).\n",
    "\n",
    "* **Consistent Right Skewness:** For **every** activation month cohort presented, the **`Mean Balance` is significantly higher than the `Median Balance`**.\n",
    "    * This confirms that the `balance` distribution remains **right-skewed** even when looking at customers who activated around the same time.\n",
    "    * It indicates the presence of some customers with relatively high balances within each group, pulling the mean upwards compared to the median (which represents a more typical customer).\n",
    "\n",
    "#### Potential Hypotheses for the Trend:\n",
    "\n",
    "* **Changing Customer Profile/Policy:** The trend could reflect changes in the customer segments acquired over this period or adjustments in initial credit policies (e.g., lower starting `credit_limit`s for newer cohorts).\n",
    "* **Tenure Effect:** Customers activating later naturally have a shorter observed tenure within the dataset's timeframe, potentially having had less time to accumulate higher balances.\n",
    "* **External Factors:** Economic conditions or specific events during late 2019 - mid 2020 might have influenced spending and balance patterns for newly acquired customers."
   ]
  },
  {
   "cell_type": "markdown",
   "id": "042a2fc8",
   "metadata": {},
   "source": [
    "## Question 2"
   ]
  },
  {
   "cell_type": "markdown",
   "id": "9df7955c",
   "metadata": {},
   "source": [
    "#### 2.1 Report in a table the following information for customers who activated their account and made their last payment during 2020: ​cust_id (excluding letters), ​activated_date (in format YYYY-MM), ​last_payment_date (in format YYYY-MM-DD), ​cash_advance​, ​credit_limit​, and a calculated field of ​cash_advance​ as a percentage of ​credit_limit​."
   ]
  },
  {
   "cell_type": "code",
   "execution_count": 14,
   "id": "6efcb5f2",
   "metadata": {},
   "outputs": [
    {
     "name": "stdout",
     "output_type": "stream",
     "text": [
      "Removed 22 rows with invalid dates.\n"
     ]
    }
   ],
   "source": [
    "# Make a copy to avoid modifying the original DataFrame used in other questions\n",
    "df_q2 = df.copy()\n",
    "\n",
    "# Data Preparation \n",
    "\n",
    "# Convert 'last_payment_date' to datetime objects\n",
    "# Use errors='coerce' to turn invalid date formats into NaT (Not a Time)\n",
    "df_q2['last_payment_date'] = pd.to_datetime(df_q2['last_payment_date'], errors='coerce')\n",
    "\n",
    "# Ensure 'activated_date' is also datetime\n",
    "if not pd.api.types.is_datetime64_any_dtype(df_q2['activated_date']):\n",
    "    df_q2['activated_date'] = pd.to_datetime(df_q2['activated_date'], errors='coerce')\n",
    "\n",
    "# Remove rows where either date conversion failed (resulted in NaT)\n",
    "rows_before_dropna = df_q2.shape[0]\n",
    "df_q2.dropna(subset=['activated_date', 'last_payment_date'], inplace=True)\n",
    "rows_after_dropna = df_q2.shape[0]\n",
    "if rows_after_dropna < rows_before_dropna:\n",
    "    print(f\"Removed {rows_before_dropna - rows_after_dropna} rows with invalid dates.\")\n",
    "\n",
    "# Extract activation year and last payment year\n",
    "# Ensure these columns exist or create them\n",
    "if 'activation_year' not in df_q2.columns:\n",
    "  df_q2['activation_year'] = df_q2['activated_date'].dt.year\n",
    "df_q2['last_payment_year'] = df_q2['last_payment_date'].dt.year\n"
   ]
  },
  {
   "cell_type": "code",
   "execution_count": 15,
   "id": "d7f95889",
   "metadata": {},
   "outputs": [
    {
     "name": "stdout",
     "output_type": "stream",
     "text": [
      "Found 6300 customers who activated and had last payment in 2020.\n"
     ]
    }
   ],
   "source": [
    "# Filtering\n",
    "# Filter for customers activated AND last payment in 2020\n",
    "customers_2020 = df_q2[(df_q2['activation_year'] == 2020) & (df_q2['last_payment_year'] == 2020)].copy() # Using .copy() to avoid SettingWithCopyWarning later\n",
    "\n",
    "print(f\"Found {customers_2020.shape[0]} customers who activated and had last payment in 2020.\")\n"
   ]
  },
  {
   "cell_type": "code",
   "execution_count": 16,
   "id": "2f932f6a",
   "metadata": {},
   "outputs": [],
   "source": [
    "# Column Transformation and Selection\n",
    "\n",
    "if not customers_2020.empty:\n",
    "    # Clean 'cust_id': Removing letters (assuming 'C' prefix) and convert to numeric\n",
    "    # Using .loc to modify the DataFrame slice directly and safely\n",
    "    customers_2020.loc[:, 'cust_id_numeric'] = customers_2020['cust_id'].str.replace('C', '', regex=False)\n",
    "    customers_2020.loc[:, 'cust_id_numeric'] = pd.to_numeric(customers_2020['cust_id_numeric'], errors='coerce')\n",
    "    # Handle potential non-numeric IDs if replace didn't cover all cases\n",
    "    customers_2020.dropna(subset=['cust_id_numeric'], inplace=True)\n",
    "    customers_2020.loc[:, 'cust_id_numeric'] = customers_2020['cust_id_numeric'].astype(int) # Convert to integer\n",
    "\n",
    "\n",
    "    # Format 'activated_date' to YYYY-MM\n",
    "    customers_2020.loc[:, 'activated_date_formatted'] = customers_2020['activated_date'].dt.strftime('%Y-%m')\n",
    "\n",
    "    # Format 'last_payment_date' to YYYY-MM-DD\n",
    "    customers_2020.loc[:, 'last_payment_date_formatted'] = customers_2020['last_payment_date'].dt.strftime('%Y-%m-%d')\n",
    "\n",
    "    # Calculate 'cash_advance' as a percentage of 'credit_limit'\n",
    "    # Handle potential division by zero or NA in credit_limit\n",
    "    # Ensure credit_limit and cash_advance are numeric, fill NA if necessary for calculation\n",
    "    customers_2020['credit_limit'] = pd.to_numeric(customers_2020['credit_limit'], errors='coerce').fillna(0) # Fill NA credit limit with 0 for calculation safety\n",
    "    customers_2020['cash_advance'] = pd.to_numeric(customers_2020['cash_advance'], errors='coerce').fillna(0) # Fill NA cash advance with 0\n",
    "\n",
    "    customers_2020.loc[:, 'cash_advance_percentage'] = np.where(\n",
    "        customers_2020['credit_limit'] > 0,\n",
    "        (customers_2020['cash_advance'] / customers_2020['credit_limit']) * 100,\n",
    "        0 # Assign 0% if credit_limit is 0 or missing (already filled NA with 0)\n",
    "        # Alternatively, could assign np.nan: np.where(..., ..., np.nan)\n",
    "    )\n",
    "\n",
    "    # Select and rename the required columns for the final report\n",
    "    report_table = customers_2020[[\n",
    "        'cust_id_numeric',\n",
    "        'activated_date_formatted',\n",
    "        'last_payment_date_formatted',\n",
    "        'cash_advance',\n",
    "        'credit_limit',\n",
    "        'cash_advance_percentage'\n",
    "    ]].rename(columns={\n",
    "        'cust_id_numeric': 'Customer ID (Numeric)',\n",
    "        'activated_date_formatted': 'Activation Date (YYYY-MM)',\n",
    "        'last_payment_date_formatted': 'Last Payment Date (YYYY-MM-DD)',\n",
    "        'cash_advance': 'Cash Advance',\n",
    "        'credit_limit': 'Credit Limit',\n",
    "        'cash_advance_percentage': 'Cash Advance % of Limit'\n",
    "    })\n",
    "else:\n",
    "    print(\"\\nNo customers found matching the criteria (activated and last payment in 2020).\")\n"
   ]
  },
  {
   "cell_type": "code",
   "execution_count": 17,
   "id": "7f0acb3d",
   "metadata": {},
   "outputs": [
    {
     "name": "stdout",
     "output_type": "stream",
     "text": [
      "Generated a table with 6300 rows and 6 columns.\n"
     ]
    },
    {
     "data": {
      "application/vnd.microsoft.datawrangler.viewer.v0+json": {
       "columns": [
        {
         "name": "index",
         "rawType": "int64",
         "type": "integer"
        },
        {
         "name": "Customer ID (Numeric)",
         "rawType": "object",
         "type": "unknown"
        },
        {
         "name": "Activation Date (YYYY-MM)",
         "rawType": "object",
         "type": "string"
        },
        {
         "name": "Last Payment Date (YYYY-MM-DD)",
         "rawType": "object",
         "type": "string"
        },
        {
         "name": "Cash Advance",
         "rawType": "float64",
         "type": "float"
        },
        {
         "name": "Credit Limit",
         "rawType": "float64",
         "type": "float"
        },
        {
         "name": "Cash Advance % of Limit",
         "rawType": "float64",
         "type": "float"
        }
       ],
       "conversionMethod": "pd.DataFrame",
       "ref": "b25e844d-4188-43e6-89dc-4782749c9342",
       "rows": [
        [
         "2634",
         "12709",
         "2020-01",
         "2020-05-08",
         "2431.292076",
         "8000.0",
         "30.39115095"
        ],
        [
         "2635",
         "12710",
         "2020-01",
         "2020-05-26",
         "0.0",
         "2000.0",
         "0.0"
        ],
        [
         "2636",
         "12712",
         "2020-01",
         "2020-10-20",
         "0.0",
         "3000.0",
         "0.0"
        ],
        [
         "2637",
         "12713",
         "2020-01",
         "2020-08-22",
         "0.0",
         "9000.0",
         "0.0"
        ],
        [
         "2638",
         "12714",
         "2020-01",
         "2020-04-26",
         "78.763096",
         "1500.0",
         "5.250873066666667"
        ],
        [
         "2639",
         "12715",
         "2020-01",
         "2020-10-16",
         "0.0",
         "4000.0",
         "0.0"
        ],
        [
         "2640",
         "12716",
         "2020-01",
         "2020-05-06",
         "2260.73569",
         "9000.0",
         "25.119285444444444"
        ],
        [
         "2641",
         "12717",
         "2020-01",
         "2020-08-13",
         "611.974158",
         "3500.0",
         "17.484975942857144"
        ],
        [
         "2642",
         "12718",
         "2020-01",
         "2020-08-28",
         "0.0",
         "9000.0",
         "0.0"
        ],
        [
         "2643",
         "12719",
         "2020-01",
         "2020-07-15",
         "4200.991254",
         "9000.0",
         "46.677680599999995"
        ]
       ],
       "shape": {
        "columns": 6,
        "rows": 10
       }
      },
      "text/html": [
       "<div>\n",
       "<style scoped>\n",
       "    .dataframe tbody tr th:only-of-type {\n",
       "        vertical-align: middle;\n",
       "    }\n",
       "\n",
       "    .dataframe tbody tr th {\n",
       "        vertical-align: top;\n",
       "    }\n",
       "\n",
       "    .dataframe thead th {\n",
       "        text-align: right;\n",
       "    }\n",
       "</style>\n",
       "<table border=\"1\" class=\"dataframe\">\n",
       "  <thead>\n",
       "    <tr style=\"text-align: right;\">\n",
       "      <th></th>\n",
       "      <th>Customer ID (Numeric)</th>\n",
       "      <th>Activation Date (YYYY-MM)</th>\n",
       "      <th>Last Payment Date (YYYY-MM-DD)</th>\n",
       "      <th>Cash Advance</th>\n",
       "      <th>Credit Limit</th>\n",
       "      <th>Cash Advance % of Limit</th>\n",
       "    </tr>\n",
       "  </thead>\n",
       "  <tbody>\n",
       "    <tr>\n",
       "      <th>2634</th>\n",
       "      <td>12709</td>\n",
       "      <td>2020-01</td>\n",
       "      <td>2020-05-08</td>\n",
       "      <td>2431.292076</td>\n",
       "      <td>8000.0</td>\n",
       "      <td>30.391151</td>\n",
       "    </tr>\n",
       "    <tr>\n",
       "      <th>2635</th>\n",
       "      <td>12710</td>\n",
       "      <td>2020-01</td>\n",
       "      <td>2020-05-26</td>\n",
       "      <td>0.000000</td>\n",
       "      <td>2000.0</td>\n",
       "      <td>0.000000</td>\n",
       "    </tr>\n",
       "    <tr>\n",
       "      <th>2636</th>\n",
       "      <td>12712</td>\n",
       "      <td>2020-01</td>\n",
       "      <td>2020-10-20</td>\n",
       "      <td>0.000000</td>\n",
       "      <td>3000.0</td>\n",
       "      <td>0.000000</td>\n",
       "    </tr>\n",
       "    <tr>\n",
       "      <th>2637</th>\n",
       "      <td>12713</td>\n",
       "      <td>2020-01</td>\n",
       "      <td>2020-08-22</td>\n",
       "      <td>0.000000</td>\n",
       "      <td>9000.0</td>\n",
       "      <td>0.000000</td>\n",
       "    </tr>\n",
       "    <tr>\n",
       "      <th>2638</th>\n",
       "      <td>12714</td>\n",
       "      <td>2020-01</td>\n",
       "      <td>2020-04-26</td>\n",
       "      <td>78.763096</td>\n",
       "      <td>1500.0</td>\n",
       "      <td>5.250873</td>\n",
       "    </tr>\n",
       "    <tr>\n",
       "      <th>2639</th>\n",
       "      <td>12715</td>\n",
       "      <td>2020-01</td>\n",
       "      <td>2020-10-16</td>\n",
       "      <td>0.000000</td>\n",
       "      <td>4000.0</td>\n",
       "      <td>0.000000</td>\n",
       "    </tr>\n",
       "    <tr>\n",
       "      <th>2640</th>\n",
       "      <td>12716</td>\n",
       "      <td>2020-01</td>\n",
       "      <td>2020-05-06</td>\n",
       "      <td>2260.735690</td>\n",
       "      <td>9000.0</td>\n",
       "      <td>25.119285</td>\n",
       "    </tr>\n",
       "    <tr>\n",
       "      <th>2641</th>\n",
       "      <td>12717</td>\n",
       "      <td>2020-01</td>\n",
       "      <td>2020-08-13</td>\n",
       "      <td>611.974158</td>\n",
       "      <td>3500.0</td>\n",
       "      <td>17.484976</td>\n",
       "    </tr>\n",
       "    <tr>\n",
       "      <th>2642</th>\n",
       "      <td>12718</td>\n",
       "      <td>2020-01</td>\n",
       "      <td>2020-08-28</td>\n",
       "      <td>0.000000</td>\n",
       "      <td>9000.0</td>\n",
       "      <td>0.000000</td>\n",
       "    </tr>\n",
       "    <tr>\n",
       "      <th>2643</th>\n",
       "      <td>12719</td>\n",
       "      <td>2020-01</td>\n",
       "      <td>2020-07-15</td>\n",
       "      <td>4200.991254</td>\n",
       "      <td>9000.0</td>\n",
       "      <td>46.677681</td>\n",
       "    </tr>\n",
       "  </tbody>\n",
       "</table>\n",
       "</div>"
      ],
      "text/plain": [
       "     Customer ID (Numeric) Activation Date (YYYY-MM)  \\\n",
       "2634                 12709                   2020-01   \n",
       "2635                 12710                   2020-01   \n",
       "2636                 12712                   2020-01   \n",
       "2637                 12713                   2020-01   \n",
       "2638                 12714                   2020-01   \n",
       "2639                 12715                   2020-01   \n",
       "2640                 12716                   2020-01   \n",
       "2641                 12717                   2020-01   \n",
       "2642                 12718                   2020-01   \n",
       "2643                 12719                   2020-01   \n",
       "\n",
       "     Last Payment Date (YYYY-MM-DD)  Cash Advance  Credit Limit  \\\n",
       "2634                     2020-05-08   2431.292076        8000.0   \n",
       "2635                     2020-05-26      0.000000        2000.0   \n",
       "2636                     2020-10-20      0.000000        3000.0   \n",
       "2637                     2020-08-22      0.000000        9000.0   \n",
       "2638                     2020-04-26     78.763096        1500.0   \n",
       "2639                     2020-10-16      0.000000        4000.0   \n",
       "2640                     2020-05-06   2260.735690        9000.0   \n",
       "2641                     2020-08-13    611.974158        3500.0   \n",
       "2642                     2020-08-28      0.000000        9000.0   \n",
       "2643                     2020-07-15   4200.991254        9000.0   \n",
       "\n",
       "      Cash Advance % of Limit  \n",
       "2634                30.391151  \n",
       "2635                 0.000000  \n",
       "2636                 0.000000  \n",
       "2637                 0.000000  \n",
       "2638                 5.250873  \n",
       "2639                 0.000000  \n",
       "2640                25.119285  \n",
       "2641                17.484976  \n",
       "2642                 0.000000  \n",
       "2643                46.677681  "
      ]
     },
     "execution_count": 17,
     "metadata": {},
     "output_type": "execute_result"
    }
   ],
   "source": [
    "print(f\"Generated a table with {report_table.shape[0]} rows and {report_table.shape[1]} columns.\")\n",
    "\n",
    "report_table.head(10)\n"
   ]
  },
  {
   "cell_type": "markdown",
   "id": "460e8f66",
   "metadata": {},
   "source": [
    "To generate the required table for customers active in 2020, the following steps were performed using pandas:\n",
    "\n",
    "1.  **Loaded Data & Parsed Dates:** The dataset was loaded, and `activated_date` and `last_payment_date` were converted to datetime objects.\n",
    "2.  **Filtered Cohort:** The DataFrame was filtered to include only customers where the **year** of both `activated_date` AND `last_payment_date` was 2020.\n",
    "3.  **Cleaned & Formatted Data:**\n",
    "    * `cust_id` was cleaned to retain only numeric characters.\n",
    "    * `activated_date` was formatted to `YYYY-MM`.\n",
    "    * `last_payment_date` was formatted to `YYYY-MM-DD`.\n",
    "4.  **Calculated Ratio:**\n",
    "    * The `cash_advance / credit_limit` ratio was calculated as a percentage.\n",
    "    * Missing `cash_advance` values were treated as 0 for this calculation.\n",
    "    * Cases where `credit_limit` was 0 or missing resulted in an 'N/A' ratio to handle division-by-zero or undefined scenarios.\n",
    "5.  **Final Table:** The specified columns (`cust_id`, formatted dates, `cash_advance`, `credit_limit`, calculated ratio) were selected, renamed for clarity, and presented in the final table."
   ]
  },
  {
   "cell_type": "code",
   "execution_count": 18,
   "id": "69407f4e",
   "metadata": {},
   "outputs": [
    {
     "name": "stdout",
     "output_type": "stream",
     "text": [
      "\n",
      "Complete table has been saved to: 'Report_2020_customers.csv'\n"
     ]
    }
   ],
   "source": [
    "\n",
    "# We save the complete table to a CSV file for further analysis\n",
    "output_filename = 'Report_2020_customers.csv'\n",
    "try:\n",
    "    report_table.to_csv(output_filename, index=False, encoding='utf-8')\n",
    "    print(f\"\\nComplete table has been saved to: '{output_filename}'\")\n",
    "except Exception as e:\n",
    "    print(f\"\\nError saving table to CSV: {e}\")"
   ]
  },
  {
   "cell_type": "markdown",
   "id": "2c54e02e",
   "metadata": {},
   "source": [
    "## Question 3"
   ]
  },
  {
   "cell_type": "markdown",
   "id": "f306f3ca",
   "metadata": {},
   "source": [
    "### 3.1 Build a predictive model for fraud."
   ]
  },
  {
   "cell_type": "markdown",
   "id": "3d1685fe",
   "metadata": {},
   "source": [
    "First we are going to do an Exploratory Data Analysis, the data cleaning and finally we proceed with the model"
   ]
  },
  {
   "cell_type": "markdown",
   "id": "bdc317de",
   "metadata": {},
   "source": [
    "### Exploratory Data Analysis(EDA)"
   ]
  },
  {
   "cell_type": "code",
   "execution_count": 19,
   "id": "5dc0fc47",
   "metadata": {},
   "outputs": [],
   "source": [
    "df_eda = df.copy() # Use a fresh copy for EDA to avoid interference"
   ]
  },
  {
   "cell_type": "code",
   "execution_count": 20,
   "id": "cc95c426",
   "metadata": {},
   "outputs": [
    {
     "name": "stdout",
     "output_type": "stream",
     "text": [
      "<class 'pandas.core.frame.DataFrame'>\n",
      "Index: 8950 entries, 1 to 8950\n",
      "Data columns (total 21 columns):\n",
      " #   Column                            Non-Null Count  Dtype  \n",
      "---  ------                            --------------  -----  \n",
      " 0   cust_id                           8950 non-null   object \n",
      " 1   activated_date                    8937 non-null   object \n",
      " 2   last_payment_date                 8941 non-null   object \n",
      " 3   balance                           8948 non-null   float64\n",
      " 4   balance_frequency                 8950 non-null   float64\n",
      " 5   purchases                         8950 non-null   float64\n",
      " 6   oneoff_purchases                  8950 non-null   float64\n",
      " 7   installments_purchases            8950 non-null   float64\n",
      " 8   cash_advance                      8838 non-null   float64\n",
      " 9   purchases_frequency               8950 non-null   float64\n",
      " 10  oneoff_purchases_frequency        8950 non-null   float64\n",
      " 11  purchases_installments_frequency  8950 non-null   float64\n",
      " 12  cash_advance_frequency            8950 non-null   float64\n",
      " 13  cash_advance_trx                  8950 non-null   int64  \n",
      " 14  purchases_trx                     8950 non-null   int64  \n",
      " 15  credit_limit                      8949 non-null   float64\n",
      " 16  payments                          8950 non-null   float64\n",
      " 17  minimum_payments                  8629 non-null   float64\n",
      " 18  prc_full_payment                  8950 non-null   float64\n",
      " 19  tenure                            8950 non-null   int64  \n",
      " 20  fraud                             8950 non-null   int64  \n",
      "dtypes: float64(14), int64(4), object(3)\n",
      "memory usage: 1.5+ MB\n"
     ]
    }
   ],
   "source": [
    "df_eda.info()"
   ]
  },
  {
   "cell_type": "code",
   "execution_count": 21,
   "id": "4a357ef4",
   "metadata": {},
   "outputs": [
    {
     "data": {
      "application/vnd.microsoft.datawrangler.viewer.v0+json": {
       "columns": [
        {
         "name": "index",
         "rawType": "object",
         "type": "string"
        },
        {
         "name": "balance",
         "rawType": "float64",
         "type": "float"
        },
        {
         "name": "balance_frequency",
         "rawType": "float64",
         "type": "float"
        },
        {
         "name": "purchases",
         "rawType": "float64",
         "type": "float"
        },
        {
         "name": "oneoff_purchases",
         "rawType": "float64",
         "type": "float"
        },
        {
         "name": "installments_purchases",
         "rawType": "float64",
         "type": "float"
        },
        {
         "name": "cash_advance",
         "rawType": "float64",
         "type": "float"
        },
        {
         "name": "purchases_frequency",
         "rawType": "float64",
         "type": "float"
        },
        {
         "name": "oneoff_purchases_frequency",
         "rawType": "float64",
         "type": "float"
        },
        {
         "name": "purchases_installments_frequency",
         "rawType": "float64",
         "type": "float"
        },
        {
         "name": "cash_advance_frequency",
         "rawType": "float64",
         "type": "float"
        },
        {
         "name": "cash_advance_trx",
         "rawType": "float64",
         "type": "float"
        },
        {
         "name": "purchases_trx",
         "rawType": "float64",
         "type": "float"
        },
        {
         "name": "credit_limit",
         "rawType": "float64",
         "type": "float"
        },
        {
         "name": "payments",
         "rawType": "float64",
         "type": "float"
        },
        {
         "name": "minimum_payments",
         "rawType": "float64",
         "type": "float"
        },
        {
         "name": "prc_full_payment",
         "rawType": "float64",
         "type": "float"
        },
        {
         "name": "tenure",
         "rawType": "float64",
         "type": "float"
        },
        {
         "name": "fraud",
         "rawType": "float64",
         "type": "float"
        }
       ],
       "conversionMethod": "pd.DataFrame",
       "ref": "86c6e2a7-ccb0-451a-b8a3-f45023781291",
       "rows": [
        [
         "count",
         "8948.0",
         "8950.0",
         "8950.0",
         "8950.0",
         "8950.0",
         "8838.0",
         "8950.0",
         "8950.0",
         "8950.0",
         "8950.0",
         "8950.0",
         "8950.0",
         "8949.0",
         "8950.0",
         "8629.0",
         "8950.0",
         "8950.0",
         "8950.0"
        ],
        [
         "mean",
         "1564.612803686075",
         "0.8772707255865921",
         "1003.2048335195531",
         "592.4373709497207",
         "411.0676446927374",
         "978.980630486196",
         "0.49035054837988823",
         "0.202457683575419",
         "0.3644373415642458",
         "0.13514420033519556",
         "3.2488268156424582",
         "14.709832402234637",
         "4494.449450364621",
         "1733.1438520248046",
         "864.173245887936",
         "0.15371464849162012",
         "11.51731843575419",
         "0.00782122905027933"
        ],
        [
         "std",
         "2081.735634603655",
         "0.23690400268476855",
         "2136.6347818728887",
         "1659.887917437811",
         "904.3381151753817",
         "2099.762587819338",
         "0.40137074736904105",
         "0.2983360651847195",
         "0.39744777974541307",
         "0.2001213881474969",
         "6.824646744165832",
         "24.857649109884736",
         "3638.8157254984967",
         "2895.063756904574",
         "2373.455761180136",
         "0.29249919623387854",
         "1.3383307693673285",
         "0.08809610983938121"
        ],
        [
         "min",
         "0.0",
         "0.0",
         "0.0",
         "0.0",
         "0.0",
         "0.0",
         "0.0",
         "0.0",
         "0.0",
         "0.0",
         "0.0",
         "0.0",
         "50.0",
         "0.0",
         "0.019163",
         "0.0",
         "6.0",
         "0.0"
        ],
        [
         "25%",
         "128.23427175",
         "0.888889",
         "39.635",
         "0.0",
         "0.0",
         "0.0",
         "0.083333",
         "0.0",
         "0.0",
         "0.0",
         "0.0",
         "1.0",
         "1600.0",
         "383.276166",
         "169.07969",
         "0.0",
         "12.0",
         "0.0"
        ],
        [
         "50%",
         "873.385231",
         "1.0",
         "361.28",
         "38.0",
         "89.0",
         "0.0",
         "0.5",
         "0.083333",
         "0.166667",
         "0.0",
         "0.0",
         "7.0",
         "3000.0",
         "856.901546",
         "311.963409",
         "0.0",
         "12.0",
         "0.0"
        ],
        [
         "75%",
         "2054.52547625",
         "1.0",
         "1110.13",
         "577.405",
         "468.6375",
         "1115.3950025",
         "0.916667",
         "0.3",
         "0.75",
         "0.222222",
         "4.0",
         "17.0",
         "6500.0",
         "1901.1343167500002",
         "825.271126",
         "0.142857",
         "12.0",
         "0.0"
        ],
        [
         "max",
         "19043.13856",
         "1.0",
         "49039.57",
         "40761.25",
         "22500.0",
         "47137.21176",
         "1.0",
         "1.0",
         "1.0",
         "1.5",
         "123.0",
         "358.0",
         "30000.0",
         "50721.48336",
         "76406.20752",
         "1.0",
         "12.0",
         "1.0"
        ]
       ],
       "shape": {
        "columns": 18,
        "rows": 8
       }
      },
      "text/html": [
       "<div>\n",
       "<style scoped>\n",
       "    .dataframe tbody tr th:only-of-type {\n",
       "        vertical-align: middle;\n",
       "    }\n",
       "\n",
       "    .dataframe tbody tr th {\n",
       "        vertical-align: top;\n",
       "    }\n",
       "\n",
       "    .dataframe thead th {\n",
       "        text-align: right;\n",
       "    }\n",
       "</style>\n",
       "<table border=\"1\" class=\"dataframe\">\n",
       "  <thead>\n",
       "    <tr style=\"text-align: right;\">\n",
       "      <th></th>\n",
       "      <th>balance</th>\n",
       "      <th>balance_frequency</th>\n",
       "      <th>purchases</th>\n",
       "      <th>oneoff_purchases</th>\n",
       "      <th>installments_purchases</th>\n",
       "      <th>cash_advance</th>\n",
       "      <th>purchases_frequency</th>\n",
       "      <th>oneoff_purchases_frequency</th>\n",
       "      <th>purchases_installments_frequency</th>\n",
       "      <th>cash_advance_frequency</th>\n",
       "      <th>cash_advance_trx</th>\n",
       "      <th>purchases_trx</th>\n",
       "      <th>credit_limit</th>\n",
       "      <th>payments</th>\n",
       "      <th>minimum_payments</th>\n",
       "      <th>prc_full_payment</th>\n",
       "      <th>tenure</th>\n",
       "      <th>fraud</th>\n",
       "    </tr>\n",
       "  </thead>\n",
       "  <tbody>\n",
       "    <tr>\n",
       "      <th>count</th>\n",
       "      <td>8948.000000</td>\n",
       "      <td>8950.000000</td>\n",
       "      <td>8950.000000</td>\n",
       "      <td>8950.000000</td>\n",
       "      <td>8950.000000</td>\n",
       "      <td>8838.000000</td>\n",
       "      <td>8950.000000</td>\n",
       "      <td>8950.000000</td>\n",
       "      <td>8950.000000</td>\n",
       "      <td>8950.000000</td>\n",
       "      <td>8950.000000</td>\n",
       "      <td>8950.000000</td>\n",
       "      <td>8949.000000</td>\n",
       "      <td>8950.000000</td>\n",
       "      <td>8629.000000</td>\n",
       "      <td>8950.000000</td>\n",
       "      <td>8950.000000</td>\n",
       "      <td>8950.000000</td>\n",
       "    </tr>\n",
       "    <tr>\n",
       "      <th>mean</th>\n",
       "      <td>1564.612804</td>\n",
       "      <td>0.877271</td>\n",
       "      <td>1003.204834</td>\n",
       "      <td>592.437371</td>\n",
       "      <td>411.067645</td>\n",
       "      <td>978.980630</td>\n",
       "      <td>0.490351</td>\n",
       "      <td>0.202458</td>\n",
       "      <td>0.364437</td>\n",
       "      <td>0.135144</td>\n",
       "      <td>3.248827</td>\n",
       "      <td>14.709832</td>\n",
       "      <td>4494.449450</td>\n",
       "      <td>1733.143852</td>\n",
       "      <td>864.173246</td>\n",
       "      <td>0.153715</td>\n",
       "      <td>11.517318</td>\n",
       "      <td>0.007821</td>\n",
       "    </tr>\n",
       "    <tr>\n",
       "      <th>std</th>\n",
       "      <td>2081.735635</td>\n",
       "      <td>0.236904</td>\n",
       "      <td>2136.634782</td>\n",
       "      <td>1659.887917</td>\n",
       "      <td>904.338115</td>\n",
       "      <td>2099.762588</td>\n",
       "      <td>0.401371</td>\n",
       "      <td>0.298336</td>\n",
       "      <td>0.397448</td>\n",
       "      <td>0.200121</td>\n",
       "      <td>6.824647</td>\n",
       "      <td>24.857649</td>\n",
       "      <td>3638.815725</td>\n",
       "      <td>2895.063757</td>\n",
       "      <td>2373.455761</td>\n",
       "      <td>0.292499</td>\n",
       "      <td>1.338331</td>\n",
       "      <td>0.088096</td>\n",
       "    </tr>\n",
       "    <tr>\n",
       "      <th>min</th>\n",
       "      <td>0.000000</td>\n",
       "      <td>0.000000</td>\n",
       "      <td>0.000000</td>\n",
       "      <td>0.000000</td>\n",
       "      <td>0.000000</td>\n",
       "      <td>0.000000</td>\n",
       "      <td>0.000000</td>\n",
       "      <td>0.000000</td>\n",
       "      <td>0.000000</td>\n",
       "      <td>0.000000</td>\n",
       "      <td>0.000000</td>\n",
       "      <td>0.000000</td>\n",
       "      <td>50.000000</td>\n",
       "      <td>0.000000</td>\n",
       "      <td>0.019163</td>\n",
       "      <td>0.000000</td>\n",
       "      <td>6.000000</td>\n",
       "      <td>0.000000</td>\n",
       "    </tr>\n",
       "    <tr>\n",
       "      <th>25%</th>\n",
       "      <td>128.234272</td>\n",
       "      <td>0.888889</td>\n",
       "      <td>39.635000</td>\n",
       "      <td>0.000000</td>\n",
       "      <td>0.000000</td>\n",
       "      <td>0.000000</td>\n",
       "      <td>0.083333</td>\n",
       "      <td>0.000000</td>\n",
       "      <td>0.000000</td>\n",
       "      <td>0.000000</td>\n",
       "      <td>0.000000</td>\n",
       "      <td>1.000000</td>\n",
       "      <td>1600.000000</td>\n",
       "      <td>383.276166</td>\n",
       "      <td>169.079690</td>\n",
       "      <td>0.000000</td>\n",
       "      <td>12.000000</td>\n",
       "      <td>0.000000</td>\n",
       "    </tr>\n",
       "    <tr>\n",
       "      <th>50%</th>\n",
       "      <td>873.385231</td>\n",
       "      <td>1.000000</td>\n",
       "      <td>361.280000</td>\n",
       "      <td>38.000000</td>\n",
       "      <td>89.000000</td>\n",
       "      <td>0.000000</td>\n",
       "      <td>0.500000</td>\n",
       "      <td>0.083333</td>\n",
       "      <td>0.166667</td>\n",
       "      <td>0.000000</td>\n",
       "      <td>0.000000</td>\n",
       "      <td>7.000000</td>\n",
       "      <td>3000.000000</td>\n",
       "      <td>856.901546</td>\n",
       "      <td>311.963409</td>\n",
       "      <td>0.000000</td>\n",
       "      <td>12.000000</td>\n",
       "      <td>0.000000</td>\n",
       "    </tr>\n",
       "    <tr>\n",
       "      <th>75%</th>\n",
       "      <td>2054.525476</td>\n",
       "      <td>1.000000</td>\n",
       "      <td>1110.130000</td>\n",
       "      <td>577.405000</td>\n",
       "      <td>468.637500</td>\n",
       "      <td>1115.395002</td>\n",
       "      <td>0.916667</td>\n",
       "      <td>0.300000</td>\n",
       "      <td>0.750000</td>\n",
       "      <td>0.222222</td>\n",
       "      <td>4.000000</td>\n",
       "      <td>17.000000</td>\n",
       "      <td>6500.000000</td>\n",
       "      <td>1901.134317</td>\n",
       "      <td>825.271126</td>\n",
       "      <td>0.142857</td>\n",
       "      <td>12.000000</td>\n",
       "      <td>0.000000</td>\n",
       "    </tr>\n",
       "    <tr>\n",
       "      <th>max</th>\n",
       "      <td>19043.138560</td>\n",
       "      <td>1.000000</td>\n",
       "      <td>49039.570000</td>\n",
       "      <td>40761.250000</td>\n",
       "      <td>22500.000000</td>\n",
       "      <td>47137.211760</td>\n",
       "      <td>1.000000</td>\n",
       "      <td>1.000000</td>\n",
       "      <td>1.000000</td>\n",
       "      <td>1.500000</td>\n",
       "      <td>123.000000</td>\n",
       "      <td>358.000000</td>\n",
       "      <td>30000.000000</td>\n",
       "      <td>50721.483360</td>\n",
       "      <td>76406.207520</td>\n",
       "      <td>1.000000</td>\n",
       "      <td>12.000000</td>\n",
       "      <td>1.000000</td>\n",
       "    </tr>\n",
       "  </tbody>\n",
       "</table>\n",
       "</div>"
      ],
      "text/plain": [
       "            balance  balance_frequency     purchases  oneoff_purchases  \\\n",
       "count   8948.000000        8950.000000   8950.000000       8950.000000   \n",
       "mean    1564.612804           0.877271   1003.204834        592.437371   \n",
       "std     2081.735635           0.236904   2136.634782       1659.887917   \n",
       "min        0.000000           0.000000      0.000000          0.000000   \n",
       "25%      128.234272           0.888889     39.635000          0.000000   \n",
       "50%      873.385231           1.000000    361.280000         38.000000   \n",
       "75%     2054.525476           1.000000   1110.130000        577.405000   \n",
       "max    19043.138560           1.000000  49039.570000      40761.250000   \n",
       "\n",
       "       installments_purchases  cash_advance  purchases_frequency  \\\n",
       "count             8950.000000   8838.000000          8950.000000   \n",
       "mean               411.067645    978.980630             0.490351   \n",
       "std                904.338115   2099.762588             0.401371   \n",
       "min                  0.000000      0.000000             0.000000   \n",
       "25%                  0.000000      0.000000             0.083333   \n",
       "50%                 89.000000      0.000000             0.500000   \n",
       "75%                468.637500   1115.395002             0.916667   \n",
       "max              22500.000000  47137.211760             1.000000   \n",
       "\n",
       "       oneoff_purchases_frequency  purchases_installments_frequency  \\\n",
       "count                 8950.000000                       8950.000000   \n",
       "mean                     0.202458                          0.364437   \n",
       "std                      0.298336                          0.397448   \n",
       "min                      0.000000                          0.000000   \n",
       "25%                      0.000000                          0.000000   \n",
       "50%                      0.083333                          0.166667   \n",
       "75%                      0.300000                          0.750000   \n",
       "max                      1.000000                          1.000000   \n",
       "\n",
       "       cash_advance_frequency  cash_advance_trx  purchases_trx  credit_limit  \\\n",
       "count             8950.000000       8950.000000    8950.000000   8949.000000   \n",
       "mean                 0.135144          3.248827      14.709832   4494.449450   \n",
       "std                  0.200121          6.824647      24.857649   3638.815725   \n",
       "min                  0.000000          0.000000       0.000000     50.000000   \n",
       "25%                  0.000000          0.000000       1.000000   1600.000000   \n",
       "50%                  0.000000          0.000000       7.000000   3000.000000   \n",
       "75%                  0.222222          4.000000      17.000000   6500.000000   \n",
       "max                  1.500000        123.000000     358.000000  30000.000000   \n",
       "\n",
       "           payments  minimum_payments  prc_full_payment       tenure  \\\n",
       "count   8950.000000       8629.000000       8950.000000  8950.000000   \n",
       "mean    1733.143852        864.173246          0.153715    11.517318   \n",
       "std     2895.063757       2373.455761          0.292499     1.338331   \n",
       "min        0.000000          0.019163          0.000000     6.000000   \n",
       "25%      383.276166        169.079690          0.000000    12.000000   \n",
       "50%      856.901546        311.963409          0.000000    12.000000   \n",
       "75%     1901.134317        825.271126          0.142857    12.000000   \n",
       "max    50721.483360      76406.207520          1.000000    12.000000   \n",
       "\n",
       "             fraud  \n",
       "count  8950.000000  \n",
       "mean      0.007821  \n",
       "std       0.088096  \n",
       "min       0.000000  \n",
       "25%       0.000000  \n",
       "50%       0.000000  \n",
       "75%       0.000000  \n",
       "max       1.000000  "
      ]
     },
     "execution_count": 21,
     "metadata": {},
     "output_type": "execute_result"
    }
   ],
   "source": [
    "df_eda.describe()"
   ]
  },
  {
   "cell_type": "code",
   "execution_count": 22,
   "id": "e0befe93",
   "metadata": {},
   "outputs": [
    {
     "data": {
      "image/png": "[encoded data removed]",
      "text/plain": [
       "<Figure size 1000x600 with 1 Axes>"
      ]
     },
     "metadata": {},
     "output_type": "display_data"
    }
   ],
   "source": [
    "# Analyze target variable\n",
    "plt.figure(figsize=(10, 6))\n",
    "sns.histplot(df_eda['fraud'], bins=50, kde=True, color=\"blue\",\n",
    "             line_kws={'linestyle': 'dashed', 'linewidth': 2})\n",
    "\n",
    "plt.title('Fraud Distribution')\n",
    "plt.xlabel('Balance') \n",
    "plt.ylabel('Frequency') \n",
    "plt.grid(axis='y', alpha=0.75)"
   ]
  },
  {
   "cell_type": "code",
   "execution_count": 23,
   "id": "7fca6fde",
   "metadata": {},
   "outputs": [
    {
     "name": "stdout",
     "output_type": "stream",
     "text": [
      "fraud\n",
      "0    8880\n",
      "1      70\n",
      "Name: count, dtype: int64\n",
      "\n",
      "Clients with fraud proportion:\n",
      "fraud\n",
      "0    99.217877\n",
      "1     0.782123\n",
      "Name: proportion, dtype: float64\n"
     ]
    }
   ],
   "source": [
    "print(df_eda['fraud'].value_counts())\n",
    "print(\"\\nClients with fraud proportion:\")\n",
    "print(df_eda['fraud'].value_counts(normalize=True) * 100)\n"
   ]
  },
  {
   "cell_type": "markdown",
   "id": "d43aede3",
   "metadata": {},
   "source": [
    "The main takeaway from analyzing the fraud variable is the severe class imbalance, which significantly influences how we should approach the modeling and evaluation."
   ]
  },
  {
   "cell_type": "code",
   "execution_count": 24,
   "id": "9d45866e",
   "metadata": {},
   "outputs": [
    {
     "data": {
      "image/png": "[encoded data removed]",
      "text/plain": [
       "<Figure size 2000x1500 with 2 Axes>"
      ]
     },
     "metadata": {},
     "output_type": "display_data"
    }
   ],
   "source": [
    "numeric_df = df_eda.select_dtypes(include=np.number)\n",
    "\n",
    "corr = numeric_df.corr()\n",
    "\n",
    "f, ax = plt.subplots(figsize=(20, 15))\n",
    "\n",
    "mask = np.triu(np.ones_like(corr, dtype=bool))\n",
    "\n",
    "cut_off = 0.25  # only show cells with abs(correlation) at least this value\n",
    "extreme_1 = 0.4# show with a star\n",
    "extreme_2 = 0.75  # show with a second star\n",
    "extreme_3 = 0.9  # show with a third star\n",
    "mask |= np.abs(corr) < cut_off\n",
    "corr = corr[~mask]  # fill in NaN in the non-desired cells\n",
    "\n",
    "remove_empty_rows_and_cols = True\n",
    "if remove_empty_rows_and_cols:\n",
    "    wanted_cols = np.flatnonzero(np.count_nonzero(~mask, axis=1))\n",
    "    wanted_rows = np.flatnonzero(np.count_nonzero(~mask, axis=0))\n",
    "    corr = corr.iloc[wanted_cols, wanted_rows]\n",
    "\n",
    "annot = [[f\"{val:.4f}\"\n",
    "          + ('' if abs(val) < extreme_1 else '\\n★')  # add one star if abs(val) >= extreme_1\n",
    "          + ('' if abs(val) < extreme_2 else '★')  # add an extra star if abs(val) >= extreme_2\n",
    "          + ('' if abs(val) < extreme_3 else '★')  # add yet an extra star if abs(val) >= extreme_3\n",
    "          for val in row] for row in corr.to_numpy()]\n",
    "heatmap = sns.heatmap(corr, vmin=-1, vmax=1, annot=annot, fmt='', cmap='BrBG')\n",
    "heatmap.set_title('Correlation Heatmap', fontdict={'fontsize': 18}, pad=16)\n",
    "plt.show()"
   ]
  },
  {
   "cell_type": "markdown",
   "id": "d365ab21",
   "metadata": {},
   "source": [
    "This heatmap visualizes significant linear relationships (absolute correlation >= 0.25) between numerical features:\n",
    "\n",
    "* **Correlations with `fraud`:** Several features show a notable positive correlation with `fraud`, suggesting higher values are associated with the fraud label in this data. Key ones include:\n",
    "    * `purchases` (~0.52)\n",
    "    * `oneoff_purchases` (~0.48)\n",
    "    * `payments` (~0.47) - *Note: Positive correlation might warrant investigation.*\n",
    "    * `installments_purchases` (~0.36)\n",
    "    * `purchases_trx` (~0.31)\n",
    "\n",
    "* **Multicollinearity:** High correlations exist *between predictor variables*, especially:\n",
    "    * Within purchase-related metrics (e.g., `purchases` vs `oneoff_purchases` ~0.92).\n",
    "    * Within cash advance metrics (e.g., `cash_advance_frequency` vs `cash_advance_trx` ~0.80).\n",
    "    * This is important for modeling, indicating some features capture similar information.\n",
    "\n",
    "* **Other Key Relationships:**\n",
    "    * `balance` is moderately correlated with `credit_limit` (~0.53).\n",
    "    * `balance` has a negative correlation with `prc_full_payment` (~ -0.32), as expected.\n",
    "\n",
    "* **Usefulness:** These insights highlight potential key predictors for the fraud model (`purchases`, `payments`, etc.) and identify multicollinearity to be mindful of during model building and interpretation."
   ]
  },
  {
   "cell_type": "code",
   "execution_count": 25,
   "id": "7cda8548",
   "metadata": {},
   "outputs": [
    {
     "name": "stdout",
     "output_type": "stream",
     "text": [
      "\n",
      "Distributions for key features:\n"
     ]
    },
    {
     "data": {
      "image/png": "[encoded data removed]",
      "text/plain": [
       "<Figure size 1500x1000 with 5 Axes>"
      ]
     },
     "metadata": {},
     "output_type": "display_data"
    }
   ],
   "source": [
    "print(\"\\nDistributions for key features:\")\n",
    "key_features = ['balance', 'purchases', 'cash_advance', 'credit_limit', 'payments']\n",
    "\n",
    "plt.figure(figsize=(15, 10)) # Adjust figure size for multiple plots\n",
    "for i, feature in enumerate(key_features):\n",
    "    plt.subplot(2, 3, i + 1) # Create subplot for each feature\n",
    "    sns.histplot(df_eda[feature], kde=True, bins=30)\n",
    "    plt.title(f'Distribution of {feature}')\n",
    "    plt.xlabel(feature)\n",
    "    plt.ylabel('Frequency')\n",
    "\n",
    "plt.tight_layout() # Adjust layout to prevent overlap"
   ]
  },
  {
   "cell_type": "markdown",
   "id": "8b9d10bd",
   "metadata": {},
   "source": [
    "Visualizing the distributions of key numerical features reveals common patterns in financial data:\n",
    "\n",
    "* **Right Skewness:** Most monetary variables (`balance`, `purchases`, `cash_advance`, `payments`) exhibit strong **right-skewness**. This indicates that the majority of customers have values concentrated at the lower end (e.g., low balances, low purchase amounts), with fewer customers having very high values (long tail).\n",
    "* **Peak at Zero:** The `cash_advance` histogram likely shows a large peak at zero, indicating that many customers do not use this feature.\n",
    "* **`credit_limit` Distribution:** This feature might differ, potentially showing **multiple peaks** (multi-modal) corresponding to standard credit tiers, or moderate right-skewness, generally appearing less skewed than the other monetary variables.\n",
    "* **Overall:** These shapes highlight typical user behavior, most customers have moderate activity, while a smaller segment has significantly higher usage/values; Understanding this skewness is important for data transformation or choosing appropriate models."
   ]
  },
  {
   "cell_type": "code",
   "execution_count": 26,
   "id": "cac0c03d",
   "metadata": {},
   "outputs": [
    {
     "data": {
      "image/png": "[encoded data removed]",
      "text/plain": [
       "<Figure size 1500x1200 with 7 Axes>"
      ]
     },
     "metadata": {},
     "output_type": "display_data"
    }
   ],
   "source": [
    "# Select numeric features for box plot analysis\n",
    "features_for_boxplot = [\n",
    "    'balance', 'purchases', 'cash_advance', 'credit_limit',\n",
    "    'payments', 'minimum_payments', 'tenure'\n",
    "]\n",
    "\n",
    "# Filter by columns that actually exist in the DataFrame\n",
    "features_for_boxplot = [f for f in features_for_boxplot if f in df_eda.columns]\n",
    "\n",
    "\n",
    "# Determine grid size for subplots\n",
    "n_features = len(features_for_boxplot)\n",
    "n_cols = 3 # Number of columns in subplot grid\n",
    "n_rows = int(np.ceil(n_features / n_cols)) # Calculate rows needed\n",
    "\n",
    "plt.figure(figsize=(n_cols * 5, n_rows * 4)) # Adjust size based on grid\n",
    "\n",
    "for i, feature in enumerate(features_for_boxplot):\n",
    "    plt.subplot(n_rows, n_cols, i + 1)\n",
    "    # Use seaborn's boxplot\n",
    "    sns.boxplot(y=df_eda[feature], palette='viridis')\n",
    "    plt.title(f'Box Plot of {feature}')\n",
    "    plt.ylabel(feature)\n",
    "    plt.xlabel('') # Hide x-axis label as it's just one box\n",
    "\n",
    "plt.tight_layout() # Adjust layout"
   ]
  },
  {
   "cell_type": "markdown",
   "id": "5eb6c27e",
   "metadata": {},
   "source": [
    "Box plots for key numerical features provide insights into their distribution and potential outliers:\n",
    "\n",
    "* **Prevalence of High-Value Outliers:** Most monetary variables (`balance`, `purchases`, `payments`, `minimum_payments`, `cash_advance`) display numerous data points extending far above the upper whisker, this visually confirms their **strong right-skewness** and the presence of significant high-value outliers.\n",
    "* **Compressed Central Tendency:** For these skewed variables, the box representing the Interquartile Range (IQR) often appears small relative to the outliers, with the median line potentially situated closer to the bottom of the box (Q1).\n",
    "* **`cash_advance` Specifics:** The box plot for `cash_advance` likely shows a median very close to zero, with nearly all positive values appearing as outliers, highlighting its infrequent usage by the majority.\n",
    "* **`credit_limit` & `tenure`:** These features might show more balanced box plots, although `credit_limit` could still have outliers representing very high/low limits, and `tenure` outliers would represent very new or long-standing customers.\n",
    "* **Overall:** Box plots effectively highlight the presence and magnitude of outliers, especially confirming the right-skewed nature of financial transaction/balance data."
   ]
  },
  {
   "cell_type": "code",
   "execution_count": 27,
   "id": "f5a13eb3",
   "metadata": {},
   "outputs": [
    {
     "data": {
      "application/vnd.microsoft.datawrangler.viewer.v0+json": {
       "columns": [
        {
         "name": "index",
         "rawType": "object",
         "type": "string"
        },
        {
         "name": "count_out",
         "rawType": "int64",
         "type": "integer"
        }
       ],
       "conversionMethod": "pd.DataFrame",
       "ref": "eaa375bd-329b-4936-b968-b8fc37929bd7",
       "rows": [
        [
         "balance",
         "695"
        ],
        [
         "balance_frequency",
         "1493"
        ],
        [
         "purchases",
         "808"
        ],
        [
         "oneoff_purchases",
         "1013"
        ],
        [
         "installments_purchases",
         "867"
        ],
        [
         "cash_advance",
         "1019"
        ],
        [
         "purchases_frequency",
         "0"
        ],
        [
         "oneoff_purchases_frequency",
         "782"
        ],
        [
         "purchases_installments_frequency",
         "0"
        ],
        [
         "cash_advance_frequency",
         "525"
        ],
        [
         "cash_advance_trx",
         "804"
        ],
        [
         "purchases_trx",
         "766"
        ],
        [
         "credit_limit",
         "248"
        ],
        [
         "payments",
         "808"
        ],
        [
         "minimum_payments",
         "841"
        ],
        [
         "prc_full_payment",
         "1474"
        ],
        [
         "tenure",
         "1366"
        ],
        [
         "fraud",
         "70"
        ]
       ],
       "shape": {
        "columns": 1,
        "rows": 18
       }
      },
      "text/html": [
       "<div>\n",
       "<style scoped>\n",
       "    .dataframe tbody tr th:only-of-type {\n",
       "        vertical-align: middle;\n",
       "    }\n",
       "\n",
       "    .dataframe tbody tr th {\n",
       "        vertical-align: top;\n",
       "    }\n",
       "\n",
       "    .dataframe thead th {\n",
       "        text-align: right;\n",
       "    }\n",
       "</style>\n",
       "<table border=\"1\" class=\"dataframe\">\n",
       "  <thead>\n",
       "    <tr style=\"text-align: right;\">\n",
       "      <th></th>\n",
       "      <th>count_out</th>\n",
       "    </tr>\n",
       "  </thead>\n",
       "  <tbody>\n",
       "    <tr>\n",
       "      <th>balance</th>\n",
       "      <td>695</td>\n",
       "    </tr>\n",
       "    <tr>\n",
       "      <th>balance_frequency</th>\n",
       "      <td>1493</td>\n",
       "    </tr>\n",
       "    <tr>\n",
       "      <th>purchases</th>\n",
       "      <td>808</td>\n",
       "    </tr>\n",
       "    <tr>\n",
       "      <th>oneoff_purchases</th>\n",
       "      <td>1013</td>\n",
       "    </tr>\n",
       "    <tr>\n",
       "      <th>installments_purchases</th>\n",
       "      <td>867</td>\n",
       "    </tr>\n",
       "    <tr>\n",
       "      <th>cash_advance</th>\n",
       "      <td>1019</td>\n",
       "    </tr>\n",
       "    <tr>\n",
       "      <th>purchases_frequency</th>\n",
       "      <td>0</td>\n",
       "    </tr>\n",
       "    <tr>\n",
       "      <th>oneoff_purchases_frequency</th>\n",
       "      <td>782</td>\n",
       "    </tr>\n",
       "    <tr>\n",
       "      <th>purchases_installments_frequency</th>\n",
       "      <td>0</td>\n",
       "    </tr>\n",
       "    <tr>\n",
       "      <th>cash_advance_frequency</th>\n",
       "      <td>525</td>\n",
       "    </tr>\n",
       "    <tr>\n",
       "      <th>cash_advance_trx</th>\n",
       "      <td>804</td>\n",
       "    </tr>\n",
       "    <tr>\n",
       "      <th>purchases_trx</th>\n",
       "      <td>766</td>\n",
       "    </tr>\n",
       "    <tr>\n",
       "      <th>credit_limit</th>\n",
       "      <td>248</td>\n",
       "    </tr>\n",
       "    <tr>\n",
       "      <th>payments</th>\n",
       "      <td>808</td>\n",
       "    </tr>\n",
       "    <tr>\n",
       "      <th>minimum_payments</th>\n",
       "      <td>841</td>\n",
       "    </tr>\n",
       "    <tr>\n",
       "      <th>prc_full_payment</th>\n",
       "      <td>1474</td>\n",
       "    </tr>\n",
       "    <tr>\n",
       "      <th>tenure</th>\n",
       "      <td>1366</td>\n",
       "    </tr>\n",
       "    <tr>\n",
       "      <th>fraud</th>\n",
       "      <td>70</td>\n",
       "    </tr>\n",
       "  </tbody>\n",
       "</table>\n",
       "</div>"
      ],
      "text/plain": [
       "                                  count_out\n",
       "balance                                 695\n",
       "balance_frequency                      1493\n",
       "purchases                               808\n",
       "oneoff_purchases                       1013\n",
       "installments_purchases                  867\n",
       "cash_advance                           1019\n",
       "purchases_frequency                       0\n",
       "oneoff_purchases_frequency              782\n",
       "purchases_installments_frequency          0\n",
       "cash_advance_frequency                  525\n",
       "cash_advance_trx                        804\n",
       "purchases_trx                           766\n",
       "credit_limit                            248\n",
       "payments                                808\n",
       "minimum_payments                        841\n",
       "prc_full_payment                       1474\n",
       "tenure                                 1366\n",
       "fraud                                    70"
      ]
     },
     "execution_count": 27,
     "metadata": {},
     "output_type": "execute_result"
    }
   ],
   "source": [
    "#finding outliers base on the Inter Quantile Range(IQR)\n",
    "df_q3 = df.copy()\n",
    "df_q3.drop(['activated_date', 'cust_id', 'last_payment_date'], axis=1, inplace = True)\n",
    "\n",
    "# Calculate IQR for each feature\n",
    "Q1 = df_q3.quantile(0.25)\n",
    "Q3 = df_q3.quantile(0.75)\n",
    "IQR = Q3 - Q1\n",
    "\n",
    "count_out = df_q3[(df_q3 <  (Q1 - 1.5 * IQR)) | (df_q3 > (Q3 + 1.5 * IQR))].count()\n",
    "\n",
    "\n",
    "df_count_out = pd.DataFrame(count_out, columns=['count_out'])\n",
    "df_count_out"
   ]
  },
  {
   "cell_type": "markdown",
   "id": "8547f356",
   "metadata": {},
   "source": [
    "As we can see there are so many outliers base on defention. However removing them is not recommended. this obstacle should be solved by other methods"
   ]
  },
  {
   "cell_type": "markdown",
   "id": "23a6a4d3",
   "metadata": {},
   "source": [
    "**EDA Summary:**\n",
    "\n",
    "* **Imbalance:** The target variable `fraud` is significantly imbalanced, with far fewer fraud cases than non-fraud cases, this confirms the need for strategies like stratified splitting, appropriate evaluation metrics (Precision, Recall, F1, AUC), and potentially model techniques to handle imbalance (like `scale_pos_weight` in XGBoost or class weighting in Logistic Regression).\n",
    "* **Feature Differences:** Visualizations often show noticeable differences in the distributions of certain features between fraudulent and non-fraudulent transactions; For instance, features related to cash advances (`cash_advance`, `cash_advance_trx`) or specific purchase patterns (`purchases`, `purchases_trx`) might differ significantly (actual differences depend on the specific dataset exploration results). Low `payments` and `minimum_payments` might also correlate with fraud.\n",
    "* **Correlations:** The heatmap reveals correlations between features, high correlation between independent variables (multicollinearity, e.g., between `purchases` and `purchases_trx`) might need consideration, although models like XGBoost handle it relatively well. Correlations with the `fraud` variable itself give initial clues about potential predictors (e.g., `cash_advance` often shows positive correlation with fraud)."
   ]
  },
  {
   "cell_type": "markdown",
   "id": "b7369997",
   "metadata": {},
   "source": [
    "### Data Preparation"
   ]
  },
  {
   "cell_type": "markdown",
   "id": "2225d840",
   "metadata": {},
   "source": [
    "Now we begin with the data preparation for the model"
   ]
  },
  {
   "cell_type": "code",
   "execution_count": 28,
   "id": "c2fc54c8",
   "metadata": {},
   "outputs": [],
   "source": [
    "df_q3 = df.copy() #New copy for Modeling"
   ]
  },
  {
   "cell_type": "code",
   "execution_count": 29,
   "id": "81f1050f",
   "metadata": {},
   "outputs": [
    {
     "data": {
      "text/html": [
       "<style type=\"text/css\">\n",
       "#T_77f36_row0_col1, #T_77f36_row0_col5, #T_77f36_row1_col1, #T_77f36_row1_col5, #T_77f36_row2_col2, #T_77f36_row2_col5, #T_77f36_row3_col5, #T_77f36_row4_col5, #T_77f36_row5_col5, #T_77f36_row6_col5, #T_77f36_row7_col5, #T_77f36_row8_col5, #T_77f36_row9_col5, #T_77f36_row10_col5, #T_77f36_row11_col5, #T_77f36_row12_col5, #T_77f36_row13_col5, #T_77f36_row14_col5, #T_77f36_row15_col5, #T_77f36_row16_col3, #T_77f36_row16_col4, #T_77f36_row16_col5, #T_77f36_row17_col5, #T_77f36_row18_col0, #T_77f36_row18_col5, #T_77f36_row19_col5 {\n",
       "  background-color: gray;\n",
       "}\n",
       "</style>\n",
       "<table id=\"T_77f36\">\n",
       "  <thead>\n",
       "    <tr>\n",
       "      <th class=\"blank level0\" >&nbsp;</th>\n",
       "      <th id=\"T_77f36_level0_col0\" class=\"col_heading level0 col0\" >variable</th>\n",
       "      <th id=\"T_77f36_level0_col1\" class=\"col_heading level0 col1\" >type</th>\n",
       "      <th id=\"T_77f36_level0_col2\" class=\"col_heading level0 col2\" >unique_data</th>\n",
       "      <th id=\"T_77f36_level0_col3\" class=\"col_heading level0 col3\" >missing value</th>\n",
       "      <th id=\"T_77f36_level0_col4\" class=\"col_heading level0 col4\" >missing percentage</th>\n",
       "      <th id=\"T_77f36_level0_col5\" class=\"col_heading level0 col5\" >duplicated</th>\n",
       "    </tr>\n",
       "  </thead>\n",
       "  <tbody>\n",
       "    <tr>\n",
       "      <th id=\"T_77f36_level0_row0\" class=\"row_heading level0 row0\" >0</th>\n",
       "      <td id=\"T_77f36_row0_col0\" class=\"data row0 col0\" >activated_date</td>\n",
       "      <td id=\"T_77f36_row0_col1\" class=\"data row0 col1\" >object</td>\n",
       "      <td id=\"T_77f36_row0_col2\" class=\"data row0 col2\" >300</td>\n",
       "      <td id=\"T_77f36_row0_col3\" class=\"data row0 col3\" >13</td>\n",
       "      <td id=\"T_77f36_row0_col4\" class=\"data row0 col4\" >0.150000</td>\n",
       "      <td id=\"T_77f36_row0_col5\" class=\"data row0 col5\" >0</td>\n",
       "    </tr>\n",
       "    <tr>\n",
       "      <th id=\"T_77f36_level0_row1\" class=\"row_heading level0 row1\" >1</th>\n",
       "      <td id=\"T_77f36_row1_col0\" class=\"data row1 col0\" >last_payment_date</td>\n",
       "      <td id=\"T_77f36_row1_col1\" class=\"data row1 col1\" >object</td>\n",
       "      <td id=\"T_77f36_row1_col2\" class=\"data row1 col2\" >200</td>\n",
       "      <td id=\"T_77f36_row1_col3\" class=\"data row1 col3\" >9</td>\n",
       "      <td id=\"T_77f36_row1_col4\" class=\"data row1 col4\" >0.100000</td>\n",
       "      <td id=\"T_77f36_row1_col5\" class=\"data row1 col5\" >0</td>\n",
       "    </tr>\n",
       "    <tr>\n",
       "      <th id=\"T_77f36_level0_row2\" class=\"row_heading level0 row2\" >2</th>\n",
       "      <td id=\"T_77f36_row2_col0\" class=\"data row2 col0\" >balance</td>\n",
       "      <td id=\"T_77f36_row2_col1\" class=\"data row2 col1\" >float64</td>\n",
       "      <td id=\"T_77f36_row2_col2\" class=\"data row2 col2\" >8869</td>\n",
       "      <td id=\"T_77f36_row2_col3\" class=\"data row2 col3\" >2</td>\n",
       "      <td id=\"T_77f36_row2_col4\" class=\"data row2 col4\" >0.020000</td>\n",
       "      <td id=\"T_77f36_row2_col5\" class=\"data row2 col5\" >0</td>\n",
       "    </tr>\n",
       "    <tr>\n",
       "      <th id=\"T_77f36_level0_row3\" class=\"row_heading level0 row3\" >3</th>\n",
       "      <td id=\"T_77f36_row3_col0\" class=\"data row3 col0\" >balance_frequency</td>\n",
       "      <td id=\"T_77f36_row3_col1\" class=\"data row3 col1\" >float64</td>\n",
       "      <td id=\"T_77f36_row3_col2\" class=\"data row3 col2\" >43</td>\n",
       "      <td id=\"T_77f36_row3_col3\" class=\"data row3 col3\" >0</td>\n",
       "      <td id=\"T_77f36_row3_col4\" class=\"data row3 col4\" >0.000000</td>\n",
       "      <td id=\"T_77f36_row3_col5\" class=\"data row3 col5\" >0</td>\n",
       "    </tr>\n",
       "    <tr>\n",
       "      <th id=\"T_77f36_level0_row4\" class=\"row_heading level0 row4\" >4</th>\n",
       "      <td id=\"T_77f36_row4_col0\" class=\"data row4 col0\" >purchases</td>\n",
       "      <td id=\"T_77f36_row4_col1\" class=\"data row4 col1\" >float64</td>\n",
       "      <td id=\"T_77f36_row4_col2\" class=\"data row4 col2\" >6203</td>\n",
       "      <td id=\"T_77f36_row4_col3\" class=\"data row4 col3\" >0</td>\n",
       "      <td id=\"T_77f36_row4_col4\" class=\"data row4 col4\" >0.000000</td>\n",
       "      <td id=\"T_77f36_row4_col5\" class=\"data row4 col5\" >0</td>\n",
       "    </tr>\n",
       "    <tr>\n",
       "      <th id=\"T_77f36_level0_row5\" class=\"row_heading level0 row5\" >5</th>\n",
       "      <td id=\"T_77f36_row5_col0\" class=\"data row5 col0\" >oneoff_purchases</td>\n",
       "      <td id=\"T_77f36_row5_col1\" class=\"data row5 col1\" >float64</td>\n",
       "      <td id=\"T_77f36_row5_col2\" class=\"data row5 col2\" >4014</td>\n",
       "      <td id=\"T_77f36_row5_col3\" class=\"data row5 col3\" >0</td>\n",
       "      <td id=\"T_77f36_row5_col4\" class=\"data row5 col4\" >0.000000</td>\n",
       "      <td id=\"T_77f36_row5_col5\" class=\"data row5 col5\" >0</td>\n",
       "    </tr>\n",
       "    <tr>\n",
       "      <th id=\"T_77f36_level0_row6\" class=\"row_heading level0 row6\" >6</th>\n",
       "      <td id=\"T_77f36_row6_col0\" class=\"data row6 col0\" >installments_purchases</td>\n",
       "      <td id=\"T_77f36_row6_col1\" class=\"data row6 col1\" >float64</td>\n",
       "      <td id=\"T_77f36_row6_col2\" class=\"data row6 col2\" >4452</td>\n",
       "      <td id=\"T_77f36_row6_col3\" class=\"data row6 col3\" >0</td>\n",
       "      <td id=\"T_77f36_row6_col4\" class=\"data row6 col4\" >0.000000</td>\n",
       "      <td id=\"T_77f36_row6_col5\" class=\"data row6 col5\" >0</td>\n",
       "    </tr>\n",
       "    <tr>\n",
       "      <th id=\"T_77f36_level0_row7\" class=\"row_heading level0 row7\" >7</th>\n",
       "      <td id=\"T_77f36_row7_col0\" class=\"data row7 col0\" >cash_advance</td>\n",
       "      <td id=\"T_77f36_row7_col1\" class=\"data row7 col1\" >float64</td>\n",
       "      <td id=\"T_77f36_row7_col2\" class=\"data row7 col2\" >4267</td>\n",
       "      <td id=\"T_77f36_row7_col3\" class=\"data row7 col3\" >112</td>\n",
       "      <td id=\"T_77f36_row7_col4\" class=\"data row7 col4\" >1.250000</td>\n",
       "      <td id=\"T_77f36_row7_col5\" class=\"data row7 col5\" >0</td>\n",
       "    </tr>\n",
       "    <tr>\n",
       "      <th id=\"T_77f36_level0_row8\" class=\"row_heading level0 row8\" >8</th>\n",
       "      <td id=\"T_77f36_row8_col0\" class=\"data row8 col0\" >purchases_frequency</td>\n",
       "      <td id=\"T_77f36_row8_col1\" class=\"data row8 col1\" >float64</td>\n",
       "      <td id=\"T_77f36_row8_col2\" class=\"data row8 col2\" >47</td>\n",
       "      <td id=\"T_77f36_row8_col3\" class=\"data row8 col3\" >0</td>\n",
       "      <td id=\"T_77f36_row8_col4\" class=\"data row8 col4\" >0.000000</td>\n",
       "      <td id=\"T_77f36_row8_col5\" class=\"data row8 col5\" >0</td>\n",
       "    </tr>\n",
       "    <tr>\n",
       "      <th id=\"T_77f36_level0_row9\" class=\"row_heading level0 row9\" >9</th>\n",
       "      <td id=\"T_77f36_row9_col0\" class=\"data row9 col0\" >oneoff_purchases_frequency</td>\n",
       "      <td id=\"T_77f36_row9_col1\" class=\"data row9 col1\" >float64</td>\n",
       "      <td id=\"T_77f36_row9_col2\" class=\"data row9 col2\" >47</td>\n",
       "      <td id=\"T_77f36_row9_col3\" class=\"data row9 col3\" >0</td>\n",
       "      <td id=\"T_77f36_row9_col4\" class=\"data row9 col4\" >0.000000</td>\n",
       "      <td id=\"T_77f36_row9_col5\" class=\"data row9 col5\" >0</td>\n",
       "    </tr>\n",
       "    <tr>\n",
       "      <th id=\"T_77f36_level0_row10\" class=\"row_heading level0 row10\" >10</th>\n",
       "      <td id=\"T_77f36_row10_col0\" class=\"data row10 col0\" >purchases_installments_frequency</td>\n",
       "      <td id=\"T_77f36_row10_col1\" class=\"data row10 col1\" >float64</td>\n",
       "      <td id=\"T_77f36_row10_col2\" class=\"data row10 col2\" >47</td>\n",
       "      <td id=\"T_77f36_row10_col3\" class=\"data row10 col3\" >0</td>\n",
       "      <td id=\"T_77f36_row10_col4\" class=\"data row10 col4\" >0.000000</td>\n",
       "      <td id=\"T_77f36_row10_col5\" class=\"data row10 col5\" >0</td>\n",
       "    </tr>\n",
       "    <tr>\n",
       "      <th id=\"T_77f36_level0_row11\" class=\"row_heading level0 row11\" >11</th>\n",
       "      <td id=\"T_77f36_row11_col0\" class=\"data row11 col0\" >cash_advance_frequency</td>\n",
       "      <td id=\"T_77f36_row11_col1\" class=\"data row11 col1\" >float64</td>\n",
       "      <td id=\"T_77f36_row11_col2\" class=\"data row11 col2\" >54</td>\n",
       "      <td id=\"T_77f36_row11_col3\" class=\"data row11 col3\" >0</td>\n",
       "      <td id=\"T_77f36_row11_col4\" class=\"data row11 col4\" >0.000000</td>\n",
       "      <td id=\"T_77f36_row11_col5\" class=\"data row11 col5\" >0</td>\n",
       "    </tr>\n",
       "    <tr>\n",
       "      <th id=\"T_77f36_level0_row12\" class=\"row_heading level0 row12\" >12</th>\n",
       "      <td id=\"T_77f36_row12_col0\" class=\"data row12 col0\" >cash_advance_trx</td>\n",
       "      <td id=\"T_77f36_row12_col1\" class=\"data row12 col1\" >int64</td>\n",
       "      <td id=\"T_77f36_row12_col2\" class=\"data row12 col2\" >65</td>\n",
       "      <td id=\"T_77f36_row12_col3\" class=\"data row12 col3\" >0</td>\n",
       "      <td id=\"T_77f36_row12_col4\" class=\"data row12 col4\" >0.000000</td>\n",
       "      <td id=\"T_77f36_row12_col5\" class=\"data row12 col5\" >0</td>\n",
       "    </tr>\n",
       "    <tr>\n",
       "      <th id=\"T_77f36_level0_row13\" class=\"row_heading level0 row13\" >13</th>\n",
       "      <td id=\"T_77f36_row13_col0\" class=\"data row13 col0\" >purchases_trx</td>\n",
       "      <td id=\"T_77f36_row13_col1\" class=\"data row13 col1\" >int64</td>\n",
       "      <td id=\"T_77f36_row13_col2\" class=\"data row13 col2\" >173</td>\n",
       "      <td id=\"T_77f36_row13_col3\" class=\"data row13 col3\" >0</td>\n",
       "      <td id=\"T_77f36_row13_col4\" class=\"data row13 col4\" >0.000000</td>\n",
       "      <td id=\"T_77f36_row13_col5\" class=\"data row13 col5\" >0</td>\n",
       "    </tr>\n",
       "    <tr>\n",
       "      <th id=\"T_77f36_level0_row14\" class=\"row_heading level0 row14\" >14</th>\n",
       "      <td id=\"T_77f36_row14_col0\" class=\"data row14 col0\" >credit_limit</td>\n",
       "      <td id=\"T_77f36_row14_col1\" class=\"data row14 col1\" >float64</td>\n",
       "      <td id=\"T_77f36_row14_col2\" class=\"data row14 col2\" >205</td>\n",
       "      <td id=\"T_77f36_row14_col3\" class=\"data row14 col3\" >1</td>\n",
       "      <td id=\"T_77f36_row14_col4\" class=\"data row14 col4\" >0.010000</td>\n",
       "      <td id=\"T_77f36_row14_col5\" class=\"data row14 col5\" >0</td>\n",
       "    </tr>\n",
       "    <tr>\n",
       "      <th id=\"T_77f36_level0_row15\" class=\"row_heading level0 row15\" >15</th>\n",
       "      <td id=\"T_77f36_row15_col0\" class=\"data row15 col0\" >payments</td>\n",
       "      <td id=\"T_77f36_row15_col1\" class=\"data row15 col1\" >float64</td>\n",
       "      <td id=\"T_77f36_row15_col2\" class=\"data row15 col2\" >8711</td>\n",
       "      <td id=\"T_77f36_row15_col3\" class=\"data row15 col3\" >0</td>\n",
       "      <td id=\"T_77f36_row15_col4\" class=\"data row15 col4\" >0.000000</td>\n",
       "      <td id=\"T_77f36_row15_col5\" class=\"data row15 col5\" >0</td>\n",
       "    </tr>\n",
       "    <tr>\n",
       "      <th id=\"T_77f36_level0_row16\" class=\"row_heading level0 row16\" >16</th>\n",
       "      <td id=\"T_77f36_row16_col0\" class=\"data row16 col0\" >minimum_payments</td>\n",
       "      <td id=\"T_77f36_row16_col1\" class=\"data row16 col1\" >float64</td>\n",
       "      <td id=\"T_77f36_row16_col2\" class=\"data row16 col2\" >8628</td>\n",
       "      <td id=\"T_77f36_row16_col3\" class=\"data row16 col3\" >321</td>\n",
       "      <td id=\"T_77f36_row16_col4\" class=\"data row16 col4\" >3.590000</td>\n",
       "      <td id=\"T_77f36_row16_col5\" class=\"data row16 col5\" >0</td>\n",
       "    </tr>\n",
       "    <tr>\n",
       "      <th id=\"T_77f36_level0_row17\" class=\"row_heading level0 row17\" >17</th>\n",
       "      <td id=\"T_77f36_row17_col0\" class=\"data row17 col0\" >prc_full_payment</td>\n",
       "      <td id=\"T_77f36_row17_col1\" class=\"data row17 col1\" >float64</td>\n",
       "      <td id=\"T_77f36_row17_col2\" class=\"data row17 col2\" >47</td>\n",
       "      <td id=\"T_77f36_row17_col3\" class=\"data row17 col3\" >0</td>\n",
       "      <td id=\"T_77f36_row17_col4\" class=\"data row17 col4\" >0.000000</td>\n",
       "      <td id=\"T_77f36_row17_col5\" class=\"data row17 col5\" >0</td>\n",
       "    </tr>\n",
       "    <tr>\n",
       "      <th id=\"T_77f36_level0_row18\" class=\"row_heading level0 row18\" >18</th>\n",
       "      <td id=\"T_77f36_row18_col0\" class=\"data row18 col0\" >tenure</td>\n",
       "      <td id=\"T_77f36_row18_col1\" class=\"data row18 col1\" >int64</td>\n",
       "      <td id=\"T_77f36_row18_col2\" class=\"data row18 col2\" >7</td>\n",
       "      <td id=\"T_77f36_row18_col3\" class=\"data row18 col3\" >0</td>\n",
       "      <td id=\"T_77f36_row18_col4\" class=\"data row18 col4\" >0.000000</td>\n",
       "      <td id=\"T_77f36_row18_col5\" class=\"data row18 col5\" >0</td>\n",
       "    </tr>\n",
       "    <tr>\n",
       "      <th id=\"T_77f36_level0_row19\" class=\"row_heading level0 row19\" >19</th>\n",
       "      <td id=\"T_77f36_row19_col0\" class=\"data row19 col0\" >fraud</td>\n",
       "      <td id=\"T_77f36_row19_col1\" class=\"data row19 col1\" >int64</td>\n",
       "      <td id=\"T_77f36_row19_col2\" class=\"data row19 col2\" >2</td>\n",
       "      <td id=\"T_77f36_row19_col3\" class=\"data row19 col3\" >0</td>\n",
       "      <td id=\"T_77f36_row19_col4\" class=\"data row19 col4\" >0.000000</td>\n",
       "      <td id=\"T_77f36_row19_col5\" class=\"data row19 col5\" >0</td>\n",
       "    </tr>\n",
       "  </tbody>\n",
       "</table>\n"
      ],
      "text/plain": [
       "<pandas.io.formats.style.Styler at 0x14a8cd220>"
      ]
     },
     "execution_count": 29,
     "metadata": {},
     "output_type": "execute_result"
    }
   ],
   "source": [
    "df_info.style.highlight_max(color = 'gray', axis = 0)"
   ]
  },
  {
   "cell_type": "markdown",
   "id": "a3fa2f67",
   "metadata": {},
   "source": [
    "###  Missing Value Elimination"
   ]
  },
  {
   "cell_type": "code",
   "execution_count": 30,
   "id": "58d8daf6",
   "metadata": {},
   "outputs": [
    {
     "data": {
      "application/vnd.microsoft.datawrangler.viewer.v0+json": {
       "columns": [
        {
         "name": "index",
         "rawType": "int64",
         "type": "integer"
        },
        {
         "name": "cust_id",
         "rawType": "object",
         "type": "string"
        },
        {
         "name": "activated_date",
         "rawType": "object",
         "type": "string"
        },
        {
         "name": "last_payment_date",
         "rawType": "object",
         "type": "string"
        },
        {
         "name": "balance",
         "rawType": "float64",
         "type": "float"
        },
        {
         "name": "balance_frequency",
         "rawType": "float64",
         "type": "float"
        },
        {
         "name": "purchases",
         "rawType": "float64",
         "type": "float"
        },
        {
         "name": "oneoff_purchases",
         "rawType": "float64",
         "type": "float"
        },
        {
         "name": "installments_purchases",
         "rawType": "float64",
         "type": "float"
        },
        {
         "name": "cash_advance",
         "rawType": "float64",
         "type": "float"
        },
        {
         "name": "purchases_frequency",
         "rawType": "float64",
         "type": "float"
        },
        {
         "name": "oneoff_purchases_frequency",
         "rawType": "float64",
         "type": "float"
        },
        {
         "name": "purchases_installments_frequency",
         "rawType": "float64",
         "type": "float"
        },
        {
         "name": "cash_advance_frequency",
         "rawType": "float64",
         "type": "float"
        },
        {
         "name": "cash_advance_trx",
         "rawType": "int64",
         "type": "integer"
        },
        {
         "name": "purchases_trx",
         "rawType": "int64",
         "type": "integer"
        },
        {
         "name": "credit_limit",
         "rawType": "float64",
         "type": "float"
        },
        {
         "name": "payments",
         "rawType": "float64",
         "type": "float"
        },
        {
         "name": "minimum_payments",
         "rawType": "float64",
         "type": "float"
        },
        {
         "name": "prc_full_payment",
         "rawType": "float64",
         "type": "float"
        },
        {
         "name": "tenure",
         "rawType": "int64",
         "type": "integer"
        },
        {
         "name": "fraud",
         "rawType": "int64",
         "type": "integer"
        }
       ],
       "conversionMethod": "pd.DataFrame",
       "ref": "363f606b-3fb8-464b-b4ce-6a309872a506",
       "rows": [
        [
         "5204",
         "C15349",
         "2020-03-28",
         "2020-07-02",
         "18.400472",
         "0.166667",
         "0.0",
         "0.0",
         "0.0",
         "186.853063",
         "0.0",
         "0.0",
         "0.0",
         "0.166667",
         "1",
         "0",
         null,
         "9.040017",
         "14.418723",
         "0.0",
         "6",
         "0"
        ]
       ],
       "shape": {
        "columns": 21,
        "rows": 1
       }
      },
      "text/html": [
       "<div>\n",
       "<style scoped>\n",
       "    .dataframe tbody tr th:only-of-type {\n",
       "        vertical-align: middle;\n",
       "    }\n",
       "\n",
       "    .dataframe tbody tr th {\n",
       "        vertical-align: top;\n",
       "    }\n",
       "\n",
       "    .dataframe thead th {\n",
       "        text-align: right;\n",
       "    }\n",
       "</style>\n",
       "<table border=\"1\" class=\"dataframe\">\n",
       "  <thead>\n",
       "    <tr style=\"text-align: right;\">\n",
       "      <th></th>\n",
       "      <th>cust_id</th>\n",
       "      <th>activated_date</th>\n",
       "      <th>last_payment_date</th>\n",
       "      <th>balance</th>\n",
       "      <th>balance_frequency</th>\n",
       "      <th>purchases</th>\n",
       "      <th>oneoff_purchases</th>\n",
       "      <th>installments_purchases</th>\n",
       "      <th>cash_advance</th>\n",
       "      <th>purchases_frequency</th>\n",
       "      <th>...</th>\n",
       "      <th>purchases_installments_frequency</th>\n",
       "      <th>cash_advance_frequency</th>\n",
       "      <th>cash_advance_trx</th>\n",
       "      <th>purchases_trx</th>\n",
       "      <th>credit_limit</th>\n",
       "      <th>payments</th>\n",
       "      <th>minimum_payments</th>\n",
       "      <th>prc_full_payment</th>\n",
       "      <th>tenure</th>\n",
       "      <th>fraud</th>\n",
       "    </tr>\n",
       "  </thead>\n",
       "  <tbody>\n",
       "    <tr>\n",
       "      <th>5204</th>\n",
       "      <td>C15349</td>\n",
       "      <td>2020-03-28</td>\n",
       "      <td>2020-07-02</td>\n",
       "      <td>18.400472</td>\n",
       "      <td>0.166667</td>\n",
       "      <td>0.0</td>\n",
       "      <td>0.0</td>\n",
       "      <td>0.0</td>\n",
       "      <td>186.853063</td>\n",
       "      <td>0.0</td>\n",
       "      <td>...</td>\n",
       "      <td>0.0</td>\n",
       "      <td>0.166667</td>\n",
       "      <td>1</td>\n",
       "      <td>0</td>\n",
       "      <td>NaN</td>\n",
       "      <td>9.040017</td>\n",
       "      <td>14.418723</td>\n",
       "      <td>0.0</td>\n",
       "      <td>6</td>\n",
       "      <td>0</td>\n",
       "    </tr>\n",
       "  </tbody>\n",
       "</table>\n",
       "<p>1 rows × 21 columns</p>\n",
       "</div>"
      ],
      "text/plain": [
       "     cust_id activated_date last_payment_date    balance  balance_frequency  \\\n",
       "5204  C15349     2020-03-28        2020-07-02  18.400472           0.166667   \n",
       "\n",
       "      purchases  oneoff_purchases  installments_purchases  cash_advance  \\\n",
       "5204        0.0               0.0                     0.0    186.853063   \n",
       "\n",
       "      purchases_frequency  ...  purchases_installments_frequency  \\\n",
       "5204                  0.0  ...                               0.0   \n",
       "\n",
       "      cash_advance_frequency  cash_advance_trx  purchases_trx  credit_limit  \\\n",
       "5204                0.166667                 1              0           NaN   \n",
       "\n",
       "      payments  minimum_payments  prc_full_payment  tenure  fraud  \n",
       "5204  9.040017         14.418723               0.0       6      0  \n",
       "\n",
       "[1 rows x 21 columns]"
      ]
     },
     "execution_count": 30,
     "metadata": {},
     "output_type": "execute_result"
    }
   ],
   "source": [
    "# missing values in 'credit_limit' column(this column has one missing value)\n",
    "nulls_value = pd.isnull(df_q3[\"credit_limit\"])\n",
    "df_q3[nulls_value]"
   ]
  },
  {
   "cell_type": "code",
   "execution_count": 31,
   "id": "5f1f455a",
   "metadata": {},
   "outputs": [],
   "source": [
    "#We drop the row with missing value in 'credit_limit' column\n",
    "df_q3.drop([5204], axis=0, inplace=True)\n",
    "df_q3.reset_index( inplace = True)\n",
    "df_q3.drop('index',axis=1,inplace = True)"
   ]
  },
  {
   "cell_type": "code",
   "execution_count": 32,
   "id": "66ceb88a",
   "metadata": {},
   "outputs": [
    {
     "data": {
      "application/vnd.microsoft.datawrangler.viewer.v0+json": {
       "columns": [
        {
         "name": "index",
         "rawType": "int64",
         "type": "integer"
        },
        {
         "name": "payments",
         "rawType": "float64",
         "type": "float"
        },
        {
         "name": "minimum_payments",
         "rawType": "float64",
         "type": "float"
        }
       ],
       "conversionMethod": "pd.DataFrame",
       "ref": "bf85a975-df21-41f1-911d-43d0c9049037",
       "rows": [
        [
         "3",
         "0.0",
         null
        ],
        [
         "45",
         "0.0",
         null
        ],
        [
         "47",
         "0.0",
         null
        ],
        [
         "54",
         "417.016763",
         null
        ],
        [
         "55",
         "0.0",
         null
        ],
        [
         "56",
         "0.0",
         null
        ],
        [
         "63",
         "0.0",
         null
        ],
        [
         "93",
         "0.0",
         null
        ],
        [
         "94",
         "0.0",
         null
        ],
        [
         "97",
         "0.0",
         null
        ],
        [
         "99",
         "138.021428",
         null
        ],
        [
         "103",
         "0.0",
         null
        ],
        [
         "111",
         "0.0",
         null
        ],
        [
         "121",
         "0.0",
         null
        ],
        [
         "129",
         "0.0",
         null
        ],
        [
         "130",
         "0.0",
         null
        ],
        [
         "142",
         "0.0",
         null
        ],
        [
         "146",
         "746.691026",
         null
        ],
        [
         "156",
         "0.0",
         null
        ],
        [
         "176",
         "0.0",
         null
        ],
        [
         "181",
         "0.0",
         null
        ],
        [
         "183",
         "0.0",
         null
        ],
        [
         "188",
         "0.0",
         null
        ],
        [
         "191",
         "0.0",
         null
        ],
        [
         "215",
         "0.0",
         null
        ],
        [
         "235",
         "0.0",
         null
        ],
        [
         "240",
         "0.0",
         null
        ],
        [
         "277",
         "0.0",
         null
        ],
        [
         "309",
         "0.0",
         null
        ],
        [
         "312",
         "0.0",
         null
        ],
        [
         "319",
         "1159.135064",
         null
        ],
        [
         "353",
         "0.0",
         null
        ],
        [
         "372",
         "0.0",
         null
        ],
        [
         "402",
         "565.71913",
         null
        ],
        [
         "404",
         "0.0",
         null
        ],
        [
         "406",
         "0.0",
         null
        ],
        [
         "412",
         "0.0",
         null
        ],
        [
         "422",
         "0.0",
         null
        ],
        [
         "517",
         "0.0",
         null
        ],
        [
         "537",
         "1727.425472",
         null
        ],
        [
         "573",
         "0.0",
         null
        ],
        [
         "654",
         "0.0",
         null
        ],
        [
         "667",
         "0.0",
         null
        ],
        [
         "773",
         "0.0",
         null
        ],
        [
         "782",
         "0.0",
         null
        ],
        [
         "788",
         "0.0",
         null
        ],
        [
         "796",
         "0.0",
         null
        ],
        [
         "805",
         "0.0",
         null
        ],
        [
         "818",
         "0.0",
         null
        ],
        [
         "833",
         "0.0",
         null
        ]
       ],
       "shape": {
        "columns": 2,
        "rows": 321
       }
      },
      "text/html": [
       "<div>\n",
       "<style scoped>\n",
       "    .dataframe tbody tr th:only-of-type {\n",
       "        vertical-align: middle;\n",
       "    }\n",
       "\n",
       "    .dataframe tbody tr th {\n",
       "        vertical-align: top;\n",
       "    }\n",
       "\n",
       "    .dataframe thead th {\n",
       "        text-align: right;\n",
       "    }\n",
       "</style>\n",
       "<table border=\"1\" class=\"dataframe\">\n",
       "  <thead>\n",
       "    <tr style=\"text-align: right;\">\n",
       "      <th></th>\n",
       "      <th>payments</th>\n",
       "      <th>minimum_payments</th>\n",
       "    </tr>\n",
       "  </thead>\n",
       "  <tbody>\n",
       "    <tr>\n",
       "      <th>3</th>\n",
       "      <td>0.000000</td>\n",
       "      <td>NaN</td>\n",
       "    </tr>\n",
       "    <tr>\n",
       "      <th>45</th>\n",
       "      <td>0.000000</td>\n",
       "      <td>NaN</td>\n",
       "    </tr>\n",
       "    <tr>\n",
       "      <th>47</th>\n",
       "      <td>0.000000</td>\n",
       "      <td>NaN</td>\n",
       "    </tr>\n",
       "    <tr>\n",
       "      <th>54</th>\n",
       "      <td>417.016763</td>\n",
       "      <td>NaN</td>\n",
       "    </tr>\n",
       "    <tr>\n",
       "      <th>55</th>\n",
       "      <td>0.000000</td>\n",
       "      <td>NaN</td>\n",
       "    </tr>\n",
       "    <tr>\n",
       "      <th>...</th>\n",
       "      <td>...</td>\n",
       "      <td>...</td>\n",
       "    </tr>\n",
       "    <tr>\n",
       "      <th>8918</th>\n",
       "      <td>0.000000</td>\n",
       "      <td>NaN</td>\n",
       "    </tr>\n",
       "    <tr>\n",
       "      <th>8928</th>\n",
       "      <td>0.000000</td>\n",
       "      <td>NaN</td>\n",
       "    </tr>\n",
       "    <tr>\n",
       "      <th>8934</th>\n",
       "      <td>0.000000</td>\n",
       "      <td>NaN</td>\n",
       "    </tr>\n",
       "    <tr>\n",
       "      <th>8943</th>\n",
       "      <td>0.000000</td>\n",
       "      <td>NaN</td>\n",
       "    </tr>\n",
       "    <tr>\n",
       "      <th>8945</th>\n",
       "      <td>275.861322</td>\n",
       "      <td>NaN</td>\n",
       "    </tr>\n",
       "  </tbody>\n",
       "</table>\n",
       "<p>321 rows × 2 columns</p>\n",
       "</div>"
      ],
      "text/plain": [
       "        payments  minimum_payments\n",
       "3       0.000000               NaN\n",
       "45      0.000000               NaN\n",
       "47      0.000000               NaN\n",
       "54    417.016763               NaN\n",
       "55      0.000000               NaN\n",
       "...          ...               ...\n",
       "8918    0.000000               NaN\n",
       "8928    0.000000               NaN\n",
       "8934    0.000000               NaN\n",
       "8943    0.000000               NaN\n",
       "8945  275.861322               NaN\n",
       "\n",
       "[321 rows x 2 columns]"
      ]
     },
     "execution_count": 32,
     "metadata": {},
     "output_type": "execute_result"
    }
   ],
   "source": [
    "# minimum_payments has so much missing value so it is reasonable to find a solution for fill them\n",
    "df_q3[['payments', 'minimum_payments']][df_q3['minimum_payments'].isna()]"
   ]
  },
  {
   "cell_type": "markdown",
   "id": "3c0112a5",
   "metadata": {},
   "source": [
    "Obviously, the value of zero should be used for minimum_payments's cells Who they haven't done any payments so ➡ payments = 0 ➡ minimum_payments = 0"
   ]
  },
  {
   "cell_type": "code",
   "execution_count": 33,
   "id": "2687bd8a",
   "metadata": {},
   "outputs": [
    {
     "name": "stdout",
     "output_type": "stream",
     "text": [
      "Shape: (2358, 2)\n"
     ]
    },
    {
     "data": {
      "application/vnd.microsoft.datawrangler.viewer.v0+json": {
       "columns": [
        {
         "name": "index",
         "rawType": "int64",
         "type": "integer"
        },
        {
         "name": "payments",
         "rawType": "float64",
         "type": "float"
        },
        {
         "name": "minimum_payments",
         "rawType": "float64",
         "type": "float"
        }
       ],
       "conversionMethod": "pd.DataFrame",
       "ref": "48a1466b-75d5-47af-bd0d-ec143b51256a",
       "rows": [
        [
         "2",
         "622.066742",
         "627.284787"
        ],
        [
         "5",
         "1400.05777",
         "2407.246035"
        ],
        [
         "10",
         "1083.301007",
         "2172.697765"
        ],
        [
         "14",
         "805.647974",
         "989.962866"
        ],
        [
         "15",
         "1993.439277",
         "2109.90649"
        ],
        [
         "19",
         "1053.980464",
         "12465.54938"
        ],
        [
         "20",
         "223.0686",
         "13557.29726"
        ],
        [
         "24",
         "1422.726707",
         "1657.002877"
        ],
        [
         "26",
         "890.178845",
         "971.183209"
        ],
        [
         "28",
         "1601.448347",
         "1648.851345"
        ],
        [
         "32",
         "1720.118876",
         "2506.745366"
        ],
        [
         "34",
         "8735.607835",
         "17862.55831"
        ],
        [
         "35",
         "351.500199",
         "634.569311"
        ],
        [
         "36",
         "1636.361601",
         "1986.843608"
        ],
        [
         "38",
         "1237.111661",
         "2049.408839"
        ],
        [
         "42",
         "868.275275",
         "1801.264841"
        ],
        [
         "58",
         "764.938728",
         "1600.212243"
        ],
        [
         "61",
         "338.083661",
         "837.215674"
        ],
        [
         "65",
         "777.451648",
         "897.905444"
        ],
        [
         "66",
         "146.074769",
         "179.412493"
        ],
        [
         "70",
         "1288.214909",
         "2180.881868"
        ],
        [
         "75",
         "1990.044998",
         "2161.428274"
        ],
        [
         "78",
         "29.278671",
         "8242.687678"
        ],
        [
         "79",
         "1624.583114",
         "2503.40234"
        ],
        [
         "81",
         "116.569033",
         "164.692136"
        ],
        [
         "89",
         "1502.205631",
         "2864.380327"
        ],
        [
         "90",
         "6409.496345",
         "9827.045323"
        ],
        [
         "95",
         "151.823651",
         "2906.110765"
        ],
        [
         "100",
         "26.487919",
         "60.913577"
        ],
        [
         "105",
         "532.741699",
         "1026.976"
        ],
        [
         "107",
         "1241.538024",
         "1439.230899"
        ],
        [
         "112",
         "1509.423237",
         "1834.031569"
        ],
        [
         "113",
         "1277.76778",
         "2760.115734"
        ],
        [
         "117",
         "687.691735",
         "2439.136113"
        ],
        [
         "120",
         "1888.756861",
         "2167.446204"
        ],
        [
         "123",
         "1065.426905",
         "1412.648089"
        ],
        [
         "124",
         "3066.614272",
         "3406.258999"
        ],
        [
         "127",
         "1004.35474",
         "1086.428906"
        ],
        [
         "128",
         "2606.059389",
         "2894.077159"
        ],
        [
         "131",
         "1906.032044",
         "3572.279251"
        ],
        [
         "140",
         "492.200419",
         "509.384182"
        ],
        [
         "145",
         "698.854095",
         "819.682666"
        ],
        [
         "150",
         "3685.61062",
         "12854.9397"
        ],
        [
         "157",
         "363.474455",
         "2827.997525"
        ],
        [
         "161",
         "1009.185035",
         "1177.149934"
        ],
        [
         "163",
         "422.711848",
         "616.005839"
        ],
        [
         "165",
         "1346.365584",
         "1972.526015"
        ],
        [
         "168",
         "1202.711782",
         "1747.037345"
        ],
        [
         "187",
         "579.749308",
         "693.894717"
        ],
        [
         "189",
         "277.522439",
         "286.299328"
        ]
       ],
       "shape": {
        "columns": 2,
        "rows": 2358
       }
      },
      "text/html": [
       "<div>\n",
       "<style scoped>\n",
       "    .dataframe tbody tr th:only-of-type {\n",
       "        vertical-align: middle;\n",
       "    }\n",
       "\n",
       "    .dataframe tbody tr th {\n",
       "        vertical-align: top;\n",
       "    }\n",
       "\n",
       "    .dataframe thead th {\n",
       "        text-align: right;\n",
       "    }\n",
       "</style>\n",
       "<table border=\"1\" class=\"dataframe\">\n",
       "  <thead>\n",
       "    <tr style=\"text-align: right;\">\n",
       "      <th></th>\n",
       "      <th>payments</th>\n",
       "      <th>minimum_payments</th>\n",
       "    </tr>\n",
       "  </thead>\n",
       "  <tbody>\n",
       "    <tr>\n",
       "      <th>2</th>\n",
       "      <td>622.066742</td>\n",
       "      <td>627.284787</td>\n",
       "    </tr>\n",
       "    <tr>\n",
       "      <th>5</th>\n",
       "      <td>1400.057770</td>\n",
       "      <td>2407.246035</td>\n",
       "    </tr>\n",
       "    <tr>\n",
       "      <th>10</th>\n",
       "      <td>1083.301007</td>\n",
       "      <td>2172.697765</td>\n",
       "    </tr>\n",
       "    <tr>\n",
       "      <th>14</th>\n",
       "      <td>805.647974</td>\n",
       "      <td>989.962866</td>\n",
       "    </tr>\n",
       "    <tr>\n",
       "      <th>15</th>\n",
       "      <td>1993.439277</td>\n",
       "      <td>2109.906490</td>\n",
       "    </tr>\n",
       "    <tr>\n",
       "      <th>...</th>\n",
       "      <td>...</td>\n",
       "      <td>...</td>\n",
       "    </tr>\n",
       "    <tr>\n",
       "      <th>8932</th>\n",
       "      <td>106.138603</td>\n",
       "      <td>337.294767</td>\n",
       "    </tr>\n",
       "    <tr>\n",
       "      <th>8938</th>\n",
       "      <td>72.530037</td>\n",
       "      <td>110.950798</td>\n",
       "    </tr>\n",
       "    <tr>\n",
       "      <th>8946</th>\n",
       "      <td>81.270775</td>\n",
       "      <td>82.418369</td>\n",
       "    </tr>\n",
       "    <tr>\n",
       "      <th>8947</th>\n",
       "      <td>52.549959</td>\n",
       "      <td>55.755628</td>\n",
       "    </tr>\n",
       "    <tr>\n",
       "      <th>8948</th>\n",
       "      <td>63.165404</td>\n",
       "      <td>88.288956</td>\n",
       "    </tr>\n",
       "  </tbody>\n",
       "</table>\n",
       "<p>2358 rows × 2 columns</p>\n",
       "</div>"
      ],
      "text/plain": [
       "         payments  minimum_payments\n",
       "2      622.066742        627.284787\n",
       "5     1400.057770       2407.246035\n",
       "10    1083.301007       2172.697765\n",
       "14     805.647974        989.962866\n",
       "15    1993.439277       2109.906490\n",
       "...           ...               ...\n",
       "8932   106.138603        337.294767\n",
       "8938    72.530037        110.950798\n",
       "8946    81.270775         82.418369\n",
       "8947    52.549959         55.755628\n",
       "8948    63.165404         88.288956\n",
       "\n",
       "[2358 rows x 2 columns]"
      ]
     },
     "execution_count": 33,
     "metadata": {},
     "output_type": "execute_result"
    }
   ],
   "source": [
    "# There are a number of rows where PAYMENTS's values are less than MINIMUM_PAYMENTS\n",
    "\n",
    "print('Shape:', df_q3[['payments', 'minimum_payments']][(df_q3['minimum_payments'].notna()) & (df_q3['payments'] < df_q3['minimum_payments'])].shape)\n",
    "df_q3[['payments', 'minimum_payments']][(df_q3['minimum_payments'].notna()) & (df_q3['payments'] < df_q3['minimum_payments'])]"
   ]
  },
  {
   "cell_type": "markdown",
   "id": "d6eac29f",
   "metadata": {},
   "source": [
    "For filling the missing values of minimum_payments , we proceed as follows:\n",
    "\n",
    "- If it has the value of payments and is equal to zero, we consider the zero for it\n",
    "- If payments is a value between 0 and payments_mean, we use payments\n",
    "- Otherwise, we use payments_mean\n",
    "\n",
    "\n",
    "This method is correct because there are 2358 rows in the data set where payments is less than minimum_payments, so the data itself has given us this permission.\n",
    "\n"
   ]
  },
  {
   "cell_type": "code",
   "execution_count": 34,
   "id": "6b743bc5",
   "metadata": {},
   "outputs": [
    {
     "name": "stdout",
     "output_type": "stream",
     "text": [
      "Missing (before): 457\n",
      "Missing (after): 0\n"
     ]
    }
   ],
   "source": [
    "minpay = df_q3['minimum_payments'].copy() # make a copy of minimum_payments\n",
    "payments_mean = np.mean(df['payments']) # take the mean value of payments\n",
    "\n",
    "i = 0\n",
    "for payments, minpayments in zip(df_q3['payments'], df_q3['minimum_payments'].isna()):\n",
    "    if (payments == 0) and (minpayments == True):\n",
    "        minpay[i] = 0\n",
    "    elif (0 < payments < payments_mean) and (minpayments == True): \n",
    "        minpay[i] = payments\n",
    "    elif minpayments == True: \n",
    "\n",
    "        minpay[i] = payments_mean\n",
    "    i += 1\n",
    "    \n",
    "print(f'Missing (before): {df_q3.isna().sum().sum()}')\n",
    "print(f'Missing (after): {minpay.isna().sum().sum()}')\n",
    "\n",
    "df_q3['minimum_payments'] = minpay.copy()"
   ]
  },
  {
   "cell_type": "code",
   "execution_count": 35,
   "id": "8bd3e94d",
   "metadata": {},
   "outputs": [],
   "source": [
    "#JUST RUN ONCE\n",
    "df_q3.drop('cust_id',axis=1,inplace = True) # We drop the column as it is no longer needed"
   ]
  },
  {
   "cell_type": "code",
   "execution_count": 36,
   "id": "836b9b3f",
   "metadata": {},
   "outputs": [
    {
     "data": {
      "text/plain": [
       "activated_date                       13\n",
       "last_payment_date                     9\n",
       "balance                               2\n",
       "balance_frequency                     0\n",
       "purchases                             0\n",
       "oneoff_purchases                      0\n",
       "installments_purchases                0\n",
       "cash_advance                        112\n",
       "purchases_frequency                   0\n",
       "oneoff_purchases_frequency            0\n",
       "purchases_installments_frequency      0\n",
       "cash_advance_frequency                0\n",
       "cash_advance_trx                      0\n",
       "purchases_trx                         0\n",
       "credit_limit                          0\n",
       "payments                              0\n",
       "minimum_payments                      0\n",
       "prc_full_payment                      0\n",
       "tenure                                0\n",
       "fraud                                 0\n",
       "dtype: int64"
      ]
     },
     "execution_count": 36,
     "metadata": {},
     "output_type": "execute_result"
    }
   ],
   "source": [
    "df_q3.isna().sum()"
   ]
  },
  {
   "cell_type": "markdown",
   "id": "184b04c5",
   "metadata": {},
   "source": [
    "We can still se NaNs in activated_date, last_payment_date amnd cash_advance.\n",
    "\n",
    "These values are gonna be treated during the modeling part"
   ]
  },
  {
   "cell_type": "markdown",
   "id": "163e5b0e",
   "metadata": {},
   "source": [
    "### Modeling"
   ]
  },
  {
   "cell_type": "markdown",
   "id": "44312a9c",
   "metadata": {},
   "source": [
    "For the task of building a predictive model for fraud, which involves classifying transactions or customers as either fraudulent (1) or not fraudulent (0), a **binary classification approach** is required. After analyzing the problem and the dataset characteristics, **Logistic Regression** and **XGBoost Classifier** were selected as suitable modeling algorithms for the following reasons:\n",
    "\n",
    "1.  **Logistic Regression (LR):**\n",
    "    * **Strong Baseline & Interpretability:** LR serves as an excellent, industry-standard baseline model for binary classification, Its relatively simple linear nature allows for clear interpretation of results through coefficient analysis, helping to understand the directional influence of each feature on the predicted probability of fraud (after appropriate scaling).\n",
    "    * **Efficiency:** It is computationally efficient and trains relatively quickly on datasets of this size.\n",
    "    * **Handling Imbalance:** Provides mechanisms to handle class imbalance effectively through parameters like `class_weight='balanced'`, which was utilized in our implementation.\n",
    "\n",
    "2.  **XGBoost Classifier (XGB):**\n",
    "    * **High Predictive Performance:** XGBoost is a powerful gradient boosting algorithm frequently known to achieve state-of-the-art results on structured (tabular) datasets like the one provided. It often captures complex patterns leading to high accuracy and robustness.\n",
    "    * **Captures Non-linearity & Interactions:** Unlike LR, tree-based ensembles like XGBoost can inherently model complex non-linear relationships between features and the target variable. They can also automatically capture feature interactions (e.g., how the combination of high purchases *and* low payments might indicate risk), which are often crucial in fraud detection scenarios.\n",
    "    * **Robustness & Regularization:** XGBoost includes built-in regularization techniques (L1 and L2) to prevent overfitting and is generally robust to outliers. It also offers effective parameters (like `scale_pos_weight`) for handling class imbalance.\n",
    "\n",
    "3.  **Complementary Approaches:** Implementing both models allows for a comparative analysis. Comparing the performance of a strong linear baseline (LR) against a powerful non-linear ensemble (XGBoost) helps determine the extent to which non-linearities and feature interactions contribute to predictive power for this specific fraud detection problem. This provides a more comprehensive understanding of the data and the modeling possibilities.\n",
    "\n",
    "Therefore, the combination of Logistic Regression and XGBoost provides a robust, interpretable, and high-performance approach suitable for addressing the binary classification task of fraud prediction with this dataset."
   ]
  },
  {
   "cell_type": "code",
   "execution_count": 37,
   "id": "34d48345",
   "metadata": {},
   "outputs": [
    {
     "name": "stdout",
     "output_type": "stream",
     "text": [
      "Splitting data into training and testing sets...\n",
      "Split complete: 6264 training, 2685 testing.\n",
      "Preprocessor created.\n",
      "Defining base models...\n",
      "XGBoost model defined.\n"
     ]
    }
   ],
   "source": [
    "df_clean = df_q3.copy() # Use the clean DataFrame for analysis\n",
    "\n",
    "\n",
    "# Feature and Target Definition \n",
    "features_list = [ \n",
    "    'balance', 'balance_frequency', 'purchases', 'oneoff_purchases',\n",
    "    'installments_purchases', 'cash_advance', 'purchases_frequency',\n",
    "    'oneoff_purchases_frequency', 'purchases_installments_frequency',\n",
    "    'cash_advance_frequency', 'cash_advance_trx', 'purchases_trx',\n",
    "    'credit_limit', 'payments', 'minimum_payments', 'prc_full_payment',\n",
    "    'tenure'\n",
    "]\n",
    "target_col = 'fraud'\n",
    "\n",
    "X = df_clean[features_list] # Using df_clean\n",
    "y = df_clean[target_col]   # Using df_clean\n",
    "\n",
    "\n",
    "# Train / Test Split \n",
    "print(\"Splitting data into training and testing sets...\")\n",
    "X_train, X_test, y_train, y_test = train_test_split(\n",
    "    X, y, test_size=0.3, random_state=42, stratify=y\n",
    ")\n",
    "print(f\"Split complete: {X_train.shape[0]} training, {X_test.shape[0]} testing.\")\n",
    "\n",
    "\n",
    "# Get the Preprocessor \n",
    "preprocessor = create_preprocessor()\n",
    "print(\"Preprocessor created.\")\n",
    "\n",
    "\n",
    "# Base Model Definition (with balancing)\n",
    "print(\"Defining base models...\")\n",
    "# Calculate weights for balancing\n",
    "is_imbalanced = (y_train.value_counts(normalize=True).min() < 0.15) # Example threshold\n",
    "scale_pos_weight_xgb = (y_train == 0).sum() / (y_train == 1).sum() if is_imbalanced else 1\n",
    "\n",
    "# Base Logistic Model\n",
    "lr_base = LogisticRegression(random_state=42,\n",
    "                             class_weight='balanced' if is_imbalanced else None,\n",
    "                             max_iter=1000, solver='liblinear')\n",
    "\n",
    "# Base XGBoost Model\n",
    "xgb_base = None\n",
    "if XGBClassifier:\n",
    "    xgb_base = XGBClassifier(random_state=42, use_label_encoder=False,\n",
    "                             eval_metric='logloss',\n",
    "                             scale_pos_weight=scale_pos_weight_xgb if is_imbalanced else 1)\n",
    "    print(\"XGBoost model defined.\")\n",
    "else:\n",
    "    print(\"Warning: XGBoost is not available.\")"
   ]
  },
  {
   "cell_type": "markdown",
   "id": "5c0da021",
   "metadata": {},
   "source": [
    "This step prepares the data and base models for training and evaluation:\n",
    "\n",
    "1.  **Define Features & Target:** Selects the predictor columns (`X`) and the target variable (`y = 'fraud'`) from the cleaned dataset.\n",
    "2.  **Train/Test Split:** Divides the data into training and testing sets (`X_train`, `X_test`, `y_train`, `y_test`), ensuring the proportion of fraud cases (`stratify=y`) is maintained in both splits.\n",
    "3.  **Create Preprocessor:** Defines a standard preprocessing pipeline (`preprocessor`) involving median imputation (handling missing values) and feature scaling (`StandardScaler`).\n",
    "4.  **Define Base Models:** Initializes the base `LogisticRegression` (`lr_base`) and `XGBClassifier` (`xgb_base`) models, crucially incorporating parameters (`class_weight='balanced'` or `scale_pos_weight`) to address the class imbalance identified in the training data (`y_train`)."
   ]
  },
  {
   "cell_type": "code",
   "execution_count": 38,
   "id": "442d8e3d",
   "metadata": {},
   "outputs": [
    {
     "name": "stdout",
     "output_type": "stream",
     "text": [
      "Data split: 6264 for training, 2685 for testing.\n",
      "Distribution of 'fraud' in training set:\n",
      "fraud\n",
      "0    0.992178\n",
      "1    0.007822\n",
      "Name: proportion, dtype: float64\n",
      "Distribution of 'fraud' in test set:\n",
      "fraud\n",
      "0    0.992179\n",
      "1    0.007821\n",
      "Name: proportion, dtype: float64\n"
     ]
    }
   ],
   "source": [
    "print(f\"Data split: {X_train.shape[0]} for training, {X_test.shape[0]} for testing.\")\n",
    "print(f\"Distribution of 'fraud' in training set:\\n{y_train.value_counts(normalize=True)}\")\n",
    "print(f\"Distribution of 'fraud' in test set:\\n{y_test.value_counts(normalize=True)}\")"
   ]
  },
  {
   "cell_type": "markdown",
   "id": "60d58054",
   "metadata": {},
   "source": [
    "### Logistic Regression"
   ]
  },
  {
   "cell_type": "code",
   "execution_count": 39,
   "id": "9f992572",
   "metadata": {},
   "outputs": [
    {
     "name": "stdout",
     "output_type": "stream",
     "text": [
      "Dictionaries for results and importance initialized.\n"
     ]
    }
   ],
   "source": [
    "# Initialize dictionaries to store global results\n",
    "trainers = {}\n",
    "results = {}\n",
    "importances = {}\n",
    "print(\"Dictionaries for results and importance initialized.\")"
   ]
  },
  {
   "cell_type": "code",
   "execution_count": 40,
   "id": "ed21338b",
   "metadata": {},
   "outputs": [
    {
     "name": "stdout",
     "output_type": "stream",
     "text": [
      "\n",
      "--- Training Model: Logistic Regression ---\n",
      "Training completed for Logistic Regression.\n",
      "\n",
      "--- Evaluating Model: Logistic Regression ---\n",
      "\n",
      "Classification Report:\n",
      "              precision    recall  f1-score   support\n",
      "\n",
      "           0       1.00      0.96      0.98      2664\n",
      "           1       0.13      0.76      0.22        21\n",
      "\n",
      "    accuracy                           0.96      2685\n",
      "   macro avg       0.56      0.86      0.60      2685\n",
      "weighted avg       0.99      0.96      0.97      2685\n",
      "\n",
      "Confusion Matrix:\n"
     ]
    },
    {
     "data": {
      "image/png": "[encoded data removed]",
      "text/plain": [
       "<Figure size 640x480 with 2 Axes>"
      ]
     },
     "metadata": {},
     "output_type": "display_data"
    },
    {
     "name": "stdout",
     "output_type": "stream",
     "text": [
      "\n",
      "AUC-ROC Score: 0.8714\n",
      "Average Precision Score (PR AUC): 0.6005\n"
     ]
    }
   ],
   "source": [
    "# Train and Evaluate Logistic Regression Model\n",
    "\n",
    "\n",
    "model_name_lr = \"Logistic Regression\" \n",
    "lr_trainer = None # Initialize in case creation fails\n",
    "\n",
    "\n",
    "# Instantiate the specific trainer for LR\n",
    "lr_trainer = FraudModelTrainer(model=lr_base,\n",
    "                                model_name=model_name_lr,\n",
    "                                preprocessor=preprocessor)\n",
    "trainers[model_name_lr] = lr_trainer # Store reference to the trainer\n",
    "\n",
    "# Train\n",
    "lr_trainer.train(X_train, y_train)\n",
    "\n",
    "# Evaluate and store results\n",
    "lr_eval_results = lr_trainer.evaluate(X_test, y_test)\n",
    "\n",
    "results[model_name_lr] = lr_eval_results # Store main metrics\n"
   ]
  },
  {
   "cell_type": "markdown",
   "id": "c4e06dd6",
   "metadata": {},
   "source": [
    "**Logistic Regression Results Analysis**\n",
    "\n",
    "The Logistic Regression model was trained using `class_weight='balanced'` to account for the severe class imbalance in the `fraud` variable. Here's an analysis of its performance on the test set:\n",
    "\n",
    "**Overall Performance:**\n",
    "\n",
    "* **AUC-ROC:** The score of **~0.871** is high, indicating good overall discrimination ability between the 'fraud' and 'no fraud' classes across different probability thresholds.\n",
    "* **Average Precision (PR AUC):** The score of **~0.600** is quite strong, especially for an imbalanced dataset. Since the baseline (random guessing) Average Precision would be equal to the prevalence of the positive class, a score of 0.741 indicates the model has significant skill in identifying fraud cases compared to random chance.\n",
    "\n",
    "**Fraud Class (Class 1) Performance:**\n",
    "\n",
    "* **Recall:** The model achieved a **high Recall of 0.76**. This means it successfully identified 76% of the actual fraud cases in the test set, missing only 5 (False Negatives). This is often a primary goal in fraud detection – minimizing missed fraud.\n",
    "* **Precision:** The model suffers from **very low Precision (0.13)**. This indicates that out of all the instances the model predicted as fraud, only 13% were actual fraud cases. There were 109 False Positives (legitimate cases flagged as fraud) compared to only 16 True Positives.\n",
    "* **F1-Score:** The low F1-score (0.22) reflects the large imbalance between the high Recall and low Precision.\n",
    "* **Trade-off:** The use of `class_weight='balanced'` clearly biased the model towards achieving high Recall at the significant cost of generating many false positives. Whether this trade-off is acceptable depends heavily on the business context (cost of missing fraud vs. cost of investigating false alarms).\n",
    "\n",
    "**Conclusion:**\n",
    "\n",
    "The Logistic Regression model, when adjusted for class imbalance, excels at **finding most of the fraud cases (high Recall)** and demonstrates good overall discriminative ability (high AUC and AP scores). However, its major drawback is its **very low Precision**, leading to a high volume of false positives. Its practical utility would depend on the operational capacity to handle these false alarms versus the tolerance for missing fraud incidents. The most influential factors according to this linear model relate to payment completeness, purchase/cash advance behavior frequencies, credit limit, and cash advance amounts."
   ]
  },
  {
   "cell_type": "markdown",
   "id": "58e4a16d",
   "metadata": {},
   "source": [
    "## XGBoost"
   ]
  },
  {
   "cell_type": "code",
   "execution_count": 50,
   "id": "adc3710e",
   "metadata": {},
   "outputs": [
    {
     "name": "stdout",
     "output_type": "stream",
     "text": [
      "\n",
      "--- Training Model: XGBoost ---\n",
      "Training completed for XGBoost.\n",
      "\n",
      "--- Evaluating Model: XGBoost ---\n",
      "\n",
      "Classification Report:\n",
      "              precision    recall  f1-score   support\n",
      "\n",
      "           0       1.00      1.00      1.00      2664\n",
      "           1       0.77      0.48      0.59        21\n",
      "\n",
      "    accuracy                           0.99      2685\n",
      "   macro avg       0.88      0.74      0.79      2685\n",
      "weighted avg       0.99      0.99      0.99      2685\n",
      "\n",
      "Confusion Matrix:\n"
     ]
    },
    {
     "data": {
      "image/png": "[encoded data removed]",
      "text/plain": [
       "<Figure size 640x480 with 2 Axes>"
      ]
     },
     "metadata": {},
     "output_type": "display_data"
    },
    {
     "name": "stdout",
     "output_type": "stream",
     "text": [
      "\n",
      "AUC-ROC Score: 0.8207\n",
      "Average Precision Score (PR AUC): 0.5969\n"
     ]
    }
   ],
   "source": [
    "# Check if the base XGBoost model was defined correctly (library installed)\n",
    "if xgb_base is not None and XGBClassifier is not None:\n",
    "    # Instantiate the specific trainer for XGBoost\n",
    "    xgb_trainer = FraudModelTrainer(model=xgb_base,\n",
    "                                    model_name=\"XGBoost\",\n",
    "                                    preprocessor=preprocessor)\n",
    "\n",
    "    # Train\n",
    "    xgb_trainer.train(X_train, y_train)\n",
    "\n",
    "    # Evaluate and store results\n",
    "    xgb_eval_results = xgb_trainer.evaluate(X_test, y_test)\n",
    "\n",
    "    results['XGBoost'] = xgb_eval_results # Store main metrics\n",
    "else:\n",
    "    print(\"\\nThe base XGBoost model is not available (xgb_base is None).\")"
   ]
  },
  {
   "cell_type": "markdown",
   "id": "650195d8",
   "metadata": {},
   "source": [
    "### XGBoost Results Analysis\n",
    "\n",
    "The XGBoost model was trained using `scale_pos_weight` to address class imbalance. Based on the provided results, here is the analysis:\n",
    "\n",
    "**Overall Performance:**\n",
    "\n",
    "* **AUC-ROC:** The score of **0.8207** indicates good overall discrimination ability between the classes, although lower than the ~0.93 achieved by the Logistic Regression model in the previous run.\n",
    "* **Average Precision (PR AUC):** The score of **0.5969** is quite good for this highly imbalanced dataset (significantly better than the baseline fraud prevalence of ~0.78%). It suggests the model has skill in identifying fraud cases. However, this is also lower than the ~0.74 achieved by Logistic Regression.\n",
    "\n",
    "**Fraud Class (Class 1) Performance:**\n",
    "\n",
    "* **Precision:** The model achieved a **good Precision of 0.77**. This means that when XGBoost predicted fraud, it was correct 77% of the time. This is a significant improvement over the Logistic Regression model's precision (0.14) and results in far fewer False Positives.\n",
    "* **Recall:** The model has a **lower Recall of 0.48**. It only identified 48% (10 out of 21) of the actual fraud cases in the test set, missing 11 (False Negatives). This is considerably lower than the recall achieved by Logistic Regression (0.86).\n",
    "* **F1-Score:** The F1-score of **0.59** provides a balance between Precision and Recall. It is substantially better than Logistic Regression's F1-score (0.24), mainly due to the much higher precision.\n",
    "* **Confusion Matrix Interpretation:** The metrics correspond to identifying 10 actual frauds (TP), missing 11 frauds (FN), and incorrectly flagging only 3 legitimate transactions (FP). This profile represents a model that is cautious about flagging fraud (low FP) but consequently misses a larger portion of actual fraudulent activity (high FN).\n",
    "\n",
    "**Conclusion:**\n",
    "\n",
    "The XGBoost model (with `scale_pos_weight`) offers a **markedly different performance profile** compared to the balanced Logistic Regression. It achieves **high Precision (0.77)**, drastically reducing false alarms compared to LR. However, this comes at the cost of **lower Recall (0.48)**, meaning it fails to detect more than half of the actual fraud cases. While its F1-score is better than LR's, the overall AUC and Average Precision scores are lower in this run.\n",
    "\n",
    "The choice between this XGBoost configuration and the previous Logistic Regression configuration depends entirely on the business priority:\n",
    "* Choose **XGBoost** if minimizing **False Positives** (disrupting legitimate customers) is paramount, accepting that more fraud will be missed.\n",
    "* Choose **Logistic Regression** (as configured previously) if maximizing **Fraud Detection** (high Recall) is the top priority, accepting a high number of false alarms to investigate.\n",
    "\n",
    "Key predictive factors according to XGBoost include payment behavior (`prc_full_payment`, `payments`), balance (`balance`, `balance_frequency`), and purchase patterns (`purchases_frequency`)."
   ]
  },
  {
   "cell_type": "markdown",
   "id": "361f511c",
   "metadata": {},
   "source": [
    "### 3.2 What explanatory variable was the most powerful predictor for fraud?"
   ]
  },
  {
   "cell_type": "markdown",
   "id": "8c145c55",
   "metadata": {},
   "source": [
    "#### Logistic Regression"
   ]
  },
  {
   "cell_type": "code",
   "execution_count": 49,
   "id": "93469f2d",
   "metadata": {},
   "outputs": [
    {
     "data": {
      "application/vnd.microsoft.datawrangler.viewer.v0+json": {
       "columns": [
        {
         "name": "index",
         "rawType": "int64",
         "type": "integer"
        },
        {
         "name": "Feature",
         "rawType": "object",
         "type": "string"
        },
        {
         "name": "Coefficient",
         "rawType": "float64",
         "type": "float"
        },
        {
         "name": "Abs_Coefficient",
         "rawType": "float64",
         "type": "float"
        }
       ],
       "conversionMethod": "pd.DataFrame",
       "ref": "77969dde-36dc-4a23-8222-f4e3a4334563",
       "rows": [
        [
         "6",
         "purchases_frequency",
         "1.5526014225995972",
         "1.5526014225995972"
        ],
        [
         "5",
         "cash_advance",
         "1.1971107217008827",
         "1.1971107217008827"
        ],
        [
         "8",
         "purchases_installments_frequency",
         "-0.834568873411681",
         "0.834568873411681"
        ],
        [
         "9",
         "cash_advance_frequency",
         "-0.6748189767264993",
         "0.6748189767264993"
        ],
        [
         "15",
         "prc_full_payment",
         "-0.5651492607439322",
         "0.5651492607439322"
        ],
        [
         "16",
         "tenure",
         "0.537490162873899",
         "0.537490162873899"
        ],
        [
         "11",
         "purchases_trx",
         "0.47057669821257087",
         "0.47057669821257087"
        ],
        [
         "7",
         "oneoff_purchases_frequency",
         "-0.4510005524558651",
         "0.4510005524558651"
        ],
        [
         "2",
         "purchases",
         "0.3725819937021342",
         "0.3725819937021342"
        ],
        [
         "3",
         "oneoff_purchases",
         "0.29663300170166595",
         "0.29663300170166595"
        ]
       ],
       "shape": {
        "columns": 3,
        "rows": 10
       }
      },
      "text/html": [
       "<div>\n",
       "<style scoped>\n",
       "    .dataframe tbody tr th:only-of-type {\n",
       "        vertical-align: middle;\n",
       "    }\n",
       "\n",
       "    .dataframe tbody tr th {\n",
       "        vertical-align: top;\n",
       "    }\n",
       "\n",
       "    .dataframe thead th {\n",
       "        text-align: right;\n",
       "    }\n",
       "</style>\n",
       "<table border=\"1\" class=\"dataframe\">\n",
       "  <thead>\n",
       "    <tr style=\"text-align: right;\">\n",
       "      <th></th>\n",
       "      <th>Feature</th>\n",
       "      <th>Coefficient</th>\n",
       "      <th>Abs_Coefficient</th>\n",
       "    </tr>\n",
       "  </thead>\n",
       "  <tbody>\n",
       "    <tr>\n",
       "      <th>6</th>\n",
       "      <td>purchases_frequency</td>\n",
       "      <td>1.552601</td>\n",
       "      <td>1.552601</td>\n",
       "    </tr>\n",
       "    <tr>\n",
       "      <th>5</th>\n",
       "      <td>cash_advance</td>\n",
       "      <td>1.197111</td>\n",
       "      <td>1.197111</td>\n",
       "    </tr>\n",
       "    <tr>\n",
       "      <th>8</th>\n",
       "      <td>purchases_installments_frequency</td>\n",
       "      <td>-0.834569</td>\n",
       "      <td>0.834569</td>\n",
       "    </tr>\n",
       "    <tr>\n",
       "      <th>9</th>\n",
       "      <td>cash_advance_frequency</td>\n",
       "      <td>-0.674819</td>\n",
       "      <td>0.674819</td>\n",
       "    </tr>\n",
       "    <tr>\n",
       "      <th>15</th>\n",
       "      <td>prc_full_payment</td>\n",
       "      <td>-0.565149</td>\n",
       "      <td>0.565149</td>\n",
       "    </tr>\n",
       "    <tr>\n",
       "      <th>16</th>\n",
       "      <td>tenure</td>\n",
       "      <td>0.537490</td>\n",
       "      <td>0.537490</td>\n",
       "    </tr>\n",
       "    <tr>\n",
       "      <th>11</th>\n",
       "      <td>purchases_trx</td>\n",
       "      <td>0.470577</td>\n",
       "      <td>0.470577</td>\n",
       "    </tr>\n",
       "    <tr>\n",
       "      <th>7</th>\n",
       "      <td>oneoff_purchases_frequency</td>\n",
       "      <td>-0.451001</td>\n",
       "      <td>0.451001</td>\n",
       "    </tr>\n",
       "    <tr>\n",
       "      <th>2</th>\n",
       "      <td>purchases</td>\n",
       "      <td>0.372582</td>\n",
       "      <td>0.372582</td>\n",
       "    </tr>\n",
       "    <tr>\n",
       "      <th>3</th>\n",
       "      <td>oneoff_purchases</td>\n",
       "      <td>0.296633</td>\n",
       "      <td>0.296633</td>\n",
       "    </tr>\n",
       "  </tbody>\n",
       "</table>\n",
       "</div>"
      ],
      "text/plain": [
       "                             Feature  Coefficient  Abs_Coefficient\n",
       "6                purchases_frequency     1.552601         1.552601\n",
       "5                       cash_advance     1.197111         1.197111\n",
       "8   purchases_installments_frequency    -0.834569         0.834569\n",
       "9             cash_advance_frequency    -0.674819         0.674819\n",
       "15                  prc_full_payment    -0.565149         0.565149\n",
       "16                            tenure     0.537490         0.537490\n",
       "11                     purchases_trx     0.470577         0.470577\n",
       "7         oneoff_purchases_frequency    -0.451001         0.451001\n",
       "2                          purchases     0.372582         0.372582\n",
       "3                   oneoff_purchases     0.296633         0.296633"
      ]
     },
     "execution_count": 49,
     "metadata": {},
     "output_type": "execute_result"
    }
   ],
   "source": [
    "lr_importance_df = lr_trainer.get_feature_importance()\n",
    "lr_importance_df.head(10)"
   ]
  },
  {
   "cell_type": "markdown",
   "id": "14a28b94",
   "metadata": {},
   "source": [
    "**Key Features based on Coefficient Magnitude:**\n",
    "\n",
    "The model identified the following features as having the largest impact (highest absolute coefficient) on the prediction, after scaling:\n",
    "\n",
    "1.  **`purchases_frequency` (+1.55):** This feature represents **how often purchases are made** (likely a score from 0 to 1). The strong positive coefficient suggests that customers who purchase more frequently are predicted by this model as having a *significantly higher* probability of fraud.\n",
    "2.  **`cash_advance` (+1.20):** This is the **amount of cash advance taken** by the user. The positive coefficient indicates that higher amounts of cash advance are strongly associated with a *higher* predicted probability of fraud.\n",
    "3.  **`purchases_installments_frequency` (-0.83):** This reflects **how often installment purchases are made** (likely a score from 0 to 1). The negative coefficient suggests that customers who make installment purchases more frequently are predicted to have a *lower* probability of fraud.\n",
    "4.  **`cash_advance_frequency` (-0.67):** This represents **how often cash advances are taken** (likely a score from 0 to 1). The negative coefficient indicates that a higher frequency of taking cash advances is associated with a *lower* predicted probability of fraud according to this model. *(Note: This might seem counter-intuitive compared to the `cash_advance` amount coefficient and might warrant investigation - perhaps very frequent small advances differ from large infrequent ones?)*\n",
    "5.  **`prc_full_payment` (-0.57):** This is the **percentage of the full balance paid** by the user. The negative coefficient indicates that customers who pay off a larger proportion of their balance are predicted to have a *lower* probability of fraud.\n"
   ]
  },
  {
   "cell_type": "markdown",
   "id": "6c842bad",
   "metadata": {},
   "source": [
    "### XGBoost"
   ]
  },
  {
   "cell_type": "code",
   "execution_count": 51,
   "id": "fc2728ec",
   "metadata": {},
   "outputs": [
    {
     "name": "stdout",
     "output_type": "stream",
     "text": [
      "\n",
      "XGBoost processed.\n"
     ]
    }
   ],
   "source": [
    "# Obtener y guardar importancia\n",
    "xgb_importance_df = xgb_trainer.get_feature_importance()\n",
    "if xgb_importance_df is not None:\n",
    "    importances['XGBoost'] = xgb_importance_df # Guardar DataFrame de importancia\n",
    "    \n",
    "\n",
    "# Guardar el objeto entrenador si se necesita después (opcional)\n",
    "trainers['XGBoost'] = xgb_trainer\n",
    "print(\"\\nXGBoost processed.\")"
   ]
  },
  {
   "cell_type": "code",
   "execution_count": 53,
   "id": "2296c245",
   "metadata": {},
   "outputs": [
    {
     "data": {
      "application/vnd.microsoft.datawrangler.viewer.v0+json": {
       "columns": [
        {
         "name": "index",
         "rawType": "int64",
         "type": "integer"
        },
        {
         "name": "Feature",
         "rawType": "object",
         "type": "string"
        },
        {
         "name": "Importance",
         "rawType": "float32",
         "type": "float"
        }
       ],
       "conversionMethod": "pd.DataFrame",
       "ref": "3dbaa4d9-2394-40a7-9bd1-dbecdbdf314a",
       "rows": [
        [
         "13",
         "payments",
         "0.47281092"
        ],
        [
         "1",
         "balance_frequency",
         "0.098363355"
        ],
        [
         "0",
         "balance",
         "0.062623285"
        ],
        [
         "16",
         "tenure",
         "0.054824885"
        ],
        [
         "12",
         "credit_limit",
         "0.054299675"
        ],
        [
         "6",
         "purchases_frequency",
         "0.053524215"
        ],
        [
         "5",
         "cash_advance",
         "0.03632923"
        ],
        [
         "2",
         "purchases",
         "0.032190874"
        ],
        [
         "8",
         "purchases_installments_frequency",
         "0.022471517"
        ],
        [
         "10",
         "cash_advance_trx",
         "0.022417672"
        ]
       ],
       "shape": {
        "columns": 2,
        "rows": 10
       }
      },
      "text/html": [
       "<div>\n",
       "<style scoped>\n",
       "    .dataframe tbody tr th:only-of-type {\n",
       "        vertical-align: middle;\n",
       "    }\n",
       "\n",
       "    .dataframe tbody tr th {\n",
       "        vertical-align: top;\n",
       "    }\n",
       "\n",
       "    .dataframe thead th {\n",
       "        text-align: right;\n",
       "    }\n",
       "</style>\n",
       "<table border=\"1\" class=\"dataframe\">\n",
       "  <thead>\n",
       "    <tr style=\"text-align: right;\">\n",
       "      <th></th>\n",
       "      <th>Feature</th>\n",
       "      <th>Importance</th>\n",
       "    </tr>\n",
       "  </thead>\n",
       "  <tbody>\n",
       "    <tr>\n",
       "      <th>13</th>\n",
       "      <td>payments</td>\n",
       "      <td>0.472811</td>\n",
       "    </tr>\n",
       "    <tr>\n",
       "      <th>1</th>\n",
       "      <td>balance_frequency</td>\n",
       "      <td>0.098363</td>\n",
       "    </tr>\n",
       "    <tr>\n",
       "      <th>0</th>\n",
       "      <td>balance</td>\n",
       "      <td>0.062623</td>\n",
       "    </tr>\n",
       "    <tr>\n",
       "      <th>16</th>\n",
       "      <td>tenure</td>\n",
       "      <td>0.054825</td>\n",
       "    </tr>\n",
       "    <tr>\n",
       "      <th>12</th>\n",
       "      <td>credit_limit</td>\n",
       "      <td>0.054300</td>\n",
       "    </tr>\n",
       "    <tr>\n",
       "      <th>6</th>\n",
       "      <td>purchases_frequency</td>\n",
       "      <td>0.053524</td>\n",
       "    </tr>\n",
       "    <tr>\n",
       "      <th>5</th>\n",
       "      <td>cash_advance</td>\n",
       "      <td>0.036329</td>\n",
       "    </tr>\n",
       "    <tr>\n",
       "      <th>2</th>\n",
       "      <td>purchases</td>\n",
       "      <td>0.032191</td>\n",
       "    </tr>\n",
       "    <tr>\n",
       "      <th>8</th>\n",
       "      <td>purchases_installments_frequency</td>\n",
       "      <td>0.022472</td>\n",
       "    </tr>\n",
       "    <tr>\n",
       "      <th>10</th>\n",
       "      <td>cash_advance_trx</td>\n",
       "      <td>0.022418</td>\n",
       "    </tr>\n",
       "  </tbody>\n",
       "</table>\n",
       "</div>"
      ],
      "text/plain": [
       "                             Feature  Importance\n",
       "13                          payments    0.472811\n",
       "1                  balance_frequency    0.098363\n",
       "0                            balance    0.062623\n",
       "16                            tenure    0.054825\n",
       "12                      credit_limit    0.054300\n",
       "6                purchases_frequency    0.053524\n",
       "5                       cash_advance    0.036329\n",
       "2                          purchases    0.032191\n",
       "8   purchases_installments_frequency    0.022472\n",
       "10                  cash_advance_trx    0.022418"
      ]
     },
     "execution_count": 53,
     "metadata": {},
     "output_type": "execute_result"
    }
   ],
   "source": [
    "xgb_importance_df.head(10)"
   ]
  },
  {
   "cell_type": "markdown",
   "id": "430c56eb",
   "metadata": {},
   "source": [
    "**Key Features based on XGBoost Importance:**\n",
    "\n",
    "XGBoost identified the following features as most important based on its internal criteria (like gain or split frequency), suggesting they were most influential in distinguishing fraud within the model's decision trees:\n",
    "\n",
    "1.  **`payments` (~0.473):** The **amount of payments** made by the user. Its high importance suggests the actual value of payments is a critical factor.\n",
    "2.  **`balance_frequency` (~0.098):** How **frequently the balance is updated** (likely a score between 0 and 1). This indicates the regularity of balance updates matters.\n",
    "3.  **`balance` (~0.063):** The **customer's account balance**. This remains an important factor, as identified by linear models too.\n",
    "4.  **`tenure` (~0.055):** The **duration (in months) the customer has had the credit card service**.\n",
    "5.  **`credit_limit` (~0.054):** The **credit limit assigned to the customer**."
   ]
  }
 ],
 "metadata": {
  "kernelspec": {
   "display_name": ".venv",
   "language": "python",
   "name": "python3"
  },
  "language_info": {
   "codemirror_mode": {
    "name": "ipython",
    "version": 3
   },
   "file_extension": ".py",
   "mimetype": "text/x-python",
   "name": "python",
   "nbconvert_exporter": "python",
   "pygments_lexer": "ipython3",
   "version": "3.12.4"
  }
 },
 "nbformat": 4,
 "nbformat_minor": 5
}
