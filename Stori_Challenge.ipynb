{
 "cells": [
  {
   "cell_type": "markdown",
   "id": "fbdb0316",
   "metadata": {},
   "source": [
    "# Stori Data Science Challenge"
   ]
  },
  {
   "cell_type": "code",
   "execution_count": null,
   "id": "f607640e",
   "metadata": {},
   "outputs": [],
   "source": []
  }
 ],
 "metadata": {
  "kernelspec": {
   "display_name": ".venv",
   "language": "python",
   "name": "python3"
  },
  "language_info": {
   "name": "python",
   "version": "3.12.4"
  }
 },
 "nbformat": 4,
 "nbformat_minor": 5
}
